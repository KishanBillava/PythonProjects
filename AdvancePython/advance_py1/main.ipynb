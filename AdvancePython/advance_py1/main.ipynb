{
 "cells": [
  {
   "cell_type": "code",
   "execution_count": 57,
   "metadata": {},
   "outputs": [],
   "source": [
    "import os\n",
    "#from IPython.display import image\n",
    "import re\n",
    "import pickle\n",
    "from functools import partial\n",
    "import numpy as np\n",
    "from functools import reduce\n",
    "from collections import deque"
   ]
  },
  {
   "cell_type": "code",
   "execution_count": 24,
   "metadata": {},
   "outputs": [],
   "source": [
    "# Iterator"
   ]
  },
  {
   "cell_type": "code",
   "execution_count": null,
   "metadata": {},
   "outputs": [],
   "source": [
    "for i in [1,2,3, 4]:\n",
    "    print(i)"
   ]
  },
  {
   "cell_type": "code",
   "execution_count": null,
   "metadata": {},
   "outputs": [],
   "source": [
    "# Iterator is an object which implements the iterator protocol,\n",
    "# which consist of the methods iter() and next()"
   ]
  },
  {
   "cell_type": "code",
   "execution_count": null,
   "metadata": {},
   "outputs": [],
   "source": [
    "for k in {\"x\":1,\"y\":2}:\n",
    "    print(k)"
   ]
  },
  {
   "cell_type": "code",
   "execution_count": null,
   "metadata": {},
   "outputs": [],
   "source": [
    "my_list = [4,7,0,3]\n",
    "\n",
    "# get an iterator using iter()\n",
    "my_iter = iter(my_list)\n",
    "print(next(my_iter))\n",
    "print(next(my_iter))\n",
    "print(next(my_iter))"
   ]
  },
  {
   "cell_type": "code",
   "execution_count": null,
   "metadata": {},
   "outputs": [],
   "source": [
    "my_list = [4,7,0,3]\n",
    "\n",
    "iter_obj = iter(my_list)\n",
    "\n",
    "while True:\n",
    "    try:\n",
    "        elemet = next(iter_obj)\n",
    "        print(elemet)\n",
    "    except StopIteration:\n",
    "        break"
   ]
  },
  {
   "cell_type": "code",
   "execution_count": 7,
   "metadata": {},
   "outputs": [
    {
     "name": "stdout",
     "output_type": "stream",
     "text": [
      "0\n",
      "1\n",
      "1\n",
      "2\n",
      "3\n"
     ]
    }
   ],
   "source": [
    "# A simple generator for Fibonacci Numbers\n",
    "def fib(limit):\n",
    "    a,b  = 0,1\n",
    "\n",
    "    while a < limit:\n",
    "        yield a\n",
    "        a,b = b, a+b\n",
    "\n",
    "x = fib(5)\n",
    "#print(x.__next__())\n",
    "#print(x.__next__())\n",
    "# fib_list = []\n",
    "while True:\n",
    "    try:\n",
    "        #fib_list = []\n",
    "        elemet = next(x)\n",
    "        print(elemet)\n",
    "        #for elemet in x:\n",
    "        #fib_list.append(elemet)\n",
    "        #print(fib_list)\n",
    "    except StopIteration:\n",
    "        break"
   ]
  },
  {
   "cell_type": "code",
   "execution_count": 10,
   "metadata": {},
   "outputs": [
    {
     "name": "stdout",
     "output_type": "stream",
     "text": [
      "/home/kmb/Documents/VSCode/PythonC\n",
      "['.vscode', 'oop_case1', 'main.ipynb', '__pycache__']\n"
     ]
    }
   ],
   "source": [
    "print(os.getcwd())\n",
    "print(os.listdir())"
   ]
  },
  {
   "cell_type": "code",
   "execution_count": 17,
   "metadata": {},
   "outputs": [
    {
     "name": "stdout",
     "output_type": "stream",
     "text": [
      "0\n",
      "1\n",
      "2\n",
      "3\n"
     ]
    }
   ],
   "source": [
    "def myGenerator(x):\n",
    "    for i in range(x):\n",
    "        yield i\n",
    "\n",
    "seq = myGenerator(4)\n",
    "\n",
    "print(next(seq))\n",
    "print(next(seq))\n",
    "print(next(seq))\n",
    "print(next(seq))"
   ]
  },
  {
   "cell_type": "code",
   "execution_count": 26,
   "metadata": {},
   "outputs": [],
   "source": [
    "# List compre"
   ]
  },
  {
   "cell_type": "code",
   "execution_count": 18,
   "metadata": {},
   "outputs": [
    {
     "name": "stdout",
     "output_type": "stream",
     "text": [
      "['apple', 'banana', 'mango']\n"
     ]
    }
   ],
   "source": [
    "fruits = [\"apple\", \"banana\", \"cherry\", \"kiwi\", \"mango\"]\n",
    "\n",
    "newlist = []\n",
    "\n",
    "for x in fruits:\n",
    "    if \"a\" in x :\n",
    "        newlist.append(x)\n",
    "\n",
    "print(newlist)"
   ]
  },
  {
   "cell_type": "code",
   "execution_count": 19,
   "metadata": {},
   "outputs": [
    {
     "name": "stdout",
     "output_type": "stream",
     "text": [
      "['apple', 'banana', 'mango']\n"
     ]
    }
   ],
   "source": [
    "fruits = [\"apple\", \"banana\", \"cherry\", \"kiwi\", \"mango\"]\n",
    "\n",
    "newlist = [ x for x in fruits if \"a\" in x]\n",
    "\n",
    "print(newlist)"
   ]
  },
  {
   "cell_type": "code",
   "execution_count": 20,
   "metadata": {},
   "outputs": [
    {
     "name": "stdout",
     "output_type": "stream",
     "text": [
      "[0, 2, 4, 6, 8]\n"
     ]
    }
   ],
   "source": [
    "num = [x for x in range(10) if x%2 == 0]\n",
    "print(num)"
   ]
  },
  {
   "cell_type": "code",
   "execution_count": 21,
   "metadata": {},
   "outputs": [
    {
     "name": "stdout",
     "output_type": "stream",
     "text": [
      "['even', 'odd', 'even', 'odd', 'even', 'odd', 'even', 'odd', 'even', 'odd']\n"
     ]
    }
   ],
   "source": [
    "obj = [ \"even\" if x%2 == 0 else \"odd\" for x in range(10) ]\n",
    "print(obj)"
   ]
  },
  {
   "cell_type": "code",
   "execution_count": 22,
   "metadata": {},
   "outputs": [
    {
     "data": {
      "text/plain": [
       "[0, 1, 4, 9, 16, 25, 36, 49, 64, 81]"
      ]
     },
     "execution_count": 22,
     "metadata": {},
     "output_type": "execute_result"
    }
   ],
   "source": [
    "def double(x):\n",
    "    return x**2\n",
    "\n",
    "y = [double(x) for x in range(10)] \n",
    "y"
   ]
  },
  {
   "cell_type": "code",
   "execution_count": 23,
   "metadata": {},
   "outputs": [
    {
     "data": {
      "text/plain": [
       "{0: 0, 1: 1, 2: 4, 3: 9, 4: 16, 5: 25, 6: 36, 7: 49, 8: 64, 9: 81}"
      ]
     },
     "execution_count": 23,
     "metadata": {},
     "output_type": "execute_result"
    }
   ],
   "source": [
    "square = {i: i*i for i in range(10)}\n",
    "square"
   ]
  },
  {
   "cell_type": "code",
   "execution_count": 33,
   "metadata": {},
   "outputs": [],
   "source": [
    "# regular expression \n",
    "# re is a sequence of characters that defines a search pattern \n",
    "# Metacharacters are characters that are interpreted in a special way by a RegEx engine\n",
    "# [] . ^ $ * + ? {} () \\ |"
   ]
  },
  {
   "cell_type": "code",
   "execution_count": 32,
   "metadata": {},
   "outputs": [
    {
     "name": "stdout",
     "output_type": "stream",
     "text": [
      "Sucess\n"
     ]
    }
   ],
   "source": [
    "pattern = '^a...s$'\n",
    "test_string = 'abyss'\n",
    "\n",
    "result = re.match(pattern, test_string)\n",
    "\n",
    "if result:\n",
    "    print(\"Sucess\")\n",
    "else:\n",
    "    print(\"Unsucess\")"
   ]
  },
  {
   "cell_type": "code",
   "execution_count": 45,
   "metadata": {},
   "outputs": [
    {
     "name": "stdout",
     "output_type": "stream",
     "text": [
      "<re.Match object; span=(0, 1), match='a'>\n"
     ]
    }
   ],
   "source": [
    "pattern = r\"[abc]\"\n",
    "test_string = \"allat film titanic was released in 1998\"\n",
    "\n",
    "result = re.match(pattern, test_string) # re.search\n",
    "print(result)"
   ]
  },
  {
   "cell_type": "code",
   "execution_count": 46,
   "metadata": {},
   "outputs": [
    {
     "name": "stdout",
     "output_type": "stream",
     "text": [
      "['a', 'a', 'c', 'a', 'a']\n"
     ]
    }
   ],
   "source": [
    "# pattern = r\"[abc]\"\n",
    "test_string = \"all film titanic was released in 1998\"\n",
    "\n",
    "result = re.findall(r\"[abc]\" , test_string)\n",
    "print(result)"
   ]
  },
  {
   "cell_type": "code",
   "execution_count": 47,
   "metadata": {},
   "outputs": [],
   "source": [
    "# serialization \n"
   ]
  },
  {
   "cell_type": "code",
   "execution_count": 51,
   "metadata": {},
   "outputs": [],
   "source": [
    "f  = open(\"pickled.txt\", \"wb\")\n",
    "dct = {\"name\":\"Kishan\", \"age\":23, \"Gender\":\"Male\", \"Marks\":75}\n",
    "\n",
    "pickle.dump(dct, f)\n",
    "\n",
    "f.close()"
   ]
  },
  {
   "cell_type": "code",
   "execution_count": 52,
   "metadata": {},
   "outputs": [
    {
     "name": "stdout",
     "output_type": "stream",
     "text": [
      "{'name': 'Kishan', 'age': 23, 'Gender': 'Male', 'Marks': 75}\n"
     ]
    }
   ],
   "source": [
    "f = open(\"pickled.txt\", \"rb\")\n",
    "d = pickle.load(f)\n",
    "print(d)\n",
    "\n",
    "f.close()"
   ]
  },
  {
   "cell_type": "code",
   "execution_count": 53,
   "metadata": {},
   "outputs": [],
   "source": [
    "# Partial function "
   ]
  },
  {
   "cell_type": "code",
   "execution_count": 60,
   "metadata": {},
   "outputs": [
    {
     "name": "stdout",
     "output_type": "stream",
     "text": [
      "6^2 = 36\n",
      "6^3 = 216\n"
     ]
    },
    {
     "data": {
      "text/plain": [
       "216"
      ]
     },
     "execution_count": 60,
     "metadata": {},
     "output_type": "execute_result"
    }
   ],
   "source": [
    "def power(base, exponent):\n",
    "    print('{}^{} = {}'.format(base, exponent, base**exponent))\n",
    "    return base**exponent\n",
    "\n",
    "def square(base):\n",
    "    return power(base,2)\n",
    "\n",
    "def cube(base):\n",
    "    return power(base, 3)\n",
    "\n",
    "square(6)\n",
    "cube(6)\n"
   ]
  },
  {
   "cell_type": "code",
   "execution_count": 61,
   "metadata": {},
   "outputs": [
    {
     "name": "stdout",
     "output_type": "stream",
     "text": [
      "6^2 = 36\n",
      "6^3 = 216\n"
     ]
    },
    {
     "data": {
      "text/plain": [
       "216"
      ]
     },
     "execution_count": 61,
     "metadata": {},
     "output_type": "execute_result"
    }
   ],
   "source": [
    "from functools import partial\n",
    "\n",
    "square = partial(power, exponent=2)\n",
    "cube = partial(power, exponent=3)\n",
    "\n",
    "square(6)\n",
    "cube(6)\n"
   ]
  },
  {
   "cell_type": "code",
   "execution_count": 5,
   "metadata": {},
   "outputs": [
    {
     "data": {
      "text/plain": [
       "450"
      ]
     },
     "execution_count": 5,
     "metadata": {},
     "output_type": "execute_result"
    }
   ],
   "source": [
    "def f(a,b,c,x):\n",
    "    return 100*a +100*b + 10*c + x\n",
    "\n",
    "g = partial(f, 3,1,4)\n",
    "\n",
    "g(10)\n"
   ]
  },
  {
   "cell_type": "code",
   "execution_count": 6,
   "metadata": {},
   "outputs": [],
   "source": [
    "# closures"
   ]
  },
  {
   "cell_type": "code",
   "execution_count": 8,
   "metadata": {},
   "outputs": [
    {
     "name": "stdout",
     "output_type": "stream",
     "text": [
      "Kishan\n"
     ]
    }
   ],
   "source": [
    "def outerfunc(text):\n",
    "    text  = text\n",
    "\n",
    "    def innerfunc():\n",
    "        print(text)\n",
    "\n",
    "    # note we are returning func \n",
    "    \n",
    "    return innerfunc\n",
    "\n",
    "myfunc = outerfunc(\"Kishan\")\n",
    "\n",
    "myfunc()"
   ]
  },
  {
   "cell_type": "code",
   "execution_count": 9,
   "metadata": {},
   "outputs": [],
   "source": [
    "# decorators"
   ]
  },
  {
   "cell_type": "code",
   "execution_count": 18,
   "metadata": {},
   "outputs": [
    {
     "name": "stdout",
     "output_type": "stream",
     "text": [
      "120\n",
      "120\n"
     ]
    }
   ],
   "source": [
    "def factorial(n):\n",
    "\n",
    "    if type(n) == int and n >=0:\n",
    "        if n ==0:\n",
    "            return 1 \n",
    "        else:\n",
    "            return n * factorial(n-1)\n",
    "\n",
    "    else: \n",
    "        raise TypeError(\"Enter positive number\")\n",
    "\n",
    "print(factorial(5))\n",
    "\n",
    "print(5*4*3*2*1)"
   ]
  },
  {
   "cell_type": "code",
   "execution_count": 25,
   "metadata": {},
   "outputs": [
    {
     "data": {
      "text/plain": [
       "33"
      ]
     },
     "execution_count": 25,
     "metadata": {},
     "output_type": "execute_result"
    }
   ],
   "source": [
    "# funcation returning function \n",
    "\n",
    "def f(x):\n",
    "    def g(y):\n",
    "        return y + x + 3\n",
    "    return g\n",
    "\n",
    "x1 = f(10)\n",
    "x1(20)\n"
   ]
  },
  {
   "cell_type": "code",
   "execution_count": 27,
   "metadata": {},
   "outputs": [
    {
     "data": {
      "text/plain": [
       "229"
      ]
     },
     "execution_count": 27,
     "metadata": {},
     "output_type": "execute_result"
    }
   ],
   "source": [
    "def polynomial_creator(a,b,c):\n",
    "\n",
    "    def polynomial(x):\n",
    "        return a*x**2 + b*x + c\n",
    "    \n",
    "    return polynomial\n",
    "\n",
    "p1 = polynomial_creator(2,3,-1)\n",
    "p2 = p1(10)\n",
    "p2"
   ]
  },
  {
   "cell_type": "code",
   "execution_count": 31,
   "metadata": {},
   "outputs": [
    {
     "name": "stdout",
     "output_type": "stream",
     "text": [
      "before calling\n",
      "Hello func\n",
      "after calling\n"
     ]
    }
   ],
   "source": [
    "def our_decorator(func):\n",
    "    def func_wrap(x):\n",
    "        print(\"before calling\")\n",
    "        func(x)\n",
    "        print(\"after calling\")\n",
    "    return func_wrap\n",
    "\n",
    "@our_decorator\n",
    "def foo(x):\n",
    "    print(f\"{x} func\")\n",
    "\n",
    "foo(\"Hello\")\n"
   ]
  },
  {
   "cell_type": "code",
   "execution_count": 33,
   "metadata": {},
   "outputs": [
    {
     "name": "stdout",
     "output_type": "stream",
     "text": [
      "1 1\n",
      "2 2\n",
      "3 6\n",
      "4 24\n",
      "5 120\n",
      "6 720\n",
      "7 5040\n",
      "8 40320\n",
      "9 362880\n"
     ]
    }
   ],
   "source": [
    "def arg_num(f):\n",
    "    def helper(x):\n",
    "        if type(x) == int and x > 0:\n",
    "            return f(x)\n",
    "        else:\n",
    "            raise Exception(\"Argument\")\n",
    "    return helper\n",
    "\n",
    "\n",
    "@arg_num\n",
    "def factorial(n):\n",
    "    if n==1:\n",
    "        return 1\n",
    "    else:\n",
    "        return n * factorial(n-1)\n",
    "\n",
    "for i in range(1, 10):\n",
    "    print(i, factorial(i))"
   ]
  },
  {
   "cell_type": "code",
   "execution_count": 34,
   "metadata": {},
   "outputs": [],
   "source": [
    "# Map Filter Reduce "
   ]
  },
  {
   "cell_type": "code",
   "execution_count": 35,
   "metadata": {},
   "outputs": [
    {
     "data": {
      "text/plain": [
       "[1, 4, 9, 16]"
      ]
     },
     "execution_count": 35,
     "metadata": {},
     "output_type": "execute_result"
    }
   ],
   "source": [
    "items = [1,2,3,4]\n",
    "square = []\n",
    "for x in items:\n",
    "    square.append(x**2)\n",
    "\n",
    "square"
   ]
  },
  {
   "cell_type": "code",
   "execution_count": 38,
   "metadata": {},
   "outputs": [
    {
     "name": "stdout",
     "output_type": "stream",
     "text": [
      "1\n",
      "4\n",
      "9\n",
      "16\n"
     ]
    }
   ],
   "source": [
    "items = [1,2,3,4]\n",
    "\n",
    "def square(x):\n",
    "    return x**2\n",
    "\n",
    "# list(map(square, items))\n",
    "\n",
    "for num in map(square, items):\n",
    "    print(num)"
   ]
  },
  {
   "cell_type": "code",
   "execution_count": 41,
   "metadata": {},
   "outputs": [
    {
     "data": {
      "text/plain": [
       "[1, 4, 9, 16]"
      ]
     },
     "execution_count": 41,
     "metadata": {},
     "output_type": "execute_result"
    }
   ],
   "source": [
    "list(map(lambda x:x**2, [1,2,3,4]))"
   ]
  },
  {
   "cell_type": "code",
   "execution_count": 43,
   "metadata": {},
   "outputs": [
    {
     "name": "stdout",
     "output_type": "stream",
     "text": [
      "[0, 0, 0.0]\n",
      "[1, 1, 1.0]\n",
      "[4, 8, 1.4142135623730951]\n",
      "[9, 27, 1.7320508075688772]\n",
      "[16, 64, 2.0]\n"
     ]
    }
   ],
   "source": [
    "def square(x):\n",
    "    return (x**2)\n",
    "\n",
    "def cube(x):\n",
    "    return (x**3)\n",
    "\n",
    "def sqroot(x):\n",
    "    return (np.sqrt(x))\n",
    "\n",
    "\n",
    "funcs = [square, cube, sqroot]\n",
    "\n",
    "for r in range(5):\n",
    "    value = map(lambda x:x(r), funcs)\n",
    "    print (list(value))"
   ]
  },
  {
   "cell_type": "code",
   "execution_count": 45,
   "metadata": {},
   "outputs": [
    {
     "name": "stdout",
     "output_type": "stream",
     "text": [
      "[5, 12, 21, 32]\n"
     ]
    }
   ],
   "source": [
    "num1 = [1,2,3,4]\n",
    "num2 = [5,6,7,8]\n",
    "\n",
    "map_iter = map(lambda x,y:x*y, num1, num2)\n",
    "print(list(map_iter))"
   ]
  },
  {
   "cell_type": "code",
   "execution_count": 46,
   "metadata": {},
   "outputs": [
    {
     "name": "stdout",
     "output_type": "stream",
     "text": [
      "[-5, -4, -3, -2, -1, 0, 1, 2, 3, 4]\n"
     ]
    },
    {
     "data": {
      "text/plain": [
       "[1, 2, 3, 4]"
      ]
     },
     "execution_count": 46,
     "metadata": {},
     "output_type": "execute_result"
    }
   ],
   "source": [
    "r = list(range(-5,5))\n",
    "print(r)\n",
    "\n",
    "res = []\n",
    "for x in r :\n",
    "    if x > 0:\n",
    "        res.append(x)\n",
    "\n",
    "res"
   ]
  },
  {
   "cell_type": "code",
   "execution_count": 47,
   "metadata": {},
   "outputs": [
    {
     "data": {
      "text/plain": [
       "[1, 2, 3, 4]"
      ]
     },
     "execution_count": 47,
     "metadata": {},
     "output_type": "execute_result"
    }
   ],
   "source": [
    "list(filter(lambda x: x> 0, r))"
   ]
  },
  {
   "cell_type": "code",
   "execution_count": 55,
   "metadata": {},
   "outputs": [
    {
     "name": "stdout",
     "output_type": "stream",
     "text": [
      "10\n",
      "10\n",
      "10\n"
     ]
    },
    {
     "data": {
      "text/plain": [
       "10"
      ]
     },
     "execution_count": 55,
     "metadata": {},
     "output_type": "execute_result"
    }
   ],
   "source": [
    "numbers = [1,2,3,4]\n",
    "\n",
    "#--------------------------1\n",
    "total = 0\n",
    "for num in numbers:\n",
    "    total += num\n",
    "print(total)\n",
    "\n",
    "#------------------------------2\n",
    "print(sum(numbers))\n",
    "\n",
    "# ---------------------------3\n",
    "def add(a,b):\n",
    "    return a+b\n",
    "# 1+2 --> 3+3 --> 6+4 --> 10 \n",
    "print(reduce(add,numbers))\n",
    "\n",
    "# -------------------------4\n",
    "reduce(lambda x,y:x+y, [1,2,3,4])\n"
   ]
  },
  {
   "cell_type": "code",
   "execution_count": 56,
   "metadata": {},
   "outputs": [],
   "source": [
    "# OOP "
   ]
  },
  {
   "cell_type": "code",
   "execution_count": 64,
   "metadata": {},
   "outputs": [
    {
     "name": "stdout",
     "output_type": "stream",
     "text": [
      "\n",
      "True\n",
      "first second third\n",
      "third\n",
      "\n",
      "first\n",
      "second\n",
      "third\n",
      "\n",
      "['first', 'second', 'third']\n",
      "\n",
      "['first', 'second', 'third', True]\n"
     ]
    }
   ],
   "source": [
    "# Stack -- push -- pop -- \n",
    "class stacktop:\n",
    "    def __init__(self):\n",
    "        self.items = []\n",
    "\n",
    "    def __str__(self):\n",
    "        return ' '.join([str(i) for i in self.items])\n",
    "\n",
    "    def isEmpty(self):\n",
    "        return self.items == []\n",
    "\n",
    "    def push(self, num):\n",
    "        self.items.append(num)\n",
    "\n",
    "    def pop(self):\n",
    "        return self.items.pop()\n",
    "\n",
    "    def peek(self):\n",
    "        return self.items[len(self.items)-1]\n",
    "\n",
    "    def size(self):\n",
    "        return len(self.items)\n",
    "\n",
    "    def display_all_items(self):\n",
    "        return (self.items)\n",
    "\n",
    "\n",
    "# ----------------------------------------------\n",
    "s = stacktop()\n",
    "print(s)\n",
    "print(s.isEmpty())\n",
    "s.push('first')\n",
    "s.push('second')\n",
    "s.push('third')\n",
    "\n",
    "print(s)\n",
    "\n",
    "print(s.peek())\n",
    "print()\n",
    "\n",
    "for i in s.display_all_items():\n",
    "    print(i)\n",
    "print()\n",
    "\n",
    "print(s.display_all_items())\n",
    "print()\n",
    "\n",
    "\n",
    "s.push(True)\n",
    "print(s.display_all_items())\n"
   ]
  },
  {
   "cell_type": "code",
   "execution_count": null,
   "metadata": {},
   "outputs": [],
   "source": [
    "class stacktop_0:\n",
    "    def __init__(self):\n",
    "        self.items = []\n",
    "\n",
    "    def __str__(self):\n",
    "        return ' '.join([str(i) for i in self.items])\n",
    "\n",
    "    def isEmpty(self):\n",
    "        return self.items == []\n",
    "\n",
    "    def push(self, num):\n",
    "        self.items.insert(0, num)\n",
    "\n",
    "    def pop(self):\n",
    "        return self.items.pop(0)\n",
    "\n",
    "    def peek(self):\n",
    "        return self.items[0]\n",
    "\n",
    "    def size(self):\n",
    "        return len(self.items)\n",
    "\n",
    "    def display_all_items(self):\n",
    "        return (self.items)\n"
   ]
  }
 ],
 "metadata": {
  "interpreter": {
   "hash": "e7370f93d1d0cde622a1f8e1c04877d8463912d04d973331ad4851f04de6915a"
  },
  "kernelspec": {
   "display_name": "Python 3.8.10 64-bit",
   "language": "python",
   "name": "python3"
  },
  "language_info": {
   "codemirror_mode": {
    "name": "ipython",
    "version": 3
   },
   "file_extension": ".py",
   "mimetype": "text/x-python",
   "name": "python",
   "nbconvert_exporter": "python",
   "pygments_lexer": "ipython3",
   "version": "3.8.8"
  },
  "orig_nbformat": 4
 },
 "nbformat": 4,
 "nbformat_minor": 2
}
