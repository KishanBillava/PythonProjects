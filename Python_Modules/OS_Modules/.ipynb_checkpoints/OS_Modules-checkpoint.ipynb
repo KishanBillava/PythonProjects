{
 "cells": [
  {
   "cell_type": "code",
   "execution_count": 10,
   "id": "da610a54-27ba-471a-8aad-471ff6cb7432",
   "metadata": {},
   "outputs": [],
   "source": [
    "#\n",
    "import os\n",
    "import shutil\n",
    "import send2trash"
   ]
  },
  {
   "cell_type": "code",
   "execution_count": 2,
   "id": "b2ec9276-02fd-4358-90fa-df48dafb6c58",
   "metadata": {},
   "outputs": [
    {
     "data": {
      "text/plain": [
       "'/home/kmb/data/GitHub/PythonProjects/Python_Modules/OS_Modules'"
      ]
     },
     "execution_count": 2,
     "metadata": {},
     "output_type": "execute_result"
    }
   ],
   "source": [
    "pwd"
   ]
  },
  {
   "cell_type": "code",
   "execution_count": 3,
   "id": "bc22f68d-7d80-484f-9525-c6e9aff1265b",
   "metadata": {},
   "outputs": [],
   "source": [
    "f = open('practice.txt','w+')\n",
    "f.write('test')\n",
    "f.close()"
   ]
  },
  {
   "cell_type": "code",
   "execution_count": 5,
   "id": "758cbb40-8315-4935-bf35-580214c9ac8a",
   "metadata": {},
   "outputs": [
    {
     "data": {
      "text/plain": [
       "'/home/kmb/data/GitHub/PythonProjects/Python_Modules/OS_Modules'"
      ]
     },
     "execution_count": 5,
     "metadata": {},
     "output_type": "execute_result"
    }
   ],
   "source": [
    "os.getcwd()"
   ]
  },
  {
   "cell_type": "code",
   "execution_count": 6,
   "id": "f0bbc6a0-bf82-4519-ba1f-cd28189095be",
   "metadata": {},
   "outputs": [
    {
     "data": {
      "text/plain": [
       "['OS_Modules.ipynb', '.ipynb_checkpoints', 'practice.txt']"
      ]
     },
     "execution_count": 6,
     "metadata": {},
     "output_type": "execute_result"
    }
   ],
   "source": [
    "# In your current directory\n",
    "os.listdir()"
   ]
  },
  {
   "cell_type": "code",
   "execution_count": 7,
   "id": "b5def2ef-b37c-40fb-9d84-d6ba208363b7",
   "metadata": {},
   "outputs": [
    {
     "data": {
      "text/plain": [
       "['Basic_Data_Structure_Algorithms',\n",
       " 'Python_Modules',\n",
       " '.ipynb_checkpoints',\n",
       " 'README.md',\n",
       " 'Python_JSON',\n",
       " 'Python_Numpy',\n",
       " 'Core_python',\n",
       " '.git',\n",
       " 'Python_Web_Scraping']"
      ]
     },
     "execution_count": 7,
     "metadata": {},
     "output_type": "execute_result"
    }
   ],
   "source": [
    "# In any directory you pass\n",
    "os.listdir(\"/home/kmb/data/GitHub/PythonProjects/\")"
   ]
  },
  {
   "cell_type": "code",
   "execution_count": 9,
   "id": "98b28d8e-679e-4ce4-afa3-98f6344ccdcd",
   "metadata": {},
   "outputs": [],
   "source": [
    "# shutil.move('practice.txt','/home/kmb/data/')\n",
    "# send2trash.send2trash('practice.txt')"
   ]
  },
  {
   "cell_type": "code",
   "execution_count": 12,
   "id": "854047e3-a5c7-486d-92d6-290f4c85e7d0",
   "metadata": {},
   "outputs": [],
   "source": [
    "# Walking through a directory"
   ]
  },
  {
   "cell_type": "code",
   "execution_count": 13,
   "id": "280b8a80-50a9-4c49-86fd-fa4a6da4fb68",
   "metadata": {},
   "outputs": [],
   "source": [
    "#check os.walk()"
   ]
  },
  {
   "cell_type": "code",
   "execution_count": null,
   "id": "8ff342d0-89f6-4fca-8239-4e2b76e866ac",
   "metadata": {},
   "outputs": [],
   "source": []
  }
 ],
 "metadata": {
  "kernelspec": {
   "display_name": "Python 3",
   "language": "python",
   "name": "python3"
  },
  "language_info": {
   "codemirror_mode": {
    "name": "ipython",
    "version": 3
   },
   "file_extension": ".py",
   "mimetype": "text/x-python",
   "name": "python",
   "nbconvert_exporter": "python",
   "pygments_lexer": "ipython3",
   "version": "3.8.8"
  }
 },
 "nbformat": 4,
 "nbformat_minor": 5
}
