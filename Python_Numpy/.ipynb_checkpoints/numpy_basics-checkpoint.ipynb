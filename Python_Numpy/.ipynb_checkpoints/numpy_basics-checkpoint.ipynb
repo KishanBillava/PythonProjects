{
 "cells": [
  {
   "cell_type": "code",
   "execution_count": 2,
   "id": "6beded77-db75-485d-8d2d-cac59c1fa76d",
   "metadata": {},
   "outputs": [],
   "source": [
    "#"
   ]
  },
  {
   "cell_type": "code",
   "execution_count": 1,
   "id": "74a30207-e840-4d9b-a509-fd200abcbeba",
   "metadata": {},
   "outputs": [],
   "source": [
    "import numpy as np "
   ]
  },
  {
   "cell_type": "markdown",
   "id": "6a27b4a0-971e-42bb-aed4-847b175e0b37",
   "metadata": {},
   "source": [
    "# Arrays vs Lists"
   ]
  },
  {
   "cell_type": "code",
   "execution_count": 13,
   "id": "73c84781-4b82-4cf1-8919-46e2895d82d9",
   "metadata": {},
   "outputs": [
    {
     "name": "stdout",
     "output_type": "stream",
     "text": [
      "0\n",
      "[1, 2, 3]\n",
      "[1, 2, 3]\n",
      "1\n",
      "[1, 4, 3]\n",
      "[1, 8, 3]\n",
      "2\n",
      "[1, 4, 9]\n",
      "[1, 8, 27]\n",
      "[2, 12, 36]\n"
     ]
    }
   ],
   "source": [
    "list_two = list(range(1,4))\n",
    "list_three = list(range(1,4))\n",
    "list_sum = []\n",
    "\n",
    "for index in range(3):\n",
    "    print(index)\n",
    "    list_two[index] = list_two[index]**2\n",
    "    print(list_two)\n",
    "    list_three[index] = list_three[index]**3\n",
    "    print(list_three)\n",
    "    list_sum.append(list_two[index] + list_three[index])\n",
    "print(list_sum)"
   ]
  },
  {
   "cell_type": "code",
   "execution_count": 15,
   "id": "ad36d0a2-2b92-4a13-82dc-1fb2e7248f90",
   "metadata": {},
   "outputs": [
    {
     "data": {
      "text/plain": [
       "[1, 4, 9, 1, 8, 27]"
      ]
     },
     "execution_count": 15,
     "metadata": {},
     "output_type": "execute_result"
    }
   ],
   "source": [
    "list_two + list_three"
   ]
  },
  {
   "cell_type": "code",
   "execution_count": 16,
   "id": "1b271d71-b7ec-41b1-901f-2fe3a71738e6",
   "metadata": {},
   "outputs": [
    {
     "data": {
      "text/plain": [
       "array([ 2, 12, 36])"
      ]
     },
     "execution_count": 16,
     "metadata": {},
     "output_type": "execute_result"
    }
   ],
   "source": [
    "array_two = np.arange(1,4)**2\n",
    "array_three = np.arange(1,4)**3\n",
    "array_two + array_three"
   ]
  },
  {
   "cell_type": "code",
   "execution_count": 29,
   "id": "e0747849-88cc-4b51-a6f5-30f8f3af2fac",
   "metadata": {},
   "outputs": [],
   "source": [
    "sample_array  = [1,2,3]"
   ]
  },
  {
   "cell_type": "code",
   "execution_count": 35,
   "id": "9ab5985a-f895-43fa-b142-6f305dab1b1b",
   "metadata": {},
   "outputs": [
    {
     "data": {
      "text/plain": [
       "array([ 1, 16, 81])"
      ]
     },
     "execution_count": 35,
     "metadata": {},
     "output_type": "execute_result"
    }
   ],
   "source": [
    "np.power(sample_array, 4)"
   ]
  },
  {
   "cell_type": "code",
   "execution_count": 31,
   "id": "d20a98bd-01a7-4827-a78c-05d5cfef7917",
   "metadata": {},
   "outputs": [
    {
     "data": {
      "text/plain": [
       "array([ 1, 16, 81])"
      ]
     },
     "execution_count": 31,
     "metadata": {},
     "output_type": "execute_result"
    }
   ],
   "source": [
    "np.array(sample_array)** 4"
   ]
  },
  {
   "cell_type": "code",
   "execution_count": 32,
   "id": "a1188890-00b8-43eb-bced-d2bed64a856e",
   "metadata": {},
   "outputs": [
    {
     "data": {
      "text/plain": [
       "array([-1, -2, -3])"
      ]
     },
     "execution_count": 32,
     "metadata": {},
     "output_type": "execute_result"
    }
   ],
   "source": [
    "np.negative(sample_array)"
   ]
  },
  {
   "cell_type": "code",
   "execution_count": 33,
   "id": "9aec5fc9-5414-49e0-9f11-77e5436bf630",
   "metadata": {},
   "outputs": [
    {
     "data": {
      "text/plain": [
       "array([ 2.71828183,  7.3890561 , 20.08553692])"
      ]
     },
     "execution_count": 33,
     "metadata": {},
     "output_type": "execute_result"
    }
   ],
   "source": [
    "np.exp(sample_array)"
   ]
  },
  {
   "cell_type": "code",
   "execution_count": 36,
   "id": "4bcbe661-1e0a-4b9c-b8eb-6d6dcd9be60c",
   "metadata": {},
   "outputs": [
    {
     "data": {
      "text/plain": [
       "array([0.        , 0.69314718, 1.09861229])"
      ]
     },
     "execution_count": 36,
     "metadata": {},
     "output_type": "execute_result"
    }
   ],
   "source": [
    "np.log(sample_array)"
   ]
  },
  {
   "cell_type": "code",
   "execution_count": 37,
   "id": "57875d33-6456-4117-80ad-78b3d9e6be0a",
   "metadata": {},
   "outputs": [
    {
     "data": {
      "text/plain": [
       "array([0.84147098, 0.90929743, 0.14112001])"
      ]
     },
     "execution_count": 37,
     "metadata": {},
     "output_type": "execute_result"
    }
   ],
   "source": [
    "np.sin(sample_array)"
   ]
  },
  {
   "cell_type": "markdown",
   "id": "a6c705e6-dcee-40c5-a550-39e3b28b711e",
   "metadata": {},
   "source": [
    "# Multidimensional Arrays"
   ]
  },
  {
   "cell_type": "code",
   "execution_count": 64,
   "id": "234befd4-29fb-4b31-bc27-cdeded95d619",
   "metadata": {},
   "outputs": [],
   "source": [
    "x = np.arange(3)\n",
    "y = np.arange(3, 6)\n",
    "z = np.arange(6, 9)"
   ]
  },
  {
   "cell_type": "code",
   "execution_count": 72,
   "id": "a186d57b-e38a-45c8-99be-2b70e8504946",
   "metadata": {},
   "outputs": [
    {
     "name": "stdout",
     "output_type": "stream",
     "text": [
      "(3, 3) \n",
      "\n",
      "[[0 1 2]\n",
      " [3 4 5]\n",
      " [6 7 8]] \n",
      "\n",
      "int16 \n",
      "\n",
      "2\n",
      "2\n"
     ]
    }
   ],
   "source": [
    "multi_array = np.array([x,y,z], dtype=np.int16)\n",
    "print(multi_array.shape,'\\n')\n",
    "print(multi_array,'\\n')\n",
    "print(multi_array.dtype,'\\n')\n",
    "\n",
    "print(multi_array[0,2])\n",
    "print(multi_array[0][2])"
   ]
  },
  {
   "cell_type": "code",
   "execution_count": null,
   "id": "21529d35-c14c-4dfa-b88a-d9bc864c813f",
   "metadata": {},
   "outputs": [],
   "source": []
  },
  {
   "cell_type": "code",
   "execution_count": 63,
   "id": "65c47485-0297-4034-9bd6-9b16114881ce",
   "metadata": {},
   "outputs": [
    {
     "name": "stdout",
     "output_type": "stream",
     "text": [
      "[ 1.   3.9  6.8  9.7 12.6 15.5 18.4 21.3 24.2 27.1] \n",
      "\n",
      "[ 1  4  7 10 13 16 19 22 25 28]\n"
     ]
    }
   ],
   "source": [
    "w = np.linspace(1,30,10,False)\n",
    "b = np.arange(1,30, 3)\n",
    "print(w,'\\n')\n",
    "print(b)"
   ]
  },
  {
   "cell_type": "markdown",
   "id": "da8bdeb2-23dd-459d-abdf-33b176676df0",
   "metadata": {
    "tags": []
   },
   "source": [
    "# Slicing"
   ]
  },
  {
   "cell_type": "code",
   "execution_count": 2,
   "id": "bc10c685-4b01-442d-b6d1-c69bf6940378",
   "metadata": {},
   "outputs": [],
   "source": [
    "#"
   ]
  },
  {
   "cell_type": "code",
   "execution_count": 5,
   "id": "b9d13a1f-1ddf-426c-bea4-643167c6ed4a",
   "metadata": {},
   "outputs": [
    {
     "name": "stdout",
     "output_type": "stream",
     "text": [
      "[1 2 3 4 5 6 7 8 9]\n",
      "[3 4 5 6 7]\n",
      "[3 5 7]\n"
     ]
    }
   ],
   "source": [
    "x = np.arange(1,10)\n",
    "print(x)\n",
    "print(x[2:7])\n",
    "print(x[2:7:2])"
   ]
  },
  {
   "cell_type": "code",
   "execution_count": 7,
   "id": "971eb1fd-f3b1-4f4c-9b1a-d4eacdc04877",
   "metadata": {},
   "outputs": [
    {
     "name": "stdout",
     "output_type": "stream",
     "text": [
      "[[0 1 2]\n",
      " [3 4 5]\n",
      " [6 7 8]]\n"
     ]
    }
   ],
   "source": [
    "x = np.arange(9).reshape(3,3)\n",
    "print(x)"
   ]
  },
  {
   "cell_type": "code",
   "execution_count": 9,
   "id": "c8ebcede-d559-4698-8500-62c0c8ad7c23",
   "metadata": {},
   "outputs": [
    {
     "name": "stdout",
     "output_type": "stream",
     "text": [
      "[[[ 0  1  2]\n",
      "  [ 3  4  5]]\n",
      "\n",
      " [[ 6  7  8]\n",
      "  [ 9 10 11]]\n",
      "\n",
      " [[12 13 14]\n",
      "  [15 16 17]]]\n"
     ]
    }
   ],
   "source": [
    "x = np.arange(18).reshape(3,2,3)\n",
    "print(x)"
   ]
  },
  {
   "cell_type": "code",
   "execution_count": 11,
   "id": "c62329af-0d5e-40ff-869e-cf0def7d4f30",
   "metadata": {},
   "outputs": [
    {
     "data": {
      "text/plain": [
       "15"
      ]
     },
     "execution_count": 11,
     "metadata": {},
     "output_type": "execute_result"
    }
   ],
   "source": [
    "x[2,1,0]"
   ]
  },
  {
   "cell_type": "code",
   "execution_count": 18,
   "id": "2c266bfa-cf6a-4037-a392-a01c28fca38c",
   "metadata": {},
   "outputs": [
    {
     "data": {
      "text/plain": [
       "array([[ 6,  7,  8],\n",
       "       [ 9, 10, 11]])"
      ]
     },
     "execution_count": 18,
     "metadata": {},
     "output_type": "execute_result"
    }
   ],
   "source": [
    "x[1,...]   # x[1,:,:] #x[1,:2,:3]  # x[1,0:2,0:3]  # x[1] "
   ]
  },
  {
   "cell_type": "code",
   "execution_count": 22,
   "id": "6158215b-bdf9-4d15-8a84-9f7e7503b661",
   "metadata": {},
   "outputs": [
    {
     "data": {
      "text/plain": [
       "array([[ 6,  8],\n",
       "       [ 9, 11]])"
      ]
     },
     "execution_count": 22,
     "metadata": {},
     "output_type": "execute_result"
    }
   ],
   "source": [
    "x[1,:2,:3 :2] "
   ]
  },
  {
   "cell_type": "code",
   "execution_count": 25,
   "id": "90957fdd-2968-4654-8630-84a5e8a32072",
   "metadata": {},
   "outputs": [
    {
     "name": "stdout",
     "output_type": "stream",
     "text": [
      "[[[False False False]\n",
      "  [False False False]]\n",
      "\n",
      " [[ True  True  True]\n",
      "  [ True  True  True]]\n",
      "\n",
      " [[ True  True  True]\n",
      "  [ True  True  True]]]\n"
     ]
    },
    {
     "data": {
      "text/plain": [
       "array([ 6,  7,  8,  9, 10, 11, 12, 13, 14, 15, 16, 17])"
      ]
     },
     "execution_count": 25,
     "metadata": {},
     "output_type": "execute_result"
    }
   ],
   "source": [
    "comparision_operation = x > 5\n",
    "print(comparision_operation)\n",
    "x[x>5] # x[comparision_operation]  "
   ]
  },
  {
   "cell_type": "code",
   "execution_count": 27,
   "id": "aee15db3-6a56-4042-a482-6e73844d5425",
   "metadata": {},
   "outputs": [
    {
     "data": {
      "text/plain": [
       "17"
      ]
     },
     "execution_count": 27,
     "metadata": {},
     "output_type": "execute_result"
    }
   ],
   "source": [
    "x.max() \n",
    "# x.min() "
   ]
  },
  {
   "cell_type": "markdown",
   "id": "8d0d1283-5e95-4a34-805a-6c636711d3b0",
   "metadata": {},
   "source": [
    "#  Manipulating Array Shapes"
   ]
  },
  {
   "cell_type": "code",
   "execution_count": 31,
   "id": "3d9d556c-ea43-4eb4-beb6-f9201ffdbafc",
   "metadata": {},
   "outputs": [
    {
     "name": "stdout",
     "output_type": "stream",
     "text": [
      "[[0 1 2]\n",
      " [3 4 5]\n",
      " [6 7 8]] \n",
      "\n",
      "[0 1 2 3 4 5 6 7 8] \n",
      "\n",
      "[0 1 2 3 4 5 6 7 8]\n"
     ]
    }
   ],
   "source": [
    "x = np.arange(9).reshape(3,3)\n",
    "print(x,'\\n')\n",
    "ravelled_array = x.ravel()\n",
    "# return view of original array\n",
    "print(ravelled_array,'\\n')\n",
    "flattened_array = x.flatten() \n",
    "# return copy and allocated new memory \n",
    "print(flattened_array)"
   ]
  },
  {
   "cell_type": "code",
   "execution_count": 37,
   "id": "53d71e63-35d8-4374-bdc9-de8132dcdde5",
   "metadata": {},
   "outputs": [
    {
     "name": "stdout",
     "output_type": "stream",
     "text": [
      "[[0 1 2]\n",
      " [3 4 5]\n",
      " [6 7 8]] \n",
      "\n",
      "[ 0 10  2  3  4  5  6  7  8] \n",
      "\n",
      "[[ 0 10  2]\n",
      " [ 3  4  5]\n",
      " [ 6  7  8]] \n",
      "\n"
     ]
    }
   ],
   "source": [
    "x = np.arange(9).reshape(3,3)\n",
    "print(x,'\\n')\n",
    "ravelled_array = x.ravel()\n",
    "ravelled_array[1] = 10\n",
    "print(ravelled_array,'\\n')\n",
    "print(x,'\\n')"
   ]
  },
  {
   "cell_type": "code",
   "execution_count": 38,
   "id": "0b944cd4-7190-47b0-9b0e-2a9d0e4ebd0e",
   "metadata": {},
   "outputs": [
    {
     "name": "stdout",
     "output_type": "stream",
     "text": [
      "[[0 1 2]\n",
      " [3 4 5]\n",
      " [6 7 8]] \n",
      "\n",
      "[ 0 10  2  3  4  5  6  7  8] \n",
      "\n",
      "[[0 1 2]\n",
      " [3 4 5]\n",
      " [6 7 8]] \n",
      "\n"
     ]
    }
   ],
   "source": [
    "x = np.arange(9).reshape(3,3)\n",
    "print(x,'\\n')\n",
    "flattened_array = x.flatten()\n",
    "flattened_array[1] = 10\n",
    "print(flattened_array,'\\n')\n",
    "print(x,'\\n')"
   ]
  },
  {
   "cell_type": "code",
   "execution_count": 45,
   "id": "bcb5eb2e-df99-4542-a482-f4b401fb2158",
   "metadata": {},
   "outputs": [
    {
     "name": "stdout",
     "output_type": "stream",
     "text": [
      "[0 1 2 3 4 5 6 7 8] \n",
      "\n",
      "[[0 1 2]\n",
      " [3 4 5]\n",
      " [6 7 8]] \n",
      "\n",
      "[[0 3 6]\n",
      " [1 4 7]\n",
      " [2 5 8]] \n",
      "\n"
     ]
    }
   ],
   "source": [
    "y = np.arange(9)\n",
    "print(y, '\\n')\n",
    "y.shape = [3,3]\n",
    "print(y, '\\n')\n",
    "print(y.T, '\\n')  # print(y.transpose())"
   ]
  },
  {
   "cell_type": "code",
   "execution_count": 46,
   "id": "11ece46d-3d88-484e-88b6-df6747abc3a2",
   "metadata": {},
   "outputs": [
    {
     "name": "stdout",
     "output_type": "stream",
     "text": [
      "[[0 1 2 3 4 5]\n",
      " [6 7 8 0 1 2]\n",
      " [3 4 5 6 7 8]\n",
      " [0 1 2 3 4 5]\n",
      " [6 7 8 0 1 2]\n",
      " [3 4 5 6 7 8]]\n"
     ]
    }
   ],
   "source": [
    "print(np.resize(y, (6,6)))"
   ]
  },
  {
   "cell_type": "code",
   "execution_count": 49,
   "id": "707043ae-e981-42b8-b89d-131191d3e971",
   "metadata": {},
   "outputs": [
    {
     "data": {
      "text/plain": [
       "array([[0, 0, 0],\n",
       "       [0, 0, 0],\n",
       "       [0, 0, 0]])"
      ]
     },
     "execution_count": 49,
     "metadata": {},
     "output_type": "execute_result"
    }
   ],
   "source": [
    "np.zeros((3,3), dtype=int)"
   ]
  },
  {
   "cell_type": "code",
   "execution_count": 50,
   "id": "5ceb8bf5-8a1e-4e1a-b35d-d3a0b59cb129",
   "metadata": {},
   "outputs": [
    {
     "data": {
      "text/plain": [
       "array([[1, 1, 1],\n",
       "       [1, 1, 1],\n",
       "       [1, 1, 1]])"
      ]
     },
     "execution_count": 50,
     "metadata": {},
     "output_type": "execute_result"
    }
   ],
   "source": [
    "np.ones((3,3), dtype=int)"
   ]
  },
  {
   "cell_type": "code",
   "execution_count": 52,
   "id": "f0eeb40b-116a-48a2-ae90-6732548bcbb7",
   "metadata": {},
   "outputs": [
    {
     "data": {
      "text/plain": [
       "array([[1, 0, 0],\n",
       "       [0, 1, 0],\n",
       "       [0, 0, 1]])"
      ]
     },
     "execution_count": 52,
     "metadata": {},
     "output_type": "execute_result"
    }
   ],
   "source": [
    "np.eye((3), dtype=int)"
   ]
  },
  {
   "cell_type": "code",
   "execution_count": 55,
   "id": "e29c8537-199f-4aad-9963-3b47033dc847",
   "metadata": {},
   "outputs": [
    {
     "data": {
      "text/plain": [
       "array([[0.55998196, 0.81528944, 0.15945926],\n",
       "       [0.59331765, 0.13722844, 0.04150939],\n",
       "       [0.86330937, 0.1349415 , 0.28692508]])"
      ]
     },
     "execution_count": 55,
     "metadata": {},
     "output_type": "execute_result"
    }
   ],
   "source": [
    "np.random.rand(3,3) # uniform distrubtion 0-1"
   ]
  },
  {
   "cell_type": "code",
   "execution_count": 57,
   "id": "fd37f40a-2fe1-4971-adac-6e4b4004437e",
   "metadata": {},
   "outputs": [
    {
     "data": {
      "text/plain": [
       "array([[ 0.96257518, -1.88341821, -1.36120616],\n",
       "       [ 0.3007766 ,  1.57452979,  0.22555933],\n",
       "       [-0.31276496, -1.11104489,  1.03985818]])"
      ]
     },
     "execution_count": 57,
     "metadata": {},
     "output_type": "execute_result"
    }
   ],
   "source": [
    "np.random.randn(3,3) # centered at 0"
   ]
  },
  {
   "cell_type": "code",
   "execution_count": 60,
   "id": "b4f328a7-b9d2-4f14-a714-e7bd07e2db24",
   "metadata": {},
   "outputs": [
    {
     "data": {
      "text/plain": [
       "array([[5, 8, 2],\n",
       "       [5, 4, 2],\n",
       "       [2, 1, 5]])"
      ]
     },
     "execution_count": 60,
     "metadata": {},
     "output_type": "execute_result"
    }
   ],
   "source": [
    "np.random.randint(1,9,(3,3), int)"
   ]
  },
  {
   "cell_type": "markdown",
   "id": "a9dac8cc-5024-4c41-8797-22a3919b3f61",
   "metadata": {},
   "source": [
    "# Matrix Multiplication"
   ]
  },
  {
   "cell_type": "code",
   "execution_count": 62,
   "id": "d3e3e542-e7cb-4c19-95c1-c919935fc2ef",
   "metadata": {},
   "outputs": [],
   "source": [
    "# column in a = rows in b  for Matrix Multiplication"
   ]
  },
  {
   "cell_type": "code",
   "execution_count": 77,
   "id": "e5517321-8ed8-4c0e-afc0-faebb12a6517",
   "metadata": {},
   "outputs": [
    {
     "name": "stdout",
     "output_type": "stream",
     "text": [
      "[[0 3 5]\n",
      " [5 5 2]] \n",
      "\n",
      "[[ 3  4]\n",
      " [ 3 -2]\n",
      " [ 4 -2]] \n",
      "\n",
      "[[ 29 -16]\n",
      " [ 38   6]]\n"
     ]
    }
   ],
   "source": [
    "mat_a = np.array([0,3,5,5,5,2]).reshape(2,3) # np.matrix\n",
    "print(mat_a,'\\n')\n",
    "mat_b = np.array([3,4,3,-2,4,-2]).reshape(3,2)# np.matrix\n",
    "print(mat_b,'\\n')\n",
    "#\n",
    "product = np.matmul(mat_a,mat_b)  # mat_a @ mat_b\n",
    "print(product)"
   ]
  },
  {
   "cell_type": "markdown",
   "id": "19f5de77-c988-45cc-8cc0-db537e86611e",
   "metadata": {},
   "source": [
    "# Stacking "
   ]
  },
  {
   "cell_type": "code",
   "execution_count": 96,
   "id": "6706efcb-efc5-4e8a-af59-d3f414ef0215",
   "metadata": {},
   "outputs": [
    {
     "name": "stdout",
     "output_type": "stream",
     "text": [
      "[[0 1]\n",
      " [2 3]] \n",
      "\n",
      "[[ 4  5]\n",
      " [ 6  7]\n",
      " [ 8  9]\n",
      " [10 11]] \n",
      "\n",
      "[[ 0  1]\n",
      " [ 2  3]\n",
      " [ 4  5]\n",
      " [ 6  7]\n",
      " [ 8  9]\n",
      " [10 11]] \n",
      "\n",
      "(6, 2) \n",
      "\n"
     ]
    }
   ],
   "source": [
    "x = np.arange(4).reshape(2,2)\n",
    "print(x,'\\n')\n",
    "y  = np.arange(4,12,1,int).reshape(4,2)\n",
    "print(y,'\\n')\n",
    "#\n",
    "z = np.vstack((x,y)) # hstack\n",
    "# this concatinate x&y verticaly and horizantaly \n",
    "print(z,'\\n')\n",
    "print(z.shape, '\\n')"
   ]
  },
  {
   "cell_type": "code",
   "execution_count": 99,
   "id": "afc4be41-104c-4eac-a2ce-f4a4a7335b50",
   "metadata": {},
   "outputs": [
    {
     "name": "stdout",
     "output_type": "stream",
     "text": [
      "[[ 0  1]\n",
      " [ 2  3]\n",
      " [ 4  5]\n",
      " [ 6  7]\n",
      " [ 8  9]\n",
      " [10 11]] \n",
      "\n",
      "[[ True  True]\n",
      " [ True  True]\n",
      " [ True  True]\n",
      " [ True  True]\n",
      " [ True  True]\n",
      " [ True  True]]\n"
     ]
    }
   ],
   "source": [
    "w = np.concatenate((x,y), axis=0)\n",
    "# verticaly axis=0 and horizantaly  axis=1\n",
    "print(w,'\\n')\n",
    "\n",
    "print(z == w)"
   ]
  },
  {
   "cell_type": "code",
   "execution_count": 115,
   "id": "187f239e-155f-4cfc-b3be-14d811141a96",
   "metadata": {},
   "outputs": [
    {
     "name": "stdout",
     "output_type": "stream",
     "text": [
      "[[[0]\n",
      "  [1]]\n",
      "\n",
      " [[2]\n",
      "  [3]]] \n",
      "\n",
      "[[[0]\n",
      "  [2]]\n",
      "\n",
      " [[4]\n",
      "  [6]]] \n",
      "\n",
      "(2, 2, 1) \n",
      "\n",
      "-------------- \n",
      "\n",
      "[[[0 0]\n",
      "  [1 2]]\n",
      "\n",
      " [[2 4]\n",
      "  [3 6]]] \n",
      "\n",
      "(2, 2, 2) \n",
      "\n"
     ]
    }
   ],
   "source": [
    "x = np.arange(4).reshape(2,2,1)\n",
    "print(x,'\\n')\n",
    "y  = x*2\n",
    "print(y,'\\n')\n",
    "print(x.shape,'\\n')\n",
    "print('--------------','\\n')\n",
    "#\n",
    "depth_stack = np.dstack((x,y))\n",
    "print(depth_stack,'\\n')\n",
    "print(depth_stack.shape,'\\n') #(2row, 2col, 2depth)"
   ]
  },
  {
   "cell_type": "code",
   "execution_count": 120,
   "id": "578ff263-6aa5-4f4d-909e-956bb6b497b7",
   "metadata": {},
   "outputs": [
    {
     "name": "stdout",
     "output_type": "stream",
     "text": [
      "[[0 1]\n",
      " [2 3]] \n",
      "\n",
      "[[ 4  5  6  7]\n",
      " [ 8  9 10 11]] \n",
      "\n",
      "[[ 0  1  4  5  6  7]\n",
      " [ 2  3  8  9 10 11]]\n"
     ]
    }
   ],
   "source": [
    "x = np.arange(4).reshape(2,2)\n",
    "print(x,'\\n')\n",
    "y  = np.arange(4,12,1,int).reshape(2,4)\n",
    "print(y,'\\n')\n",
    "#\n",
    "print(np.column_stack((x,y)))"
   ]
  },
  {
   "cell_type": "code",
   "execution_count": 121,
   "id": "9c54135c-0bd4-4e65-adde-d7bc71e001fe",
   "metadata": {},
   "outputs": [
    {
     "name": "stdout",
     "output_type": "stream",
     "text": [
      "[0 1 2 3] \n",
      "\n",
      "[0 1 2 3] \n",
      "\n",
      "[[0 0]\n",
      " [1 1]\n",
      " [2 2]\n",
      " [3 3]]\n"
     ]
    }
   ],
   "source": [
    "x = np.arange(4)\n",
    "print(x,'\\n')\n",
    "y  = np.arange(4)\n",
    "print(y,'\\n')\n",
    "#\n",
    "print(np.column_stack((x,y)))"
   ]
  },
  {
   "cell_type": "code",
   "execution_count": 125,
   "id": "38ea9435-7a63-48bc-98d1-6e84002ae3a9",
   "metadata": {},
   "outputs": [
    {
     "name": "stdout",
     "output_type": "stream",
     "text": [
      "[0 1 2 3] \n",
      "\n",
      "[4 5 6 7] \n",
      "\n",
      "[0 1 2 3 4 5 6 7]\n"
     ]
    }
   ],
   "source": [
    "x = np.arange(4)\n",
    "print(x,'\\n')\n",
    "y  = np.arange(4,8)\n",
    "print(y,'\\n')\n",
    "#\n",
    "print(np.hstack((x,y)))"
   ]
  },
  {
   "cell_type": "code",
   "execution_count": 127,
   "id": "31fce851-31be-4769-9dae-7f90ec0a4e6c",
   "metadata": {},
   "outputs": [
    {
     "name": "stdout",
     "output_type": "stream",
     "text": [
      "[0 1 2 3] \n",
      "\n",
      "[4 5 6 7] \n",
      "\n",
      "[[0 1 2 3]\n",
      " [4 5 6 7]]\n"
     ]
    }
   ],
   "source": [
    "x = np.arange(4)\n",
    "print(x,'\\n')\n",
    "y  = np.arange(4,8)\n",
    "print(y,'\\n')\n",
    "#\n",
    "print(np.row_stack((x,y)))"
   ]
  },
  {
   "cell_type": "code",
   "execution_count": 128,
   "id": "aad5073e-c99b-48cd-af10-edbcc38acde5",
   "metadata": {},
   "outputs": [
    {
     "name": "stdout",
     "output_type": "stream",
     "text": [
      "[0 1 2 3] \n",
      "\n",
      "[4 5 6 7] \n",
      "\n",
      "[[0 1 2 3]\n",
      " [4 5 6 7]]\n"
     ]
    }
   ],
   "source": [
    "x = np.arange(4)\n",
    "print(x,'\\n')\n",
    "y  = np.arange(4,8)\n",
    "print(y,'\\n')\n",
    "#\n",
    "print(np.vstack((x,y)))"
   ]
  },
  {
   "cell_type": "code",
   "execution_count": null,
   "id": "bb197ed0-7143-40de-9e62-8412e2bc7864",
   "metadata": {},
   "outputs": [],
   "source": []
  }
 ],
 "metadata": {
  "kernelspec": {
   "display_name": "Python 3",
   "language": "python",
   "name": "python3"
  },
  "language_info": {
   "codemirror_mode": {
    "name": "ipython",
    "version": 3
   },
   "file_extension": ".py",
   "mimetype": "text/x-python",
   "name": "python",
   "nbconvert_exporter": "python",
   "pygments_lexer": "ipython3",
   "version": "3.8.8"
  }
 },
 "nbformat": 4,
 "nbformat_minor": 5
}
