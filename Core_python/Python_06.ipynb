{
 "cells": [
  {
   "cell_type": "code",
   "execution_count": 6,
   "id": "2b638c33-1be1-4303-8c9f-429684ffd00f",
   "metadata": {},
   "outputs": [],
   "source": [
    "class Employee :\n",
    "    # __init__ is special method\n",
    "    # self is instance as first argument recevied automaticlly\n",
    "    def __init__(self, firstname, lastname, pay):\n",
    "        # firstname, lastname, pay are argument\n",
    "        # self is an automated instance\n",
    "        # self.firstname is an attribute\n",
    "        # = firstname is the instance variable\n",
    "        # if given first as 'kishan' is the instance\n",
    "        self.firstname = firstname\n",
    "        self.lastname = lastname\n",
    "        self.pay = pay\n",
    "        self.email = firstname+'.'+lastname+'company.com'\n",
    "        \n",
    "    # fullname is method \n",
    "    # takes self instance as first argument\n",
    "    # Error:fullname does not take argument and one was passed\n",
    "    def fullname(self):\n",
    "        # self.firstname works with all the instance \n",
    "        return f\"{self.firstname} {self.lastname}\""
   ]
  },
  {
   "cell_type": "code",
   "execution_count": 7,
   "id": "9cf182ca-dd9d-4a7c-a16a-bd007c35d7d5",
   "metadata": {},
   "outputs": [],
   "source": [
    "class Employee :\n",
    "    def __init__(self, firstname, lastname, pay):\n",
    "        self.firstname = firstname\n",
    "        self.lastname = lastname\n",
    "        self.pay = pay\n",
    "        self.email = firstname+'.'+lastname+'company.com'\n",
    "        \n",
    "    def fullname(self):\n",
    "        return f\"{self.firstname} {self.lastname}\""
   ]
  },
  {
   "cell_type": "code",
   "execution_count": 5,
   "id": "6bbbd7b2-6fb4-4096-aa07-0920579209d4",
   "metadata": {},
   "outputs": [],
   "source": [
    "emp_1 = Employee('kiran','billava',9000)\n",
    "emp_2 = Employee('tushar','billava',3000)\n",
    "\n",
    "#  __init__ will run automaticly for employee\n",
    "# Here emp_1 is passed in self and \n",
    "# all attribute is set accordingly "
   ]
  },
  {
   "cell_type": "code",
   "execution_count": 11,
   "id": "26c7f91b-f08a-4a22-99dc-f1e3e4c59666",
   "metadata": {},
   "outputs": [
    {
     "name": "stdout",
     "output_type": "stream",
     "text": [
      "kiran.billavacompany.com\n",
      "tushar.billavacompany.com\n",
      "tushar billava\n"
     ]
    }
   ],
   "source": [
    "# note that here .email is a attribute and we do not need ()\n",
    "# and fullname is a method and need () \n",
    "print(emp_1.email)\n",
    "print(emp_2.email)\n",
    "print(emp_2.fullname())\n",
    "# emp_2 is an instance and we call the method fullname\n",
    "# note that we do not need to call self, it is done automaticly "
   ]
  },
  {
   "cell_type": "code",
   "execution_count": 12,
   "id": "2c4b5e84-5387-4d96-b505-ec4a1a84bc28",
   "metadata": {},
   "outputs": [
    {
     "data": {
      "text/plain": [
       "'tushar billava'"
      ]
     },
     "execution_count": 12,
     "metadata": {},
     "output_type": "execute_result"
    }
   ],
   "source": [
    "# we can run this method by class name it self \n",
    "# here we are calling method on class, it does not know\n",
    "# what instance to run that method, therefore we pass instance emp_2\n",
    "# here we are passing emp_2 instance as argument\n",
    "\n",
    "# Class.method(instance)\n",
    "Employee.fullname(emp_2)"
   ]
  },
  {
   "cell_type": "code",
   "execution_count": 13,
   "id": "fc95ba5e-ef9c-43c9-9974-6bb6da6cb15b",
   "metadata": {},
   "outputs": [],
   "source": [
    "# note that emp_2.fullname() does the same action as \n",
    "# Employee.fullname(emp_2)"
   ]
  },
  {
   "cell_type": "code",
   "execution_count": 10,
   "id": "31817912-71e7-4a9e-9fe8-5be775611779",
   "metadata": {},
   "outputs": [
    {
     "data": {
      "text/plain": [
       "'kiran'"
      ]
     },
     "execution_count": 10,
     "metadata": {},
     "output_type": "execute_result"
    }
   ],
   "source": [
    "emp_1.firstname\n",
    "# here self.first = first is the same as emp_1.firstname = 'kiran'\n",
    "# note that self.firstname need not be same as argument firstname \n",
    "# we can write self.first and self.firstname "
   ]
  },
  {
   "cell_type": "code",
   "execution_count": 14,
   "id": "65beee2c-1cc7-4835-b00f-f940ff5fd0a8",
   "metadata": {},
   "outputs": [],
   "source": [
    "# class is a blue print to create instances\n",
    "# Here each new Employee that we create using the Employee class, \n",
    "# will be the instance of that class "
   ]
  },
  {
   "cell_type": "code",
   "execution_count": 17,
   "id": "2bc4da10-58c3-4527-a26f-538a7716d211",
   "metadata": {},
   "outputs": [
    {
     "data": {
      "text/plain": [
       "<__main__.Employee at 0x7f4269c56970>"
      ]
     },
     "execution_count": 17,
     "metadata": {},
     "output_type": "execute_result"
    }
   ],
   "source": [
    "# Example\n",
    "# each of this is their own unique instance of the Employee class\n",
    "emp_1"
   ]
  },
  {
   "cell_type": "code",
   "execution_count": 18,
   "id": "72342553-2834-4a6c-adc8-a8dc4ede7295",
   "metadata": {},
   "outputs": [],
   "source": [
    "#"
   ]
  },
  {
   "cell_type": "code",
   "execution_count": 20,
   "id": "8705b1cf-f692-4cf4-93a2-55faf22c73e9",
   "metadata": {},
   "outputs": [
    {
     "name": "stdout",
     "output_type": "stream",
     "text": [
      "3\n",
      "0\n"
     ]
    }
   ],
   "source": [
    "class coordinate(object):\n",
    "    \n",
    "    # self is instance of the class\n",
    "    # self is a place holder for any instance when we create object\n",
    "    # here .x and .y is the data attributes for every coordinate object\n",
    "    # note that, when we create a coordinate object, we are creating \n",
    "    # instance of the class\n",
    "    # here =x and =y are the instance variable which is the \n",
    "    # data attribute of the instance\n",
    "    def __init__(self,x,y):\n",
    "        self.x = x\n",
    "        self.y = y\n",
    "        \n",
    "c = coordinate(3,4)\n",
    "origin = coordinate(0,0)\n",
    "# here self is the object c\n",
    "# what this does is, create a new object of type coordinate and \n",
    "# pass in 3 and 4 to the __init__\n",
    "\n",
    "print(c.x)\n",
    "print(origin.y)"
   ]
  },
  {
   "cell_type": "code",
   "execution_count": 21,
   "id": "697c4645-2cac-4004-8b07-7d3ea8fa1108",
   "metadata": {},
   "outputs": [],
   "source": [
    "# "
   ]
  },
  {
   "cell_type": "code",
   "execution_count": 26,
   "id": "135bc404-721d-4258-bd56-ec62c485fd40",
   "metadata": {},
   "outputs": [
    {
     "name": "stdout",
     "output_type": "stream",
     "text": [
      "9.433981132056603\n",
      "1.6\n",
      "(3, 2)\n",
      "(8, 10)\n"
     ]
    }
   ],
   "source": [
    "class line:\n",
    "    def __init__(self, coor1,coor2):\n",
    "        self.coor1 = coor1\n",
    "        self.coor2 = coor2\n",
    "        \n",
    "    def distance(self):\n",
    "        x1,y1 = self.coor1\n",
    "        x2,y2 = self.coor2\n",
    "        return ((x1-x2)**2 + (y2-y1)**2)**0.5\n",
    "    \n",
    "    def slope(self):\n",
    "        x1,y1 = self.coor1\n",
    "        x2,y2 = self.coor2\n",
    "        return (y2-y1)/(x2-x1)\n",
    "    \n",
    "myline = line((3,2),(8,10))\n",
    "\n",
    "print(myline.distance())\n",
    "print(myline.slope())\n",
    "print(myline.coor1)\n",
    "print(myline.coor2)"
   ]
  },
  {
   "cell_type": "code",
   "execution_count": 27,
   "id": "394c50cf-948e-4f14-90ff-ef099a738401",
   "metadata": {},
   "outputs": [],
   "source": [
    "#"
   ]
  },
  {
   "cell_type": "code",
   "execution_count": 28,
   "id": "a0c0dfd7-bcb6-4183-9ae8-73d8b5f92fb1",
   "metadata": {},
   "outputs": [
    {
     "data": {
      "text/plain": [
       "'Sammy'"
      ]
     },
     "execution_count": 28,
     "metadata": {},
     "output_type": "execute_result"
    }
   ],
   "source": [
    "class Dog():\n",
    "    def __init__(self,bread,name, spots):\n",
    "        self.bread = bread\n",
    "        self.name = name\n",
    "        # Expect boolean True or Flase\n",
    "        self.spots = spots\n",
    "\n",
    "myDog = Dog(bread='lab',name='Sammy',spots=False)\n",
    "myDog.name"
   ]
  },
  {
   "cell_type": "code",
   "execution_count": 30,
   "id": "00abbe5b-89bf-49d8-987a-5b927128073c",
   "metadata": {},
   "outputs": [
    {
     "name": "stdout",
     "output_type": "stream",
     "text": [
      "mammal\n",
      "Woof!! my name is Sammy and bark number is 70 \n",
      "None\n"
     ]
    }
   ],
   "source": [
    "# class object attribute \n",
    "class Dog():\n",
    "    species = 'mammal'\n",
    "    \n",
    "    def __init__(self, breed, name):\n",
    "        self.breed = breed \n",
    "        self.name = name\n",
    "    def bark(self, number):\n",
    "        print('Woof!! my name is {} and bark number is {} '\n",
    "              .format(self.name,number*10))\n",
    "        \n",
    "myDog = Dog(breed='lab',name='Sammy')\n",
    "print(myDog.species)\n",
    "print(myDog.bark(7))"
   ]
  },
  {
   "cell_type": "code",
   "execution_count": 31,
   "id": "80f1bd7a-3e28-48d5-8663-1c346dbebb98",
   "metadata": {},
   "outputs": [],
   "source": [
    "#"
   ]
  },
  {
   "cell_type": "code",
   "execution_count": 40,
   "id": "385b45b4-d8d8-4233-a6da-dc0c786166a7",
   "metadata": {},
   "outputs": [
    {
     "name": "stdout",
     "output_type": "stream",
     "text": [
      "6\n",
      "37.68\n",
      "113.04\n"
     ]
    }
   ],
   "source": [
    "class Circle():\n",
    "    pi = 3.14\n",
    "    \n",
    "    def __init__(self, radius=1):\n",
    "        self.radius = radius\n",
    "        self.area = radius*radius*Circle.pi\n",
    "        \n",
    "    def getcircum(self):\n",
    "        return self.radius*self.pi*2\n",
    "\n",
    "my_circle = Circle(6)\n",
    "print(my_circle.radius)\n",
    "print(my_circle.getcircum())\n",
    "print(my_circle.area)"
   ]
  },
  {
   "cell_type": "code",
   "execution_count": 41,
   "id": "01d6afe2-0e0e-4a8f-9d14-5cc0cf47bbc1",
   "metadata": {},
   "outputs": [],
   "source": [
    "# Inheritance"
   ]
  },
  {
   "cell_type": "code",
   "execution_count": 53,
   "id": "0679058d-6741-4328-a9c3-ff7ccf979e03",
   "metadata": {},
   "outputs": [
    {
     "name": "stdout",
     "output_type": "stream",
     "text": [
      "Animal Created\n",
      "Dog created\n",
      "Animal Created\n",
      "----------\n",
      "Dog\n",
      "eating\n",
      "Woof\n",
      "----------\n",
      "Animal\n",
      "eating\n"
     ]
    }
   ],
   "source": [
    "class Animal:\n",
    "    def __init__(self):\n",
    "        print(\"Animal Created\")\n",
    "    \n",
    "    def whoAmI(self):\n",
    "        print('Animal')\n",
    "    \n",
    "    def eat(self):\n",
    "        print('eating')\n",
    "        \n",
    "\n",
    "class Dog(Animal):\n",
    "    def __init__(self):\n",
    "        Animal.__init__(self)\n",
    "        print('Dog created')\n",
    "        \n",
    "    def whoAmI(self):\n",
    "        print('Dog')\n",
    "        \n",
    "    def bark(self):\n",
    "        print('Woof')\n",
    "        \n",
    "\n",
    "# Inheritance\n",
    "d = Dog()\n",
    "a = Animal()\n",
    "print('----------')\n",
    "d.whoAmI() # Here whoAmI is modified to dog method from animal\n",
    "d.eat()   # here it inherited from animal \n",
    "d.bark() # this is from dog class itself\n",
    "print('----------')\n",
    "a.whoAmI()\n",
    "a.eat()"
   ]
  },
  {
   "cell_type": "code",
   "execution_count": 54,
   "id": "b599add1-7c96-44e4-b0fc-cc712326f1c0",
   "metadata": {},
   "outputs": [],
   "source": [
    "# Polymorphism\n",
    "# different object classes can share the same method name "
   ]
  },
  {
   "cell_type": "code",
   "execution_count": 59,
   "id": "b735abff-8cb1-47e3-827a-4b36d8b9a791",
   "metadata": {},
   "outputs": [
    {
     "name": "stdout",
     "output_type": "stream",
     "text": [
      "rock says woof\n",
      "pink says meow\n",
      "--------------\n"
     ]
    }
   ],
   "source": [
    "class Dog:\n",
    "    def __init__(self, name):\n",
    "        self.name = name\n",
    "        \n",
    "    def speak(self):\n",
    "        return self.name + ' says woof'\n",
    "    \n",
    "class Cat:\n",
    "    def __init__(self,name):\n",
    "        self.name = name\n",
    "        \n",
    "    def speak(self):\n",
    "        return self.name + ' says meow'\n",
    "    \n",
    "\n",
    "d = Dog('rock')\n",
    "c = Cat('pink')\n",
    "\n",
    "for pet in [d,c]:\n",
    "    print(pet.speak())\n",
    "\n",
    "print(\"--------------\")"
   ]
  },
  {
   "cell_type": "code",
   "execution_count": 63,
   "id": "06e31bf2-a15d-4079-9701-ddd9f5795795",
   "metadata": {},
   "outputs": [
    {
     "data": {
      "text/plain": [
       "('rock says woof', 'pink says meow')"
      ]
     },
     "execution_count": 63,
     "metadata": {},
     "output_type": "execute_result"
    }
   ],
   "source": [
    "def pet_speak(pet):\n",
    "    return pet.speak()\n",
    "\n",
    "pet_speak(d), pet_speak(c)"
   ]
  },
  {
   "cell_type": "code",
   "execution_count": 64,
   "id": "ca422b06-ec6a-4e26-818f-13b11d7bb796",
   "metadata": {},
   "outputs": [],
   "source": [
    "# abstract classes and inheritance\n",
    "#  An abstract class is one that never expects to be instantiated."
   ]
  },
  {
   "cell_type": "code",
   "execution_count": 68,
   "id": "e12e303c-7ef6-421a-920a-7cc88a871ef5",
   "metadata": {},
   "outputs": [
    {
     "name": "stdout",
     "output_type": "stream",
     "text": [
      "rock says Woof\n",
      "pink says meow\n",
      "--------------\n"
     ]
    }
   ],
   "source": [
    "class Animal:\n",
    "    def __init__(self, name):\n",
    "        self.name = name\n",
    "        \n",
    "    def speak(self):\n",
    "        raise NotImplementedError(\"Subclass must implement abstract method\")\n",
    "    \n",
    "\n",
    "class Cat(Animal):\n",
    "    def speak(self):\n",
    "        return self.name + ' says meow'\n",
    "    \n",
    "class Dog(Animal):        \n",
    "    def speak(self):\n",
    "        return self.name + ' says Woof'\n",
    "    \n",
    "\n",
    "d = Dog('rock')\n",
    "c = Cat('pink')\n",
    "\n",
    "for pet in [d,c]:\n",
    "    print(pet.speak())\n",
    "\n",
    "print(\"--------------\")"
   ]
  },
  {
   "cell_type": "code",
   "execution_count": 69,
   "id": "eb1cd968-6445-4a5d-bf3f-00bc1f56f14f",
   "metadata": {},
   "outputs": [],
   "source": [
    "# Special Methods"
   ]
  },
  {
   "cell_type": "code",
   "execution_count": 70,
   "id": "c6d630f4-a624-435b-9b59-33fb6bf3d901",
   "metadata": {},
   "outputs": [
    {
     "name": "stdout",
     "output_type": "stream",
     "text": [
      "A Book is created \n",
      "Title: Python Rocks!, author: Kishan, pages: 200 \n",
      "200\n",
      "Book deleted\n"
     ]
    }
   ],
   "source": [
    "class Book:\n",
    "    def __init__(self, title, author, pages):\n",
    "        print('A Book is created ')\n",
    "        self.title = title\n",
    "        self.author = author\n",
    "        self.pages = pages\n",
    "        \n",
    "    def __str__(self):\n",
    "        return \"Title: %s, author: %s, pages: %s \"%(self.title, self.author, self.pages)\n",
    "    \n",
    "    def __len__(self):\n",
    "        return self.pages\n",
    "    \n",
    "    def __del__(self):\n",
    "        print('Book deleted')\n",
    "        \n",
    "book = Book(\"Python Rocks!\", \"Kishan\", 200)\n",
    "\n",
    "#Special Methods\n",
    "print(book)\n",
    "print(len(book))\n",
    "del book      "
   ]
  },
  {
   "cell_type": "code",
   "execution_count": 72,
   "id": "c28c8e09-90c1-487e-a169-b00f0f292d41",
   "metadata": {},
   "outputs": [],
   "source": [
    "# more exmaple "
   ]
  },
  {
   "cell_type": "code",
   "execution_count": 13,
   "id": "fc8322ec-5bec-4e96-9240-5607d3c08931",
   "metadata": {},
   "outputs": [
    {
     "name": "stdout",
     "output_type": "stream",
     "text": [
      "account_owner: Jose \n",
      " account_balance: $100\n",
      "-----------------------------------\n",
      "Jose\n",
      "100\n",
      "-----------------------------------\n",
      "deposit accepted\n",
      "withdraw accepted\n",
      "-----------------------------------\n",
      "account_owner: Jose \n",
      " account_balance: $75\n",
      "-----------------------------------\n",
      "Fund unavailable\n"
     ]
    }
   ],
   "source": [
    "class Account:\n",
    "    def __init__(self, owner, balance=0):\n",
    "        self.owner = owner\n",
    "        self.balance = balance\n",
    "        \n",
    "    def __str__(self):\n",
    "        return f'account_owner: {self.owner} \\n account_balance: ${self.balance}'\n",
    "    \n",
    "    def deposit(self, dep_amt):\n",
    "        self.balance += dep_amt\n",
    "        print('deposit accepted')\n",
    "    \n",
    "    def withdraw(self, wd_amt):\n",
    "        if self.balance >= wd_amt:\n",
    "            self.balance -= wd_amt\n",
    "            print('withdraw accepted')\n",
    "        else:\n",
    "            print('Fund unavailable')\n",
    "            \n",
    "\n",
    "\n",
    "# 1. Instantiate the class\n",
    "acct1 = Account('Jose',100)    \n",
    "# 2. Print the object\n",
    "print(acct1)\n",
    "print('-----------------------------------')\n",
    "# 3. Show the account owner attribute\n",
    "print(acct1.owner)\n",
    "# 4. Show the account balance attribute\n",
    "print(acct1.balance)\n",
    "print('-----------------------------------')\n",
    "# 5. Make a series of deposits and withdrawals\n",
    "acct1.deposit(50)\n",
    "acct1.withdraw(75)\n",
    "print('-----------------------------------')\n",
    "# 2. Print the object\n",
    "print(acct1)\n",
    "print('-----------------------------------')\n",
    "# 6. Make a withdrawal that exceeds the available balance\n",
    "acct1.withdraw(500)"
   ]
  },
  {
   "cell_type": "code",
   "execution_count": 15,
   "id": "d45261d7-25e4-42e7-b31e-8c5193f6285a",
   "metadata": {},
   "outputs": [
    {
     "data": {
      "text/plain": [
       "94.2"
      ]
     },
     "execution_count": 15,
     "metadata": {},
     "output_type": "execute_result"
    }
   ],
   "source": [
    "class Cylinder:\n",
    "    \n",
    "    def __init__(self,height=1,radius=1):\n",
    "        self.height = height\n",
    "        self.radius = radius\n",
    "        \n",
    "    def volume(self):\n",
    "        return self.height*3.14*(self.radius)**2\n",
    "    \n",
    "    def surface_area(self):\n",
    "        top = 3.14 * (self.radius)**2\n",
    "        return (2*top) + (2*3.14*self.radius*self.height)\n",
    "    \n",
    "c = Cylinder(2,3)\n",
    "c.volume()\n",
    "c.surface_area()"
   ]
  },
  {
   "cell_type": "code",
   "execution_count": 16,
   "id": "c6b21cb0-1497-48f2-babd-b786079e3c4f",
   "metadata": {},
   "outputs": [],
   "source": [
    "#"
   ]
  },
  {
   "cell_type": "code",
   "execution_count": 23,
   "id": "04d37cbe-c172-4fc2-a61f-57766f940a22",
   "metadata": {},
   "outputs": [
    {
     "name": "stdout",
     "output_type": "stream",
     "text": [
      "radius is  4\n",
      "Area is  50.24\n",
      "volume is  200.96\n"
     ]
    }
   ],
   "source": [
    "class Circle(object):\n",
    "    pi = 3.14\n",
    "    \n",
    "    def __init__(self, radius=1):\n",
    "        self.radius = radius\n",
    "        \n",
    "    def setradius(self, radius):\n",
    "        self.radius = radius\n",
    "    \n",
    "    def getradius(self):\n",
    "        return self.radius\n",
    "    \n",
    "    def area(self):\n",
    "        return self.radius*self.radius*Circle.pi\n",
    "    \n",
    "    def vol(self):\n",
    "        return self.radius**3 * Circle.pi\n",
    "    \n",
    "c = Circle()\n",
    "c.getradius()\n",
    "c.setradius(4)\n",
    "print ('radius is ',c.getradius())\n",
    "print ('Area is ',c.area())\n",
    "print ('volume is ',c.vol())"
   ]
  },
  {
   "cell_type": "code",
   "execution_count": null,
   "id": "705a0ebf-7770-46cb-8ca6-4472c8d5a281",
   "metadata": {},
   "outputs": [],
   "source": []
  }
 ],
 "metadata": {
  "kernelspec": {
   "display_name": "Python 3",
   "language": "python",
   "name": "python3"
  },
  "language_info": {
   "codemirror_mode": {
    "name": "ipython",
    "version": 3
   },
   "file_extension": ".py",
   "mimetype": "text/x-python",
   "name": "python",
   "nbconvert_exporter": "python",
   "pygments_lexer": "ipython3",
   "version": "3.8.8"
  }
 },
 "nbformat": 4,
 "nbformat_minor": 5
}
