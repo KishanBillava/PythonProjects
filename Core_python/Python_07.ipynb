{
 "cells": [
  {
   "cell_type": "code",
   "execution_count": 84,
   "id": "a3b1cca9-693a-4c83-9d2b-acc356d9373c",
   "metadata": {},
   "outputs": [],
   "source": [
    "import random"
   ]
  },
  {
   "cell_type": "code",
   "execution_count": 14,
   "id": "a0574aa0-cc48-4601-ac2a-56fe9f604bc3",
   "metadata": {},
   "outputs": [],
   "source": [
    "# Error & Exceptions Handling"
   ]
  },
  {
   "cell_type": "code",
   "execution_count": 13,
   "id": "b5169540-8d9b-49cd-866d-d85af77f418e",
   "metadata": {},
   "outputs": [
    {
     "name": "stdout",
     "output_type": "stream",
     "text": [
      "you got TypeError\n",
      "always run \n"
     ]
    }
   ],
   "source": [
    "try:\n",
    "    # want to attempt this code \n",
    "    # may have an error\n",
    "    result = 10+ '10' \n",
    "    \n",
    "except TypeError: \n",
    "    print('you got TypeError')\n",
    "except:\n",
    "    print('Not adding correctly')\n",
    "    \n",
    "else:\n",
    "    print('Add went well')\n",
    "    print(result)\n",
    "    \n",
    "finally:\n",
    "    print('always run ')"
   ]
  },
  {
   "cell_type": "code",
   "execution_count": 15,
   "id": "55ade522-ba51-4a3c-b302-51d043db0bfc",
   "metadata": {},
   "outputs": [],
   "source": [
    "#"
   ]
  },
  {
   "cell_type": "code",
   "execution_count": 1,
   "id": "a103f3e1-9b7a-4d21-be0c-09dbac272aef",
   "metadata": {},
   "outputs": [
    {
     "name": "stdin",
     "output_type": "stream",
     "text": [
      "Enter the number 2\n"
     ]
    },
    {
     "name": "stdout",
     "output_type": "stream",
     "text": [
      "correct number\n",
      "End of program\n",
      "4\n"
     ]
    }
   ],
   "source": [
    "def ask_for_int():\n",
    "    \n",
    "    wait = True\n",
    "    while wait:\n",
    "        try:\n",
    "            result = int(input('Enter the number'))\n",
    "            \n",
    "        except:\n",
    "            print(\"not a number\")\n",
    "            continue\n",
    "            \n",
    "        else:\n",
    "            print('correct number')\n",
    "            #break\n",
    "            wait = False\n",
    "            \n",
    "        finally:\n",
    "            print('End of program')\n",
    "            print(result**2)\n",
    "\n",
    "ask_for_int()"
   ]
  },
  {
   "cell_type": "code",
   "execution_count": 2,
   "id": "f365a0eb-8aac-412c-99b3-0cbe82d2aa3b",
   "metadata": {},
   "outputs": [],
   "source": [
    "# Decorators"
   ]
  },
  {
   "cell_type": "code",
   "execution_count": 12,
   "id": "298ae137-6609-468b-b6e9-bcf34bb2de5e",
   "metadata": {},
   "outputs": [
    {
     "data": {
      "text/plain": [
       "'Hello'"
      ]
     },
     "execution_count": 12,
     "metadata": {},
     "output_type": "execute_result"
    }
   ],
   "source": [
    "def hello():\n",
    "    return \"Hello\"\n",
    "\n",
    "greet = hello\n",
    "greet()"
   ]
  },
  {
   "cell_type": "code",
   "execution_count": 21,
   "id": "13dfd352-8561-4276-99ec-c7f5257b0ca2",
   "metadata": {},
   "outputs": [
    {
     "name": "stdout",
     "output_type": "stream",
     "text": [
      "hello() executed \n",
      "\t greet inside hello\n",
      "\t welcome inside hello\n",
      "End of hello\n"
     ]
    }
   ],
   "source": [
    "def hello(name='Jose'):\n",
    "    print('hello() executed ')\n",
    "    \n",
    "    def greet():\n",
    "        return '\\t greet inside hello'\n",
    "    \n",
    "    def welcome():\n",
    "        return '\\t welcome inside hello'\n",
    "    \n",
    "    # Here welcome & greet is within the hello funcation \n",
    "    print(greet())\n",
    "    print(welcome())\n",
    "    \n",
    "    print('End of hello')\n",
    "    \n",
    "hello()"
   ]
  },
  {
   "cell_type": "code",
   "execution_count": 20,
   "id": "7c8335c1-82fd-4b70-a1fc-8e4d4385a6c8",
   "metadata": {},
   "outputs": [
    {
     "name": "stdout",
     "output_type": "stream",
     "text": [
      "hello() executed \n",
      "return a function\n"
     ]
    }
   ],
   "source": [
    "def hello(name='Jose'):\n",
    "    print('hello() executed ')\n",
    "    \n",
    "    def greet():\n",
    "        return '\\t greet inside hello'\n",
    "    \n",
    "    def welcome():\n",
    "        return '\\t welcome inside hello'\n",
    "    \n",
    "    print('return a function')\n",
    "    \n",
    "    if name == 'Jose':\n",
    "        return greet\n",
    "    else:\n",
    "        return welcome\n",
    "    \n",
    "    print('End of hello')\n",
    "    \n",
    "new_func = hello('Jose')"
   ]
  },
  {
   "cell_type": "code",
   "execution_count": 21,
   "id": "fc4c1962-1dfd-4bb1-ae3e-12c7ac9403fe",
   "metadata": {},
   "outputs": [
    {
     "data": {
      "text/plain": [
       "<function __main__.hello.<locals>.greet()>"
      ]
     },
     "execution_count": 21,
     "metadata": {},
     "output_type": "execute_result"
    }
   ],
   "source": [
    "new_func"
   ]
  },
  {
   "cell_type": "code",
   "execution_count": 23,
   "id": "7769d61f-936a-47d7-bfc1-ce00303f18b1",
   "metadata": {},
   "outputs": [
    {
     "name": "stdout",
     "output_type": "stream",
     "text": [
      "\t greet inside hello\n"
     ]
    }
   ],
   "source": [
    "print(new_func())"
   ]
  },
  {
   "cell_type": "code",
   "execution_count": 24,
   "id": "662e8c95-ae34-4ae7-9f3f-834d2f744ef1",
   "metadata": {},
   "outputs": [],
   "source": [
    "# "
   ]
  },
  {
   "cell_type": "code",
   "execution_count": 25,
   "id": "a2b7e22a-123b-4f32-a745-116bd525c637",
   "metadata": {},
   "outputs": [],
   "source": [
    "def cool():\n",
    "    def super_cool():\n",
    "        return 'I am very cool'\n",
    "    return super_cool\n",
    "\n",
    "some_func = cool()"
   ]
  },
  {
   "cell_type": "code",
   "execution_count": 26,
   "id": "97428b12-b460-4bec-b15b-9da6d516c099",
   "metadata": {},
   "outputs": [
    {
     "data": {
      "text/plain": [
       "<function __main__.cool.<locals>.super_cool()>"
      ]
     },
     "execution_count": 26,
     "metadata": {},
     "output_type": "execute_result"
    }
   ],
   "source": [
    "some_func"
   ]
  },
  {
   "cell_type": "code",
   "execution_count": 27,
   "id": "735747cd-f9d3-41a5-8e66-48c2b430d7e7",
   "metadata": {},
   "outputs": [
    {
     "data": {
      "text/plain": [
       "'I am very cool'"
      ]
     },
     "execution_count": 27,
     "metadata": {},
     "output_type": "execute_result"
    }
   ],
   "source": [
    "some_func()"
   ]
  },
  {
   "cell_type": "code",
   "execution_count": 31,
   "id": "7d427df8-efdf-47c3-afd8-d8fb664bb7e3",
   "metadata": {},
   "outputs": [],
   "source": [
    "# passing funcation as argument "
   ]
  },
  {
   "cell_type": "code",
   "execution_count": 29,
   "id": "35109814-5992-4d2a-9b26-fbd6f0f1b295",
   "metadata": {},
   "outputs": [],
   "source": [
    "def hello():\n",
    "    return 'Hi Kishan'"
   ]
  },
  {
   "cell_type": "code",
   "execution_count": 30,
   "id": "8c1880c4-9234-4996-812c-c8ff58b58120",
   "metadata": {},
   "outputs": [],
   "source": [
    "def other(def_func):\n",
    "    print('other code runs here')\n",
    "    print(def_func())"
   ]
  },
  {
   "cell_type": "code",
   "execution_count": 32,
   "id": "c055def4-1252-46ff-a61e-9cab593a9d64",
   "metadata": {},
   "outputs": [
    {
     "name": "stdout",
     "output_type": "stream",
     "text": [
      "other code runs here\n",
      "Hi Kishan\n"
     ]
    }
   ],
   "source": [
    "other(hello)"
   ]
  },
  {
   "cell_type": "code",
   "execution_count": 33,
   "id": "1b984981-33a2-495d-947d-7eff49e66b35",
   "metadata": {},
   "outputs": [],
   "source": [
    "#"
   ]
  },
  {
   "cell_type": "code",
   "execution_count": 34,
   "id": "a68ce057-d42f-4d5c-9d33-2c4d387e8685",
   "metadata": {},
   "outputs": [],
   "source": [
    "def new_dec(origin_func):\n",
    "    \n",
    "    def wrap_func():\n",
    "        print('code before origin func')\n",
    "        origin_func()\n",
    "        print('code after origin func')\n",
    "        \n",
    "    return wrap_func"
   ]
  },
  {
   "cell_type": "code",
   "execution_count": 38,
   "id": "a6550c68-9a8d-46a1-8a79-d329f88cebb8",
   "metadata": {},
   "outputs": [],
   "source": [
    "def need_dec():\n",
    "    print('want decorated')"
   ]
  },
  {
   "cell_type": "code",
   "execution_count": 39,
   "id": "b37b8731-12c1-4899-b3c1-169af12ede98",
   "metadata": {},
   "outputs": [],
   "source": [
    "dec_func = new_dec(need_dec)"
   ]
  },
  {
   "cell_type": "code",
   "execution_count": 41,
   "id": "fa6155a9-089d-4f3f-bf44-1410b59387d9",
   "metadata": {},
   "outputs": [
    {
     "name": "stdout",
     "output_type": "stream",
     "text": [
      "code before origin func\n",
      "want decorated\n",
      "code after origin func\n"
     ]
    }
   ],
   "source": [
    "dec_func()"
   ]
  },
  {
   "cell_type": "code",
   "execution_count": 42,
   "id": "d3ef637d-e1da-419d-87ee-14aff2cfba80",
   "metadata": {},
   "outputs": [],
   "source": [
    "#"
   ]
  },
  {
   "cell_type": "code",
   "execution_count": 44,
   "id": "6ff0779c-1078-4bd0-ba58-f6ed2c6b33ba",
   "metadata": {},
   "outputs": [
    {
     "name": "stdout",
     "output_type": "stream",
     "text": [
      "code before origin func\n",
      "want decorated\n",
      "code after origin func\n"
     ]
    }
   ],
   "source": [
    "@new_dec\n",
    "def need_dec():\n",
    "    print('want decorated')\n",
    "    \n",
    "need_dec()"
   ]
  },
  {
   "cell_type": "code",
   "execution_count": 45,
   "id": "f4171b77-110f-497d-aade-58945053a739",
   "metadata": {},
   "outputs": [],
   "source": [
    "# Generators"
   ]
  },
  {
   "cell_type": "code",
   "execution_count": 49,
   "id": "ad2ffe45-d8fc-4eec-80a8-bfa6e03eba8f",
   "metadata": {},
   "outputs": [
    {
     "data": {
      "text/plain": [
       "[0, 1, 8, 27, 64]"
      ]
     },
     "execution_count": 49,
     "metadata": {},
     "output_type": "execute_result"
    }
   ],
   "source": [
    "def create_cubes(n):\n",
    "    result = []\n",
    "    for x in range(n):\n",
    "        result.append(x**3)\n",
    "    return result\n",
    "\n",
    "create_cubes(5)"
   ]
  },
  {
   "cell_type": "code",
   "execution_count": 50,
   "id": "82617f89-f000-4fc9-a1d9-ab1051c6126e",
   "metadata": {},
   "outputs": [
    {
     "name": "stdout",
     "output_type": "stream",
     "text": [
      "0\n",
      "1\n",
      "8\n",
      "27\n",
      "64\n"
     ]
    }
   ],
   "source": [
    "for x in create_cubes(5):\n",
    "    print(x)"
   ]
  },
  {
   "cell_type": "code",
   "execution_count": 51,
   "id": "082ef242-acc5-466c-980d-768b25f25e54",
   "metadata": {},
   "outputs": [],
   "source": [
    "#"
   ]
  },
  {
   "cell_type": "code",
   "execution_count": 52,
   "id": "084622f4-78cd-44df-a5c2-64959aa901fa",
   "metadata": {},
   "outputs": [
    {
     "data": {
      "text/plain": [
       "<generator object create_cubes at 0x7f6fede49430>"
      ]
     },
     "execution_count": 52,
     "metadata": {},
     "output_type": "execute_result"
    }
   ],
   "source": [
    "def create_cubes(n):\n",
    "    for x in range(n):\n",
    "        yield(x**3)\n",
    "    \n",
    "create_cubes(5)"
   ]
  },
  {
   "cell_type": "code",
   "execution_count": 53,
   "id": "67f889b3-2743-4539-b3c8-cea3543a80fd",
   "metadata": {},
   "outputs": [
    {
     "name": "stdout",
     "output_type": "stream",
     "text": [
      "0\n",
      "1\n",
      "8\n",
      "27\n",
      "64\n"
     ]
    }
   ],
   "source": [
    "for x in create_cubes(5):\n",
    "    print(x)"
   ]
  },
  {
   "cell_type": "code",
   "execution_count": 55,
   "id": "8b589f24-d164-4356-bceb-8a2ae9958de7",
   "metadata": {},
   "outputs": [
    {
     "data": {
      "text/plain": [
       "[0, 1, 8, 27, 64]"
      ]
     },
     "execution_count": 55,
     "metadata": {},
     "output_type": "execute_result"
    }
   ],
   "source": [
    "list(create_cubes(5))"
   ]
  },
  {
   "cell_type": "code",
   "execution_count": 54,
   "id": "6f45a3fe-b51b-4f75-a06b-5c9bdc755280",
   "metadata": {},
   "outputs": [],
   "source": [
    "# Here it is generating values as we need them "
   ]
  },
  {
   "cell_type": "code",
   "execution_count": 56,
   "id": "4e9d3970-b484-4509-84b6-f35980e3cc19",
   "metadata": {},
   "outputs": [],
   "source": [
    "def gen_fibon(n):\n",
    "    a = 1\n",
    "    b = 1\n",
    "    for i in range(n):\n",
    "        yield(a)\n",
    "        a,b = b, a+b"
   ]
  },
  {
   "cell_type": "code",
   "execution_count": 58,
   "id": "fe432155-5638-4f95-aec1-306ce1f5bcc5",
   "metadata": {},
   "outputs": [
    {
     "name": "stdout",
     "output_type": "stream",
     "text": [
      "(0, 1)\n",
      "(1, 1)\n",
      "(2, 2)\n",
      "(3, 3)\n",
      "(4, 5)\n",
      "(5, 8)\n",
      "(6, 13)\n",
      "(7, 21)\n",
      "(8, 34)\n",
      "(9, 55)\n"
     ]
    }
   ],
   "source": [
    "for num in enumerate(gen_fibon(10)):\n",
    "    print(num)"
   ]
  },
  {
   "cell_type": "code",
   "execution_count": 59,
   "id": "70bbe364-50ca-413f-bbd8-e15677a23532",
   "metadata": {},
   "outputs": [],
   "source": [
    "# "
   ]
  },
  {
   "cell_type": "code",
   "execution_count": 61,
   "id": "47a7e7cf-f5d1-416f-afb1-b05ec8bd1c21",
   "metadata": {},
   "outputs": [
    {
     "data": {
      "text/plain": [
       "[1, 1, 2, 3, 5, 8, 13, 21, 34, 55]"
      ]
     },
     "execution_count": 61,
     "metadata": {},
     "output_type": "execute_result"
    }
   ],
   "source": [
    "def gen_fibon(n):\n",
    "    a = 1\n",
    "    b = 1\n",
    "    out = []\n",
    "    for i in range(n):\n",
    "        out.append(a)\n",
    "        a,b = b, a+b\n",
    "    return out\n",
    "gen_fibon(10)"
   ]
  },
  {
   "cell_type": "code",
   "execution_count": 62,
   "id": "a7e2ffc8-38c0-47ce-a8fb-1724693464d8",
   "metadata": {},
   "outputs": [],
   "source": [
    "#"
   ]
  },
  {
   "cell_type": "code",
   "execution_count": 71,
   "id": "ed92bd2b-d734-44f1-b4ec-7531b92fa681",
   "metadata": {},
   "outputs": [
    {
     "name": "stdout",
     "output_type": "stream",
     "text": [
      "0\n",
      "1\n",
      "2\n"
     ]
    }
   ],
   "source": [
    "def simple_gen():\n",
    "    for x in range(3):\n",
    "        yield x\n",
    "        \n",
    "for num in simple_gen():\n",
    "    print(num)"
   ]
  },
  {
   "cell_type": "code",
   "execution_count": 72,
   "id": "5dd60c0e-47ba-4f3f-a58a-7c7cd8fa76cc",
   "metadata": {},
   "outputs": [
    {
     "data": {
      "text/plain": [
       "<generator object simple_gen at 0x7f6fee37b580>"
      ]
     },
     "execution_count": 72,
     "metadata": {},
     "output_type": "execute_result"
    }
   ],
   "source": [
    "g = simple_gen()\n",
    "g"
   ]
  },
  {
   "cell_type": "code",
   "execution_count": 73,
   "id": "84dbf0d3-2230-49b0-bdbd-72df0347c2fc",
   "metadata": {},
   "outputs": [
    {
     "name": "stdout",
     "output_type": "stream",
     "text": [
      "0\n",
      "1\n",
      "2\n"
     ]
    },
    {
     "ename": "StopIteration",
     "evalue": "",
     "output_type": "error",
     "traceback": [
      "\u001b[0;31m---------------------------------------------------------------------------\u001b[0m",
      "\u001b[0;31mStopIteration\u001b[0m                             Traceback (most recent call last)",
      "\u001b[0;32m<ipython-input-73-ad4ac49d2fb9>\u001b[0m in \u001b[0;36m<module>\u001b[0;34m\u001b[0m\n\u001b[1;32m      2\u001b[0m \u001b[0mprint\u001b[0m\u001b[0;34m(\u001b[0m\u001b[0mnext\u001b[0m\u001b[0;34m(\u001b[0m\u001b[0mg\u001b[0m\u001b[0;34m)\u001b[0m\u001b[0;34m)\u001b[0m\u001b[0;34m\u001b[0m\u001b[0;34m\u001b[0m\u001b[0m\n\u001b[1;32m      3\u001b[0m \u001b[0mprint\u001b[0m\u001b[0;34m(\u001b[0m\u001b[0mnext\u001b[0m\u001b[0;34m(\u001b[0m\u001b[0mg\u001b[0m\u001b[0;34m)\u001b[0m\u001b[0;34m)\u001b[0m\u001b[0;34m\u001b[0m\u001b[0;34m\u001b[0m\u001b[0m\n\u001b[0;32m----> 4\u001b[0;31m \u001b[0mprint\u001b[0m\u001b[0;34m(\u001b[0m\u001b[0mnext\u001b[0m\u001b[0;34m(\u001b[0m\u001b[0mg\u001b[0m\u001b[0;34m)\u001b[0m\u001b[0;34m)\u001b[0m\u001b[0;34m\u001b[0m\u001b[0;34m\u001b[0m\u001b[0m\n\u001b[0m",
      "\u001b[0;31mStopIteration\u001b[0m: "
     ]
    }
   ],
   "source": [
    "print(next(g))\n",
    "print(next(g))\n",
    "print(next(g))\n",
    "print(next(g))"
   ]
  },
  {
   "cell_type": "code",
   "execution_count": 74,
   "id": "243fca4f-d5ba-4f41-b437-5e98648e6cba",
   "metadata": {},
   "outputs": [],
   "source": [
    "#"
   ]
  },
  {
   "cell_type": "code",
   "execution_count": 75,
   "id": "db77f95a-fcb3-4f04-80a5-663c114f7d1e",
   "metadata": {},
   "outputs": [
    {
     "name": "stdout",
     "output_type": "stream",
     "text": [
      "H\n",
      "e\n",
      "l\n",
      "l\n",
      "o\n"
     ]
    }
   ],
   "source": [
    "s = 'Hello'\n",
    "\n",
    "for letter in s:\n",
    "    print(letter)"
   ]
  },
  {
   "cell_type": "code",
   "execution_count": 81,
   "id": "ab63ba5e-cd12-4121-b458-3ad84c8a81d5",
   "metadata": {},
   "outputs": [
    {
     "name": "stdout",
     "output_type": "stream",
     "text": [
      "H\n",
      "e\n",
      "l\n"
     ]
    }
   ],
   "source": [
    "# this help you to iter though string\n",
    "s_iter = iter(s)\n",
    "print(next(s_iter))\n",
    "print(next(s_iter))\n",
    "print(next(s_iter))"
   ]
  },
  {
   "cell_type": "code",
   "execution_count": 82,
   "id": "6cccba95-6997-4993-a318-0dd700f437b0",
   "metadata": {},
   "outputs": [],
   "source": [
    "# "
   ]
  },
  {
   "cell_type": "code",
   "execution_count": 83,
   "id": "9bb2e8f4-69b8-41cf-97b5-be3c35920cf2",
   "metadata": {},
   "outputs": [
    {
     "name": "stdout",
     "output_type": "stream",
     "text": [
      "0\n",
      "1\n",
      "4\n",
      "9\n",
      "16\n"
     ]
    }
   ],
   "source": [
    "def gensq(n):\n",
    "    for i in range(n):\n",
    "        yield i**2\n",
    "        \n",
    "for x in gensq(5):\n",
    "    print(x)"
   ]
  },
  {
   "cell_type": "code",
   "execution_count": 85,
   "id": "2db15236-0ae0-4167-a5e8-ee31aa505f51",
   "metadata": {},
   "outputs": [
    {
     "name": "stdout",
     "output_type": "stream",
     "text": [
      "3\n",
      "8\n",
      "3\n",
      "10\n",
      "1\n"
     ]
    }
   ],
   "source": [
    "def rand_num(l, h, n):\n",
    "    for i in range(n):\n",
    "        yield random.randint(l,h)\n",
    "        \n",
    "for num in rand_num(1,10, 5):\n",
    "    print(num)"
   ]
  },
  {
   "cell_type": "code",
   "execution_count": 86,
   "id": "e7800557-d2b0-4ac0-8f2f-227341ed8e79",
   "metadata": {},
   "outputs": [
    {
     "name": "stdout",
     "output_type": "stream",
     "text": [
      "4\n",
      "5\n"
     ]
    }
   ],
   "source": [
    "mylst = [1,2,3,4,5]\n",
    "\n",
    "gen = (item for item in mylst if item>3)\n",
    "\n",
    "for item in gen:\n",
    "    print(item)"
   ]
  },
  {
   "cell_type": "code",
   "execution_count": 87,
   "id": "35cc3ce1-1839-48dc-88db-4354b982185e",
   "metadata": {},
   "outputs": [
    {
     "data": {
      "text/plain": [
       "<generator object <genexpr> at 0x7f6fee321270>"
      ]
     },
     "execution_count": 87,
     "metadata": {},
     "output_type": "execute_result"
    }
   ],
   "source": [
    "gen"
   ]
  },
  {
   "cell_type": "code",
   "execution_count": null,
   "id": "95ebbc50-d9d7-448c-a420-e3d07271e47b",
   "metadata": {},
   "outputs": [],
   "source": []
  }
 ],
 "metadata": {
  "kernelspec": {
   "display_name": "Python 3",
   "language": "python",
   "name": "python3"
  },
  "language_info": {
   "codemirror_mode": {
    "name": "ipython",
    "version": 3
   },
   "file_extension": ".py",
   "mimetype": "text/x-python",
   "name": "python",
   "nbconvert_exporter": "python",
   "pygments_lexer": "ipython3",
   "version": "3.8.8"
  }
 },
 "nbformat": 4,
 "nbformat_minor": 5
}
