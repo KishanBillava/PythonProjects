{
 "cells": [
  {
   "cell_type": "code",
   "execution_count": 41,
   "id": "ec715d32-3b59-4ff3-8de5-2938fb09503f",
   "metadata": {},
   "outputs": [],
   "source": [
    "from random import shuffle, randint"
   ]
  },
  {
   "cell_type": "code",
   "execution_count": 8,
   "id": "1e753cff-6537-46a3-b437-e7a05d35529d",
   "metadata": {},
   "outputs": [],
   "source": [
    "# While # break, continue, pass"
   ]
  },
  {
   "cell_type": "code",
   "execution_count": 22,
   "id": "f579ec94-b933-406b-909c-f2f2864b4cb7",
   "metadata": {},
   "outputs": [
    {
     "name": "stdout",
     "output_type": "stream",
     "text": [
      "0\n",
      "continue...\n",
      "1\n",
      "continue...\n",
      "2\n",
      "x==3, break\n"
     ]
    }
   ],
   "source": [
    "x = 0\n",
    "\n",
    "while x < 6 :\n",
    "    print(x)\n",
    "    x+=1\n",
    "    if x==3:\n",
    "        print('x==3, break')\n",
    "        break\n",
    "    else:\n",
    "        print('continue...')\n",
    "        continue\n",
    "else:\n",
    "    print('\\n done')"
   ]
  },
  {
   "cell_type": "raw",
   "id": "e45e1bc3-e6c3-47de-98cc-c428ed86553a",
   "metadata": {},
   "source": [
    "# DO NOT RUN THIS CODE!!!! \n",
    "while True:\n",
    "    print(\"I'm stuck in an infinite loop!\")"
   ]
  },
  {
   "cell_type": "code",
   "execution_count": 24,
   "id": "118e4648-84fb-42a0-a89a-2d0f38c47f16",
   "metadata": {},
   "outputs": [
    {
     "data": {
      "text/plain": [
       "[0, 2, 4, 6, 8, 10]"
      ]
     },
     "execution_count": 24,
     "metadata": {},
     "output_type": "execute_result"
    }
   ],
   "source": [
    "# Third parameter is step size!\n",
    "# step size just means how big of a jump/leap/step you \n",
    "# take from the starting number to get to the next number.\n",
    "list(range(0,11,2))"
   ]
  },
  {
   "cell_type": "code",
   "execution_count": 25,
   "id": "e490b1b9-a827-48e1-a821-2e8a0f053048",
   "metadata": {},
   "outputs": [],
   "source": [
    "# enumerate"
   ]
  },
  {
   "cell_type": "code",
   "execution_count": 26,
   "id": "1b7fe4c8-7a34-46c2-b8dc-3c49d521bbda",
   "metadata": {},
   "outputs": [
    {
     "name": "stdout",
     "output_type": "stream",
     "text": [
      "index 0 letter a\n",
      "index 1 letter b\n",
      "index 2 letter c\n",
      "index 3 letter d\n",
      "index 4 letter e\n"
     ]
    }
   ],
   "source": [
    "index = 0\n",
    "\n",
    "for letter in 'abcde':\n",
    "    print('index {} letter {}'.format(index,letter))\n",
    "    index+=1"
   ]
  },
  {
   "cell_type": "code",
   "execution_count": 27,
   "id": "cb79cd92-2c87-4934-98ec-7e4111ad3c49",
   "metadata": {},
   "outputs": [
    {
     "name": "stdout",
     "output_type": "stream",
     "text": [
      "0 a\n",
      "1 b\n",
      "2 c\n",
      "3 d\n",
      "4 e\n"
     ]
    }
   ],
   "source": [
    "for i, letter in enumerate('abcde'):\n",
    "    print(i, letter)"
   ]
  },
  {
   "cell_type": "code",
   "execution_count": 28,
   "id": "310560e5-1813-4d46-ab6b-5025dcaf492d",
   "metadata": {},
   "outputs": [
    {
     "data": {
      "text/plain": [
       "[(0, 'a'), (1, 'b'), (2, 'c'), (3, 'd'), (4, 'e')]"
      ]
     },
     "execution_count": 28,
     "metadata": {},
     "output_type": "execute_result"
    }
   ],
   "source": [
    "list(enumerate('abcde'))"
   ]
  },
  {
   "cell_type": "code",
   "execution_count": 29,
   "id": "fb17603b-36a7-43e3-ba13-635482d3efa9",
   "metadata": {},
   "outputs": [],
   "source": [
    "# zip"
   ]
  },
  {
   "cell_type": "code",
   "execution_count": 30,
   "id": "a9a001f4-1544-4b76-a7a6-04646b21975d",
   "metadata": {},
   "outputs": [],
   "source": [
    "mylist1 = [1,2,3,4,5]\n",
    "mylist2 = ['a','b','c','d','e']"
   ]
  },
  {
   "cell_type": "code",
   "execution_count": 32,
   "id": "eae8c175-4997-4a86-99ad-52b2d3c9420f",
   "metadata": {},
   "outputs": [
    {
     "data": {
      "text/plain": [
       "[(1, 'a'), (2, 'b'), (3, 'c'), (4, 'd'), (5, 'e')]"
      ]
     },
     "execution_count": 32,
     "metadata": {},
     "output_type": "execute_result"
    }
   ],
   "source": [
    "list(zip(mylist1, mylist2))"
   ]
  },
  {
   "cell_type": "code",
   "execution_count": 33,
   "id": "ab653213-9a51-4c2c-8c86-bfcc1e80e5ea",
   "metadata": {},
   "outputs": [
    {
     "name": "stdout",
     "output_type": "stream",
     "text": [
      "1 a\n",
      "2 b\n",
      "3 c\n",
      "4 d\n",
      "5 e\n"
     ]
    }
   ],
   "source": [
    "for i, j in zip(mylist1, mylist2):\n",
    "    print(i,j)"
   ]
  },
  {
   "cell_type": "code",
   "execution_count": 34,
   "id": "b5e90377-d77f-4d19-9ae8-18e04ddc1357",
   "metadata": {},
   "outputs": [],
   "source": [
    "# operator"
   ]
  },
  {
   "cell_type": "code",
   "execution_count": 35,
   "id": "240a74b2-c8ea-4d0f-926f-c04a8bc2d6a8",
   "metadata": {},
   "outputs": [
    {
     "data": {
      "text/plain": [
       "True"
      ]
     },
     "execution_count": 35,
     "metadata": {},
     "output_type": "execute_result"
    }
   ],
   "source": [
    "'x' in ['x', 'y', 'z', 1,2,3]"
   ]
  },
  {
   "cell_type": "code",
   "execution_count": 36,
   "id": "d1b0bfa4-6e8a-413a-9efc-0c82939e37fc",
   "metadata": {},
   "outputs": [
    {
     "data": {
      "text/plain": [
       "True"
      ]
     },
     "execution_count": 36,
     "metadata": {},
     "output_type": "execute_result"
    }
   ],
   "source": [
    "4 not in ['x', 'y', 'z', 1,2,3]"
   ]
  },
  {
   "cell_type": "code",
   "execution_count": 37,
   "id": "f8cdd7eb-16dd-40d4-9925-b8ea6a60a81d",
   "metadata": {},
   "outputs": [],
   "source": [
    "# min, max"
   ]
  },
  {
   "cell_type": "code",
   "execution_count": 38,
   "id": "cb9d6c6d-6452-4124-9bbb-cb0854539c3d",
   "metadata": {},
   "outputs": [],
   "source": [
    "mylist = [10,20,30,40,100]"
   ]
  },
  {
   "cell_type": "code",
   "execution_count": 39,
   "id": "07bcb568-8186-4ce4-b201-8f48284913bd",
   "metadata": {},
   "outputs": [
    {
     "data": {
      "text/plain": [
       "10"
      ]
     },
     "execution_count": 39,
     "metadata": {},
     "output_type": "execute_result"
    }
   ],
   "source": [
    "min(mylist)"
   ]
  },
  {
   "cell_type": "code",
   "execution_count": 40,
   "id": "9c6253e7-1620-432f-b0dc-285380fcef00",
   "metadata": {},
   "outputs": [
    {
     "data": {
      "text/plain": [
       "100"
      ]
     },
     "execution_count": 40,
     "metadata": {},
     "output_type": "execute_result"
    }
   ],
   "source": [
    "max(mylist)"
   ]
  },
  {
   "cell_type": "code",
   "execution_count": 42,
   "id": "7265f6e7-45c0-480f-9d8a-b350f0c1f30e",
   "metadata": {},
   "outputs": [],
   "source": [
    "# random"
   ]
  },
  {
   "cell_type": "code",
   "execution_count": 43,
   "id": "02d4b251-5768-4251-9ab1-9ca94460276d",
   "metadata": {},
   "outputs": [
    {
     "data": {
      "text/plain": [
       "53"
      ]
     },
     "execution_count": 43,
     "metadata": {},
     "output_type": "execute_result"
    }
   ],
   "source": [
    "randint(0,100)"
   ]
  },
  {
   "cell_type": "code",
   "execution_count": 46,
   "id": "50b79d32-def0-4d68-9a80-612b11c21df6",
   "metadata": {},
   "outputs": [
    {
     "data": {
      "text/plain": [
       "[100, 30, 10, 40, 20]"
      ]
     },
     "execution_count": 46,
     "metadata": {},
     "output_type": "execute_result"
    }
   ],
   "source": [
    "shuffle(mylist)\n",
    "mylist"
   ]
  },
  {
   "cell_type": "code",
   "execution_count": 47,
   "id": "e19c57f6-9edf-45b4-8455-5bc34f47bb93",
   "metadata": {},
   "outputs": [],
   "source": [
    "# input "
   ]
  },
  {
   "cell_type": "code",
   "execution_count": 48,
   "id": "8f9054fb-34d4-47c0-a4a1-2fe3e76b0da6",
   "metadata": {},
   "outputs": [
    {
     "name": "stdin",
     "output_type": "stream",
     "text": [
      "Enter something into box 5\n"
     ]
    },
    {
     "data": {
      "text/plain": [
       "'5'"
      ]
     },
     "execution_count": 48,
     "metadata": {},
     "output_type": "execute_result"
    }
   ],
   "source": [
    "input(\"Enter something into box\")"
   ]
  },
  {
   "cell_type": "code",
   "execution_count": 1,
   "id": "23016c7d-c424-4312-967e-596538dfbf4a",
   "metadata": {},
   "outputs": [],
   "source": [
    "# List Comprehensions"
   ]
  },
  {
   "cell_type": "code",
   "execution_count": 5,
   "id": "c37b2c28-51f0-4a78-aa0c-c6a23fd5a5ab",
   "metadata": {},
   "outputs": [
    {
     "data": {
      "text/plain": [
       "['w', 'o', 'r', 'd']"
      ]
     },
     "execution_count": 5,
     "metadata": {},
     "output_type": "execute_result"
    }
   ],
   "source": [
    "# Grab every letter in string\n",
    "lst = [x for x in 'word']\n",
    "lst"
   ]
  },
  {
   "cell_type": "code",
   "execution_count": 6,
   "id": "fec8c97d-75be-4ddd-9e95-c8de7866eb1b",
   "metadata": {},
   "outputs": [
    {
     "data": {
      "text/plain": [
       "[0, 1, 4, 9, 16, 25, 36, 49, 64, 81, 100]"
      ]
     },
     "execution_count": 6,
     "metadata": {},
     "output_type": "execute_result"
    }
   ],
   "source": [
    "lst = [x**2 for x in range(0,11)]\n",
    "lst"
   ]
  },
  {
   "cell_type": "code",
   "execution_count": 7,
   "id": "263d6d30-b900-4b9c-b930-b5b5bddec881",
   "metadata": {},
   "outputs": [
    {
     "data": {
      "text/plain": [
       "[0, 2, 4, 6, 8, 10]"
      ]
     },
     "execution_count": 7,
     "metadata": {},
     "output_type": "execute_result"
    }
   ],
   "source": [
    "lst = [x for x in range(11) if x%2==0]\n",
    "lst"
   ]
  },
  {
   "cell_type": "code",
   "execution_count": 8,
   "id": "ca790141-7ced-421e-bd8c-59e67323c24a",
   "metadata": {},
   "outputs": [
    {
     "data": {
      "text/plain": [
       "[32.0, 50.0, 68.18, 94.1]"
      ]
     },
     "execution_count": 8,
     "metadata": {},
     "output_type": "execute_result"
    }
   ],
   "source": [
    "# Convert Celsius to Fahrenheit\n",
    "celsius = [0,10,20.1,34.5]\n",
    "\n",
    "fahrenheit = [((9/5)*temp + 32) for temp in celsius ]\n",
    "\n",
    "fahrenheit"
   ]
  },
  {
   "cell_type": "code",
   "execution_count": 15,
   "id": "1a014d46-2499-478f-9903-9d004566d3a8",
   "metadata": {},
   "outputs": [
    {
     "data": {
      "text/plain": [
       "[0, 16, 256, 1296, 4096, 10000]"
      ]
     },
     "execution_count": 15,
     "metadata": {},
     "output_type": "execute_result"
    }
   ],
   "source": [
    "lst = [x**2 for x in [x**2 for x in range(11)] if x%2==0]\n",
    "lst"
   ]
  },
  {
   "cell_type": "code",
   "execution_count": 16,
   "id": "5b3f18c8-90ea-4877-aaa1-082dc828d9c2",
   "metadata": {},
   "outputs": [
    {
     "data": {
      "text/plain": [
       "[0, 1, 4, 9, 16, 25, 36, 49, 64, 81, 100]"
      ]
     },
     "execution_count": 16,
     "metadata": {},
     "output_type": "execute_result"
    }
   ],
   "source": [
    "[x**2 for x in range(11)]"
   ]
  },
  {
   "cell_type": "code",
   "execution_count": 17,
   "id": "1ab82050-c96b-4702-b1c0-2ec5afa6b95b",
   "metadata": {},
   "outputs": [
    {
     "data": {
      "text/plain": [
       "16"
      ]
     },
     "execution_count": 17,
     "metadata": {},
     "output_type": "execute_result"
    }
   ],
   "source": [
    "4**2"
   ]
  },
  {
   "cell_type": "code",
   "execution_count": 18,
   "id": "a71f1a23-5be3-49ab-80b5-4426c51af7ae",
   "metadata": {},
   "outputs": [],
   "source": [
    "# Methods"
   ]
  },
  {
   "cell_type": "code",
   "execution_count": 21,
   "id": "2e573c7a-f30c-4bee-a905-bda9fd52fa7b",
   "metadata": {},
   "outputs": [
    {
     "data": {
      "text/plain": [
       "[1, 2, 3, 4, 5, 6]"
      ]
     },
     "execution_count": 21,
     "metadata": {},
     "output_type": "execute_result"
    }
   ],
   "source": [
    "# Create a simple list\n",
    "lst = [1,2,3,4,5]\n",
    "lst.append(6)\n",
    "lst"
   ]
  },
  {
   "cell_type": "code",
   "execution_count": 22,
   "id": "d8190b05-f936-48ce-a2fe-2153f6559c8d",
   "metadata": {},
   "outputs": [
    {
     "data": {
      "text/plain": [
       "1"
      ]
     },
     "execution_count": 22,
     "metadata": {},
     "output_type": "execute_result"
    }
   ],
   "source": [
    "# Check how many times 2 shows up in the list\n",
    "lst.count(2)"
   ]
  },
  {
   "cell_type": "code",
   "execution_count": 23,
   "id": "625f0ffe-468e-4bb1-99b3-87461b3e0c26",
   "metadata": {},
   "outputs": [
    {
     "name": "stdout",
     "output_type": "stream",
     "text": [
      "Help on built-in function count:\n",
      "\n",
      "count(value, /) method of builtins.list instance\n",
      "    Return number of occurrences of value.\n",
      "\n"
     ]
    }
   ],
   "source": [
    "help(lst.count)"
   ]
  },
  {
   "cell_type": "code",
   "execution_count": null,
   "id": "bf963596-f638-41ef-b960-bfffc1bf4364",
   "metadata": {},
   "outputs": [],
   "source": []
  }
 ],
 "metadata": {
  "kernelspec": {
   "display_name": "Python 3",
   "language": "python",
   "name": "python3"
  },
  "language_info": {
   "codemirror_mode": {
    "name": "ipython",
    "version": 3
   },
   "file_extension": ".py",
   "mimetype": "text/x-python",
   "name": "python",
   "nbconvert_exporter": "python",
   "pygments_lexer": "ipython3",
   "version": "3.8.8"
  }
 },
 "nbformat": 4,
 "nbformat_minor": 5
}
