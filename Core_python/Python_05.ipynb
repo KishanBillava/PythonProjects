{
 "cells": [
  {
   "cell_type": "code",
   "execution_count": 36,
   "id": "1f72e528-622b-4835-a260-b6c352e3c067",
   "metadata": {},
   "outputs": [],
   "source": [
    "#  Functions\n",
    "from random import shuffle"
   ]
  },
  {
   "cell_type": "code",
   "execution_count": 6,
   "id": "1e3aad22-b5dc-4cd8-a6a3-b5b4be1f11fe",
   "metadata": {},
   "outputs": [
    {
     "data": {
      "text/plain": [
       "'Hello kishan'"
      ]
     },
     "execution_count": 6,
     "metadata": {},
     "output_type": "execute_result"
    }
   ],
   "source": [
    "def greeting(name):\n",
    "    return (f'Hello {name}')\n",
    "\n",
    "greeting('kishan')"
   ]
  },
  {
   "cell_type": "code",
   "execution_count": 7,
   "id": "8252f9ef-be25-4615-b2ad-899c8a75b6ee",
   "metadata": {},
   "outputs": [
    {
     "data": {
      "text/plain": [
       "10"
      ]
     },
     "execution_count": 7,
     "metadata": {},
     "output_type": "execute_result"
    }
   ],
   "source": [
    "def add_num(num1,num2):\n",
    "    return num1+num2\n",
    "\n",
    "add_num(5,5)"
   ]
  },
  {
   "cell_type": "code",
   "execution_count": 8,
   "id": "b5fb39da-e781-4ece-84d2-ef546e900728",
   "metadata": {},
   "outputs": [
    {
     "data": {
      "text/plain": [
       "True"
      ]
     },
     "execution_count": 8,
     "metadata": {},
     "output_type": "execute_result"
    }
   ],
   "source": [
    "20 % 2 == 0"
   ]
  },
  {
   "cell_type": "code",
   "execution_count": 9,
   "id": "de309751-c5d0-4b36-96c8-640a7fc99762",
   "metadata": {},
   "outputs": [
    {
     "data": {
      "text/plain": [
       "True"
      ]
     },
     "execution_count": 9,
     "metadata": {},
     "output_type": "execute_result"
    }
   ],
   "source": [
    "def even_check(number):\n",
    "    return number % 2 == 0\n",
    "\n",
    "even_check(20)"
   ]
  },
  {
   "cell_type": "code",
   "execution_count": 20,
   "id": "2fefa918-6332-4dc0-a1e9-b7722a40ce85",
   "metadata": {},
   "outputs": [
    {
     "data": {
      "text/plain": [
       "([2], [1, 3], [], 1)"
      ]
     },
     "execution_count": 20,
     "metadata": {},
     "output_type": "execute_result"
    }
   ],
   "source": [
    "def check_even(num_list):\n",
    "    \n",
    "    even_number = []\n",
    "    odd_number = []\n",
    "    other = []\n",
    "    \n",
    "    for num in num_list:\n",
    "        if num % 2 == 0:\n",
    "            even_number.append(num)\n",
    "        elif num % 2 != 0:\n",
    "            odd_number.append(num)\n",
    "        else:\n",
    "            other.append(num)           \n",
    "    return even_number, odd_number, other, len(even_number)\n",
    "\n",
    "check_even([1,2,3])"
   ]
  },
  {
   "cell_type": "code",
   "execution_count": 22,
   "id": "9e80e8fc-6fd1-45dd-80ac-c5a170853716",
   "metadata": {},
   "outputs": [],
   "source": [
    "# Returning Tuples for Unpacking"
   ]
  },
  {
   "cell_type": "code",
   "execution_count": 25,
   "id": "4ff204bf-53bf-402e-a0d4-e89975834639",
   "metadata": {},
   "outputs": [
    {
     "name": "stdout",
     "output_type": "stream",
     "text": [
      "AAPL\n",
      "GOOG\n",
      "MSFT\n"
     ]
    }
   ],
   "source": [
    "stock_prices = [('AAPL',200),('GOOG',300),('MSFT',400)]\n",
    "\n",
    "for stock, price in stock_prices:\n",
    "    print(stock)"
   ]
  },
  {
   "cell_type": "code",
   "execution_count": 28,
   "id": "1a632f23-8e44-4a7a-b25a-e49090182f8a",
   "metadata": {},
   "outputs": [
    {
     "data": {
      "text/plain": [
       "('Cassie', 800)"
      ]
     },
     "execution_count": 28,
     "metadata": {},
     "output_type": "execute_result"
    }
   ],
   "source": [
    "work_hours = [('Abby',100),('Billy',400),('Cassie',800)]\n",
    "\n",
    "def employee_check(work_hours):\n",
    "    \n",
    "    current_max = 0\n",
    "    employee_check = ''\n",
    "    \n",
    "    for employee, hours in work_hours:\n",
    "        if hours > current_max:\n",
    "            current_max = hours\n",
    "            employee_check = employee\n",
    "        else:\n",
    "            pass\n",
    "        \n",
    "    return (employee_check, current_max)\n",
    "\n",
    "employee_check(work_hours)"
   ]
  },
  {
   "cell_type": "code",
   "execution_count": 30,
   "id": "35005d3d-077d-45e7-8aa4-92f1b4967b87",
   "metadata": {},
   "outputs": [],
   "source": [
    "# Game\n",
    "mylist = [' ','O',' ']"
   ]
  },
  {
   "cell_type": "code",
   "execution_count": 32,
   "id": "c265982f-231e-4580-ae90-b331b4f76516",
   "metadata": {},
   "outputs": [],
   "source": [
    "def shuffle_list(mylist):\n",
    "    shuffle(mylist)\n",
    "    return mylist"
   ]
  },
  {
   "cell_type": "code",
   "execution_count": 33,
   "id": "94a9ddae-207a-4157-a2ed-e142edf596b3",
   "metadata": {},
   "outputs": [],
   "source": [
    "def player_guess():\n",
    "    guess = ''\n",
    "    while guess not in ['0', '1','2']:\n",
    "        guess = input(\"pick a number: 0,1 or 2 :  \")\n",
    "        return int(guess)"
   ]
  },
  {
   "cell_type": "code",
   "execution_count": 34,
   "id": "86f92519-abb5-4003-b009-23643b681db9",
   "metadata": {},
   "outputs": [],
   "source": [
    "def check_guess(mylist,guess):\n",
    "    if mylist[guess] == 'O':\n",
    "        print(\"Correct\")\n",
    "    else:\n",
    "        print('Wrong')\n",
    "        print(mylist)"
   ]
  },
  {
   "cell_type": "code",
   "execution_count": 37,
   "id": "714cc715-4ea2-422f-9bb3-d971aa8efcaf",
   "metadata": {},
   "outputs": [
    {
     "name": "stdin",
     "output_type": "stream",
     "text": [
      "pick a number: 0,1 or 2 :   0\n"
     ]
    },
    {
     "name": "stdout",
     "output_type": "stream",
     "text": [
      "Wrong\n",
      "[' ', ' ', 'O']\n"
     ]
    }
   ],
   "source": [
    "mylist = [' ','O',' ']\n",
    "mix = shuffle_list(mylist)\n",
    "guess = player_guess()\n",
    "check_guess(mix, guess)"
   ]
  },
  {
   "cell_type": "code",
   "execution_count": 38,
   "id": "079578a5-5fd0-4461-a379-772a850658dc",
   "metadata": {},
   "outputs": [],
   "source": [
    "# Lambda Expressions, Map, and Filter"
   ]
  },
  {
   "cell_type": "code",
   "execution_count": 39,
   "id": "f31f7ab2-8829-41ee-af14-140d4d5953eb",
   "metadata": {},
   "outputs": [],
   "source": [
    "my_nums = [1,2,3,4,5]"
   ]
  },
  {
   "cell_type": "code",
   "execution_count": 45,
   "id": "5450edf0-c4ab-4787-a288-45ea53d943fc",
   "metadata": {},
   "outputs": [
    {
     "data": {
      "text/plain": [
       "[1, 4, 9, 16, 25]"
      ]
     },
     "execution_count": 45,
     "metadata": {},
     "output_type": "execute_result"
    }
   ],
   "source": [
    "def square(num):\n",
    "    return num**2\n",
    "\n",
    "list(map(square,my_nums))"
   ]
  },
  {
   "cell_type": "code",
   "execution_count": 46,
   "id": "426d0456-8395-4070-aafd-0b899db303ba",
   "metadata": {},
   "outputs": [
    {
     "data": {
      "text/plain": [
       "['even', 'C', 'S', 'K', 'even']"
      ]
     },
     "execution_count": 46,
     "metadata": {},
     "output_type": "execute_result"
    }
   ],
   "source": [
    "mynames = ['John','Cindy','Sarah','Kelly','Mike']\n",
    "\n",
    "def splicer(mystring):\n",
    "    if len(mystring) % 2 == 0:\n",
    "        return 'even'\n",
    "    else:\n",
    "        return mystring[0]\n",
    "    \n",
    "list(map(splicer, mynames))"
   ]
  },
  {
   "cell_type": "code",
   "execution_count": 47,
   "id": "da30b12b-994b-4119-b9af-d53a410dd7b0",
   "metadata": {},
   "outputs": [],
   "source": [
    "# filter function"
   ]
  },
  {
   "cell_type": "code",
   "execution_count": 49,
   "id": "7c3860d1-f970-4999-9547-3c2839b59d0c",
   "metadata": {},
   "outputs": [
    {
     "data": {
      "text/plain": [
       "[0, 2, 4, 6, 8, 10]"
      ]
     },
     "execution_count": 49,
     "metadata": {},
     "output_type": "execute_result"
    }
   ],
   "source": [
    "nums = [0,1,2,3,4,5,6,7,8,9,10]\n",
    "\n",
    "def check_even(num):\n",
    "    return num % 2==0\n",
    "\n",
    "list(filter(check_even, nums))"
   ]
  },
  {
   "cell_type": "code",
   "execution_count": 50,
   "id": "224a0fc8-c2bf-4c28-a299-1cd8caea58c6",
   "metadata": {},
   "outputs": [],
   "source": [
    "# lambda expression"
   ]
  },
  {
   "cell_type": "code",
   "execution_count": 51,
   "id": "2aafa8e7-8708-45df-923b-1d910171a834",
   "metadata": {},
   "outputs": [
    {
     "data": {
      "text/plain": [
       "4"
      ]
     },
     "execution_count": 51,
     "metadata": {},
     "output_type": "execute_result"
    }
   ],
   "source": [
    "def square(num):\n",
    "    return num**2\n",
    "square(2)"
   ]
  },
  {
   "cell_type": "code",
   "execution_count": 52,
   "id": "9d2666cf-9830-492f-addc-e2d931440d62",
   "metadata": {},
   "outputs": [
    {
     "data": {
      "text/plain": [
       "4"
      ]
     },
     "execution_count": 52,
     "metadata": {},
     "output_type": "execute_result"
    }
   ],
   "source": [
    "square = lambda num : num**2\n",
    "square(2)"
   ]
  },
  {
   "cell_type": "code",
   "execution_count": 54,
   "id": "90db68ea-a821-403f-8e38-732226731fb4",
   "metadata": {},
   "outputs": [],
   "source": [
    "#"
   ]
  },
  {
   "cell_type": "code",
   "execution_count": 55,
   "id": "4e25f10d-c0b3-4791-a306-de7b4e73d3f1",
   "metadata": {},
   "outputs": [],
   "source": [
    "nums = [0,1,2,3,4,5,6,7,8,9,10]"
   ]
  },
  {
   "cell_type": "code",
   "execution_count": 56,
   "id": "09d8168b-a561-45aa-a307-13bf5c5b1f5f",
   "metadata": {},
   "outputs": [
    {
     "data": {
      "text/plain": [
       "[True, False, True, False, True, False, True, False, True, False, True]"
      ]
     },
     "execution_count": 56,
     "metadata": {},
     "output_type": "execute_result"
    }
   ],
   "source": [
    "list(map(lambda n:n%2==0 ,nums))"
   ]
  },
  {
   "cell_type": "code",
   "execution_count": 57,
   "id": "e2c9922f-b2c2-4511-9540-f59bbe3c3ea9",
   "metadata": {},
   "outputs": [
    {
     "data": {
      "text/plain": [
       "[0, 1, 4, 9, 16, 25, 36, 49, 64, 81, 100]"
      ]
     },
     "execution_count": 57,
     "metadata": {},
     "output_type": "execute_result"
    }
   ],
   "source": [
    "list(map(lambda n:n**2 ,nums))"
   ]
  },
  {
   "cell_type": "code",
   "execution_count": 58,
   "id": "b08aadf7-5506-4efa-bc90-7361d0ddfc25",
   "metadata": {},
   "outputs": [
    {
     "data": {
      "text/plain": [
       "[0, 2, 4, 6, 8, 10]"
      ]
     },
     "execution_count": 58,
     "metadata": {},
     "output_type": "execute_result"
    }
   ],
   "source": [
    "list(filter(lambda n:n%2==0,nums))"
   ]
  },
  {
   "cell_type": "code",
   "execution_count": 60,
   "id": "c312fc55-2bb9-4a13-9c27-dd8727746f1b",
   "metadata": {},
   "outputs": [],
   "source": [
    "#"
   ]
  },
  {
   "cell_type": "code",
   "execution_count": 61,
   "id": "bb462a3f-4d67-4f43-88ef-a2e220b12933",
   "metadata": {},
   "outputs": [],
   "source": [
    "s = 'string'\n"
   ]
  },
  {
   "cell_type": "code",
   "execution_count": 68,
   "id": "4b3189b8-e062-48a7-8061-7ac1398d172c",
   "metadata": {},
   "outputs": [
    {
     "data": {
      "text/plain": [
       "<function __main__.<lambda>(s)>"
      ]
     },
     "execution_count": 68,
     "metadata": {},
     "output_type": "execute_result"
    }
   ],
   "source": [
    "# Lambda expression for grabbing the first character of a string\n",
    "lambda s: s[0]"
   ]
  },
  {
   "cell_type": "code",
   "execution_count": 67,
   "id": "13530d88-a5d8-4704-b1f5-e3fb6dc63963",
   "metadata": {},
   "outputs": [
    {
     "data": {
      "text/plain": [
       "<function __main__.<lambda>(s)>"
      ]
     },
     "execution_count": 67,
     "metadata": {},
     "output_type": "execute_result"
    }
   ],
   "source": [
    "# Lambda expression for reversing a string\n",
    "lambda s:s[::-1]"
   ]
  },
  {
   "cell_type": "code",
   "execution_count": 69,
   "id": "cd5adc56-bc05-434d-b90a-3c8d4ba6fd90",
   "metadata": {},
   "outputs": [
    {
     "data": {
      "text/plain": [
       "<function __main__.<lambda>(x, y)>"
      ]
     },
     "execution_count": 69,
     "metadata": {},
     "output_type": "execute_result"
    }
   ],
   "source": [
    "lambda x,y : x + y"
   ]
  },
  {
   "cell_type": "code",
   "execution_count": 70,
   "id": "c199be45-6bf9-49b1-aa82-14b0abe0fb0d",
   "metadata": {},
   "outputs": [],
   "source": [
    "# Nested Statements and Scope"
   ]
  },
  {
   "cell_type": "code",
   "execution_count": 72,
   "id": "efa95212-77d9-4343-aadc-3ebea09b7e1d",
   "metadata": {},
   "outputs": [
    {
     "name": "stdout",
     "output_type": "stream",
     "text": [
      "25\n",
      "50\n"
     ]
    }
   ],
   "source": [
    "x = 25 \n",
    "\n",
    "def printer():\n",
    "    x = 50\n",
    "    return x\n",
    "\n",
    "print(x)\n",
    "print(printer())"
   ]
  },
  {
   "cell_type": "code",
   "execution_count": 74,
   "id": "854412c5-c2aa-465e-8723-71d9ed6decd4",
   "metadata": {},
   "outputs": [],
   "source": [
    "# LEGB Rule:\n",
    "\n",
    "#built-in\n",
    "#global\n",
    "#enclosing functions\n",
    "#local"
   ]
  },
  {
   "cell_type": "code",
   "execution_count": 77,
   "id": "45f8009d-2898-48fe-917b-65cccb49c8d2",
   "metadata": {},
   "outputs": [
    {
     "name": "stdout",
     "output_type": "stream",
     "text": [
      "Hello enclosing\n"
     ]
    }
   ],
   "source": [
    "#global\n",
    "name =  'global'\n",
    "\n",
    "def greet():\n",
    "    #enclosing functions\n",
    "    name =  'enclosing'\n",
    "    \n",
    "    def hello():\n",
    "        # name = 'local'\n",
    "        print('Hello ' + name)\n",
    "    hello()\n",
    "        \n",
    "greet()"
   ]
  },
  {
   "cell_type": "code",
   "execution_count": 81,
   "id": "cda135b1-1395-4a2c-bd5d-4963fa41b597",
   "metadata": {},
   "outputs": [
    {
     "name": "stdout",
     "output_type": "stream",
     "text": [
      "50\n",
      "cahnge  10\n",
      "50\n"
     ]
    }
   ],
   "source": [
    "x = 50 \n",
    "\n",
    "def func(x):\n",
    "    print(x)\n",
    "    x = 10\n",
    "    print('cahnge ', x )\n",
    "    \n",
    "func(x)\n",
    "print(x)"
   ]
  },
  {
   "cell_type": "code",
   "execution_count": 82,
   "id": "d7153bc0-4e9e-43e3-97c0-746f29433fb0",
   "metadata": {},
   "outputs": [
    {
     "name": "stdout",
     "output_type": "stream",
     "text": [
      "50\n",
      "change  10\n",
      "10\n"
     ]
    }
   ],
   "source": [
    "x = 50\n",
    "\n",
    "def func():\n",
    "    global x \n",
    "    print(x)\n",
    "    x = 10\n",
    "    print('change ', x )\n",
    "    \n",
    "func()\n",
    "print(x)"
   ]
  },
  {
   "cell_type": "code",
   "execution_count": 83,
   "id": "4db27a51-5ef4-40cb-9fbc-c4e0f4e64f05",
   "metadata": {},
   "outputs": [],
   "source": [
    "#  *args and **kwargs"
   ]
  },
  {
   "cell_type": "code",
   "execution_count": 87,
   "id": "128b1a37-4b7e-48d1-b626-19731e2af41f",
   "metadata": {},
   "outputs": [
    {
     "data": {
      "text/plain": [
       "50.0"
      ]
     },
     "execution_count": 87,
     "metadata": {},
     "output_type": "execute_result"
    }
   ],
   "source": [
    "def myfunc(a,b):\n",
    "    return sum((a,b))*0.5\n",
    "\n",
    "myfunc(40,60)"
   ]
  },
  {
   "cell_type": "code",
   "execution_count": 91,
   "id": "29b85ce1-3dc6-4b72-be52-4d945e716a66",
   "metadata": {},
   "outputs": [
    {
     "data": {
      "text/plain": [
       "50.0"
      ]
     },
     "execution_count": 91,
     "metadata": {},
     "output_type": "execute_result"
    }
   ],
   "source": [
    "def myfunc(*args):\n",
    "    return sum(args)*0.5\n",
    "\n",
    "myfunc(10, 20, 30, 40)"
   ]
  },
  {
   "cell_type": "code",
   "execution_count": 96,
   "id": "292b6dc2-1455-48f3-b308-bccc9308b68f",
   "metadata": {},
   "outputs": [
    {
     "name": "stdout",
     "output_type": "stream",
     "text": [
      "my name is Kishan\n",
      "no name\n"
     ]
    }
   ],
   "source": [
    "def myfunc(**kwargs):\n",
    "    if 'name' in kwargs:\n",
    "        print(f\"my name is {kwargs['name']}\")\n",
    "    else:\n",
    "        print('no name')\n",
    "        \n",
    "myfunc(name='Kishan')\n",
    "myfunc(age = '32')"
   ]
  },
  {
   "cell_type": "code",
   "execution_count": 97,
   "id": "8bf0d060-4261-4a06-ac1c-7bf2368dc0aa",
   "metadata": {},
   "outputs": [],
   "source": [
    "#"
   ]
  },
  {
   "cell_type": "code",
   "execution_count": 106,
   "id": "18822b6a-d1ab-4896-aa4d-7c4dc4444b2f",
   "metadata": {},
   "outputs": [
    {
     "name": "stdout",
     "output_type": "stream",
     "text": [
      "Speed  are (20, 30, 50, 80, 90) and my best speed is 50\n",
      "my name is kishan\n"
     ]
    }
   ],
   "source": [
    "def myfunc(*args, **kwargs):\n",
    "    if 'name' and 'speed' in kwargs:\n",
    "        print(f\"Speed  are {args} and my best speed is {kwargs['speed']}\")\n",
    "        print(f\"my name is {kwargs['name']}\")\n",
    "    else:\n",
    "        print('no match')\n",
    "        \n",
    "\n",
    "myfunc(20, 30, 50, 80, 90, name='kishan', age=20, speed=50)"
   ]
  },
  {
   "cell_type": "code",
   "execution_count": null,
   "id": "ffe9474b-e587-452f-96f7-96a3aea09288",
   "metadata": {},
   "outputs": [],
   "source": []
  }
 ],
 "metadata": {
  "kernelspec": {
   "display_name": "Python 3",
   "language": "python",
   "name": "python3"
  },
  "language_info": {
   "codemirror_mode": {
    "name": "ipython",
    "version": 3
   },
   "file_extension": ".py",
   "mimetype": "text/x-python",
   "name": "python",
   "nbconvert_exporter": "python",
   "pygments_lexer": "ipython3",
   "version": "3.8.8"
  }
 },
 "nbformat": 4,
 "nbformat_minor": 5
}
