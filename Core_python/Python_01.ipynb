{
 "cells": [
  {
   "cell_type": "code",
   "execution_count": 2,
   "id": "f09883b9-b855-40cf-a974-8312ffd84eb5",
   "metadata": {},
   "outputs": [
    {
     "data": {
      "text/plain": [
       "3"
      ]
     },
     "execution_count": 2,
     "metadata": {},
     "output_type": "execute_result"
    }
   ],
   "source": [
    "# addition \n",
    "2+1"
   ]
  },
  {
   "cell_type": "code",
   "execution_count": 4,
   "id": "e1745456-f3af-49a6-afc8-ba144fb65645",
   "metadata": {},
   "outputs": [
    {
     "data": {
      "text/plain": [
       "1"
      ]
     },
     "execution_count": 4,
     "metadata": {},
     "output_type": "execute_result"
    }
   ],
   "source": [
    "# substraction\n",
    "2-1"
   ]
  },
  {
   "cell_type": "code",
   "execution_count": 5,
   "id": "42a8acfd-f259-45cc-97e0-03107b92d76a",
   "metadata": {},
   "outputs": [
    {
     "data": {
      "text/plain": [
       "4"
      ]
     },
     "execution_count": 5,
     "metadata": {},
     "output_type": "execute_result"
    }
   ],
   "source": [
    "# multiplication \n",
    "2*2"
   ]
  },
  {
   "cell_type": "code",
   "execution_count": 9,
   "id": "78c63ae5-f76a-4d7d-9881-467f53df9ebe",
   "metadata": {},
   "outputs": [
    {
     "data": {
      "text/plain": [
       "2.25"
      ]
     },
     "execution_count": 9,
     "metadata": {},
     "output_type": "execute_result"
    }
   ],
   "source": [
    "# division \n",
    "9/4"
   ]
  },
  {
   "cell_type": "code",
   "execution_count": 10,
   "id": "253840f8-ba93-43cc-b6aa-f856fccdd8c1",
   "metadata": {},
   "outputs": [
    {
     "data": {
      "text/plain": [
       "2"
      ]
     },
     "execution_count": 10,
     "metadata": {},
     "output_type": "execute_result"
    }
   ],
   "source": [
    "# Floor Division\n",
    "9//4"
   ]
  },
  {
   "cell_type": "code",
   "execution_count": 12,
   "id": "488453c8-35a4-4b50-aa0e-8415b12908c6",
   "metadata": {},
   "outputs": [
    {
     "data": {
      "text/plain": [
       "1"
      ]
     },
     "execution_count": 12,
     "metadata": {},
     "output_type": "execute_result"
    }
   ],
   "source": [
    "# Modulo -->  remainder after division\n",
    "9%4"
   ]
  },
  {
   "cell_type": "code",
   "execution_count": 15,
   "id": "d9c762cb-d97e-4063-9884-9564b5d7fd0a",
   "metadata": {},
   "outputs": [
    {
     "data": {
      "text/plain": [
       "8"
      ]
     },
     "execution_count": 15,
     "metadata": {},
     "output_type": "execute_result"
    }
   ],
   "source": [
    "# power\n",
    "2**3"
   ]
  },
  {
   "cell_type": "code",
   "execution_count": 19,
   "id": "f347f114-42d0-475c-a664-14e675643116",
   "metadata": {},
   "outputs": [
    {
     "data": {
      "text/plain": [
       "105"
      ]
     },
     "execution_count": 19,
     "metadata": {},
     "output_type": "execute_result"
    }
   ],
   "source": [
    "# Order of Operations followed in Python :  PEMDAS\n",
    "#  P – Parentheses\n",
    "#  E – Exponentiation\n",
    "#  M – Multiplication\n",
    "#  D – Division\n",
    "#  A – Addition\n",
    "#  S – Subtraction\n",
    "\n",
    "2 + 10 * 10 + 3"
   ]
  },
  {
   "cell_type": "code",
   "execution_count": 20,
   "id": "98151801-9627-4a7f-a785-1070a07ddd9b",
   "metadata": {},
   "outputs": [
    {
     "data": {
      "text/plain": [
       "156"
      ]
     },
     "execution_count": 20,
     "metadata": {},
     "output_type": "execute_result"
    }
   ],
   "source": [
    "# Can use parentheses to specify orders\n",
    "(2+10) * (10+3)"
   ]
  },
  {
   "cell_type": "code",
   "execution_count": 21,
   "id": "44fa30b8-f225-440c-8ed3-df14af5a5056",
   "metadata": {},
   "outputs": [],
   "source": [
    "# Let's create an object called \"a\" and assign it the number 5\n",
    "a = 5"
   ]
  },
  {
   "cell_type": "code",
   "execution_count": 23,
   "id": "57c1b34a-18f4-4009-93af-67425954abcd",
   "metadata": {},
   "outputs": [
    {
     "name": "stdout",
     "output_type": "stream",
     "text": [
      "10.0\n"
     ]
    }
   ],
   "source": [
    "# Find the Tax\n",
    "my_income = 100\n",
    "tax_rate = 0.1\n",
    "my_taxes = my_income*tax_rate\n",
    "# Show my taxes!\n",
    "print(my_taxes)"
   ]
  },
  {
   "cell_type": "code",
   "execution_count": 28,
   "id": "8bb9d234-66ac-4f2f-a34b-aa1880830c58",
   "metadata": {},
   "outputs": [
    {
     "name": "stdout",
     "output_type": "stream",
     "text": [
      "<class 'int'>\n",
      "<class 'list'>\n"
     ]
    }
   ],
   "source": [
    "# Python uses dynamic typing, \n",
    "# meaning you can reassign variables to different data types.\n",
    "my_dogs = 2\n",
    "print(type(my_dogs))\n",
    "my_dogs = ['Sammy', 'Frankie']\n",
    "print(type(my_dogs))"
   ]
  },
  {
   "cell_type": "code",
   "execution_count": 30,
   "id": "9d54f6be-77df-4bb2-a79a-83ff9913a053",
   "metadata": {},
   "outputs": [
    {
     "name": "stdout",
     "output_type": "stream",
     "text": [
      "10\n",
      "20\n",
      "40\n"
     ]
    }
   ],
   "source": [
    "a = 10\n",
    "print(a)\n",
    "a += 10\n",
    "print(a)\n",
    "a *= 2\n",
    "print(a)"
   ]
  },
  {
   "cell_type": "code",
   "execution_count": 33,
   "id": "e99c6325-0de9-42a3-9cc0-217a12ef99d4",
   "metadata": {},
   "outputs": [],
   "source": [
    "# Determining variable type with type()\n",
    "# You can check what type of object is assigned to a variable using Python's built-in type() function. \n",
    "# Common data types include:\n",
    "\n",
    "# int (for integer)\n",
    "# float\n",
    "# str (for string)\n",
    "# list\n",
    "# tuple\n",
    "# dict (for dictionary)\n",
    "# set\n",
    "# bool (for Boolean True/False)"
   ]
  },
  {
   "cell_type": "code",
   "execution_count": 36,
   "id": "a8969cba-eb9a-4b09-9c70-39be224d7c3b",
   "metadata": {},
   "outputs": [
    {
     "data": {
      "text/plain": [
       "\"Now I'm ready to use the single quotes inside a string!\""
      ]
     },
     "execution_count": 36,
     "metadata": {},
     "output_type": "execute_result"
    }
   ],
   "source": [
    "# strings\n",
    "\"Now I'm ready to use the single quotes inside a string!\""
   ]
  },
  {
   "cell_type": "code",
   "execution_count": 37,
   "id": "829cd252-ee83-47ef-b04f-95a4743625fb",
   "metadata": {},
   "outputs": [
    {
     "name": "stdout",
     "output_type": "stream",
     "text": [
      "Use \n",
      " to print a new line\n"
     ]
    }
   ],
   "source": [
    "# print\n",
    "print('Use \\n to print a new line')"
   ]
  },
  {
   "cell_type": "code",
   "execution_count": 38,
   "id": "fc8cff45-d167-445b-b675-a937a17f816f",
   "metadata": {},
   "outputs": [
    {
     "data": {
      "text/plain": [
       "11"
      ]
     },
     "execution_count": 38,
     "metadata": {},
     "output_type": "execute_result"
    }
   ],
   "source": [
    "# len\n",
    "len('Hello World')"
   ]
  },
  {
   "cell_type": "code",
   "execution_count": 68,
   "id": "0171893f-7c5b-4f8f-bc87-31ebf072db0f",
   "metadata": {},
   "outputs": [
    {
     "data": {
      "text/plain": [
       "'Hello World'"
      ]
     },
     "execution_count": 68,
     "metadata": {},
     "output_type": "execute_result"
    }
   ],
   "source": [
    "# Assign s as a string\n",
    "s = 'Hello World'\n",
    "#Check\n",
    "s "
   ]
  },
  {
   "cell_type": "code",
   "execution_count": 46,
   "id": "c8067048-6509-424a-9178-e31f5e870ac1",
   "metadata": {},
   "outputs": [
    {
     "data": {
      "text/plain": [
       "'ello W'"
      ]
     },
     "execution_count": 46,
     "metadata": {},
     "output_type": "execute_result"
    }
   ],
   "source": [
    "# Let's start indexing!\n",
    "s[1:7]"
   ]
  },
  {
   "cell_type": "code",
   "execution_count": 48,
   "id": "e7558c58-f1e7-4e3c-943c-aa142e156e59",
   "metadata": {},
   "outputs": [
    {
     "data": {
      "text/plain": [
       "'d'"
      ]
     },
     "execution_count": 48,
     "metadata": {},
     "output_type": "execute_result"
    }
   ],
   "source": [
    "# Last letter \n",
    "s[-1]"
   ]
  },
  {
   "cell_type": "code",
   "execution_count": 53,
   "id": "bd7b55e2-7ffd-4050-8505-788b7f7e4862",
   "metadata": {},
   "outputs": [
    {
     "data": {
      "text/plain": [
       "'Hello'"
      ]
     },
     "execution_count": 53,
     "metadata": {},
     "output_type": "execute_result"
    }
   ],
   "source": [
    "# Grab everything up to index 5\n",
    "s[:5]"
   ]
  },
  {
   "cell_type": "code",
   "execution_count": 54,
   "id": "28fabcda-04e7-42c7-a1f4-f4efe9c6ac2a",
   "metadata": {},
   "outputs": [
    {
     "data": {
      "text/plain": [
       "'Hello Worl'"
      ]
     },
     "execution_count": 54,
     "metadata": {},
     "output_type": "execute_result"
    }
   ],
   "source": [
    "# Grab everything but the last letter\n",
    "s[:-1]"
   ]
  },
  {
   "cell_type": "code",
   "execution_count": 57,
   "id": "25e209b4-ad20-4be6-a6b6-47a432b8742d",
   "metadata": {},
   "outputs": [
    {
     "data": {
      "text/plain": [
       "'HloWrd'"
      ]
     },
     "execution_count": 57,
     "metadata": {},
     "output_type": "execute_result"
    }
   ],
   "source": [
    "# Grab everything, but go in steps size of 2\n",
    "s[::2]"
   ]
  },
  {
   "cell_type": "code",
   "execution_count": 58,
   "id": "7bd7d7f3-2b82-4a2f-a3ad-d48ebe14d2e2",
   "metadata": {},
   "outputs": [
    {
     "data": {
      "text/plain": [
       "'dlroW olleH'"
      ]
     },
     "execution_count": 58,
     "metadata": {},
     "output_type": "execute_result"
    }
   ],
   "source": [
    "# We can use this to print a string backwards\n",
    "s[::-1]"
   ]
  },
  {
   "cell_type": "code",
   "execution_count": 60,
   "id": "10718ba1-24ce-4bfd-b612-42ab88ec99c4",
   "metadata": {},
   "outputs": [
    {
     "ename": "TypeError",
     "evalue": "'str' object does not support item assignment",
     "output_type": "error",
     "traceback": [
      "\u001b[0;31m---------------------------------------------------------------------------\u001b[0m",
      "\u001b[0;31mTypeError\u001b[0m                                 Traceback (most recent call last)",
      "\u001b[0;32m/tmp/ipykernel_36742/1934453952.py\u001b[0m in \u001b[0;36m<module>\u001b[0;34m\u001b[0m\n\u001b[1;32m      2\u001b[0m \u001b[0;31m# This means that once a string is created, the elements within it can not be changed or replaced.\u001b[0m\u001b[0;34m\u001b[0m\u001b[0;34m\u001b[0m\u001b[0m\n\u001b[1;32m      3\u001b[0m \u001b[0;31m# Let's try to change the first letter to 'x'\u001b[0m\u001b[0;34m\u001b[0m\u001b[0;34m\u001b[0m\u001b[0m\n\u001b[0;32m----> 4\u001b[0;31m \u001b[0ms\u001b[0m\u001b[0;34m[\u001b[0m\u001b[0;36m0\u001b[0m\u001b[0;34m]\u001b[0m \u001b[0;34m=\u001b[0m \u001b[0;34m'x'\u001b[0m\u001b[0;34m\u001b[0m\u001b[0;34m\u001b[0m\u001b[0m\n\u001b[0m",
      "\u001b[0;31mTypeError\u001b[0m: 'str' object does not support item assignment"
     ]
    }
   ],
   "source": [
    "# It's important to note that strings have an important property known as *immutability*. \n",
    "# This means that once a string is created, the elements within it can not be changed or replaced.\n",
    "# Let's try to change the first letter to 'x'\n",
    "s[0] = 'x'"
   ]
  },
  {
   "cell_type": "code",
   "execution_count": 69,
   "id": "d50f3bfa-44bc-448e-899c-0bc3ca77a88f",
   "metadata": {},
   "outputs": [
    {
     "name": "stdout",
     "output_type": "stream",
     "text": [
      "Hello World concatenate me!\n"
     ]
    }
   ],
   "source": [
    "# We can reassign s completely \n",
    "s = s + ' concatenate me!'\n",
    "\n",
    "print(s)"
   ]
  },
  {
   "cell_type": "code",
   "execution_count": 70,
   "id": "934612a5-af05-4767-a55f-90d32174afba",
   "metadata": {},
   "outputs": [
    {
     "data": {
      "text/plain": [
       "'zzzzzzzzzz'"
      ]
     },
     "execution_count": 70,
     "metadata": {},
     "output_type": "execute_result"
    }
   ],
   "source": [
    "letter = 'z'\n",
    "letter*10"
   ]
  },
  {
   "cell_type": "code",
   "execution_count": 71,
   "id": "2b2e035e-1462-4435-ad6e-7ac5464e95d6",
   "metadata": {},
   "outputs": [
    {
     "data": {
      "text/plain": [
       "'HELLO WORLD CONCATENATE ME!'"
      ]
     },
     "execution_count": 71,
     "metadata": {},
     "output_type": "execute_result"
    }
   ],
   "source": [
    "# Upper Case a string\n",
    "s.upper()"
   ]
  },
  {
   "cell_type": "code",
   "execution_count": 72,
   "id": "7404a6a8-1c61-4b70-9df9-787aaa99d4f2",
   "metadata": {},
   "outputs": [
    {
     "data": {
      "text/plain": [
       "'hello world concatenate me!'"
      ]
     },
     "execution_count": 72,
     "metadata": {},
     "output_type": "execute_result"
    }
   ],
   "source": [
    "# Lower case\n",
    "s.lower()"
   ]
  },
  {
   "cell_type": "code",
   "execution_count": 77,
   "id": "4263c905-83f5-4008-8817-13bff9ba57a2",
   "metadata": {},
   "outputs": [
    {
     "data": {
      "text/plain": [
       "['Hello', 'World', 'concatenate', 'me!']"
      ]
     },
     "execution_count": 77,
     "metadata": {},
     "output_type": "execute_result"
    }
   ],
   "source": [
    "# Split a string by blank space (this is the default)\n",
    "s.split()"
   ]
  },
  {
   "cell_type": "code",
   "execution_count": 74,
   "id": "c816c074-7df8-4096-97a4-a1f9e1b9d73e",
   "metadata": {},
   "outputs": [
    {
     "data": {
      "text/plain": [
       "['Hello ', 'orld concatenate me!']"
      ]
     },
     "execution_count": 74,
     "metadata": {},
     "output_type": "execute_result"
    }
   ],
   "source": [
    "# Split by a specific element\n",
    "s.split('W')"
   ]
  },
  {
   "cell_type": "code",
   "execution_count": 78,
   "id": "cc8ed1a9-8ef4-46e1-9b06-0558a252551f",
   "metadata": {},
   "outputs": [
    {
     "data": {
      "text/plain": [
       "'Insert another string: inserted string'"
      ]
     },
     "execution_count": 78,
     "metadata": {},
     "output_type": "execute_result"
    }
   ],
   "source": [
    "'Insert another string: {}'.format('inserted string')"
   ]
  },
  {
   "cell_type": "code",
   "execution_count": null,
   "id": "c07d8b6f-ee00-4fe6-b03f-60346bfbbf7b",
   "metadata": {},
   "outputs": [],
   "source": []
  }
 ],
 "metadata": {
  "kernelspec": {
   "display_name": "Python 3",
   "language": "python",
   "name": "python3"
  },
  "language_info": {
   "codemirror_mode": {
    "name": "ipython",
    "version": 3
   },
   "file_extension": ".py",
   "mimetype": "text/x-python",
   "name": "python",
   "nbconvert_exporter": "python",
   "pygments_lexer": "ipython3",
   "version": "3.8.8"
  }
 },
 "nbformat": 4,
 "nbformat_minor": 5
}
