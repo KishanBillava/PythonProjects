{
 "cells": [
  {
   "cell_type": "markdown",
   "id": "89d53cec-d513-4ded-b40b-2940d1814b8d",
   "metadata": {},
   "source": [
    "# Python Hand-on Solve 200 Problems\n"
   ]
  },
  {
   "cell_type": "code",
   "execution_count": 1,
   "id": "b05fa555-3ef2-45b6-8cb2-505c99dea815",
   "metadata": {},
   "outputs": [],
   "source": [
    "#"
   ]
  },
  {
   "cell_type": "code",
   "execution_count": 10,
   "id": "ad6a9312-24d4-495d-b325-904b55925b0a",
   "metadata": {},
   "outputs": [],
   "source": [
    "n = 5"
   ]
  },
  {
   "cell_type": "code",
   "execution_count": 16,
   "id": "4f15c071-d96f-4d22-984d-e782a3e4510d",
   "metadata": {},
   "outputs": [
    {
     "data": {
      "text/plain": [
       "615"
      ]
     },
     "execution_count": 16,
     "metadata": {},
     "output_type": "execute_result"
    }
   ],
   "source": [
    "n + int(str(n)+str(n)) + int(str(n)+str(n)+str(n))"
   ]
  },
  {
   "cell_type": "code",
   "execution_count": 17,
   "id": "c33acde8-1054-4490-8de0-d16e690b8a68",
   "metadata": {},
   "outputs": [],
   "source": [
    "# "
   ]
  },
  {
   "cell_type": "code",
   "execution_count": 18,
   "id": "502ad2b5-59f9-4258-8582-32a9576f2fad",
   "metadata": {},
   "outputs": [],
   "source": [
    "# Write a Python program which takes two digits m (row) and n (column) as input and generates a two-dimensional array. \n",
    "# The element value in the i-th row and j-th column of the array should be i*j.\n",
    "# Note :\n",
    "# i = 0,1.., m-1 \n",
    "# j = 0,1, n-1.\n",
    "# Input\n",
    "# Input number of rows: 3                                                                                       \n",
    "# Input number of columns: 4  \n",
    "# Output\n",
    "# [[0, 0, 0, 0], [0, 1, 2, 3], [0, 2, 4, 6]]"
   ]
  },
  {
   "cell_type": "code",
   "execution_count": 42,
   "id": "5b616ee9-b5fc-46df-8a9a-21c01da55014",
   "metadata": {},
   "outputs": [
    {
     "name": "stdin",
     "output_type": "stream",
     "text": [
      "Input number of rows:  3\n",
      "nput number of columns:  4\n"
     ]
    },
    {
     "name": "stdout",
     "output_type": "stream",
     "text": [
      "[[0, 0, 0, 0], [0, 1, 2, 3], [0, 2, 4, 6]]\n"
     ]
    }
   ],
   "source": [
    "m_row = int(input('Input number of rows: '))\n",
    "n_col = int(input('nput number of columns: '))\n",
    "multi_list = [[0 for col in range(n_col)] for row in range(m_row)]\n",
    "\n",
    "for row in range(m_row):\n",
    "    for col in range(n_col):\n",
    "        multi_list[row][col] = row*col\n",
    "print(multi_list)"
   ]
  },
  {
   "cell_type": "code",
   "execution_count": 46,
   "id": "5ff5888a-3dd9-4d7b-bf09-6df703533dbe",
   "metadata": {},
   "outputs": [
    {
     "name": "stdin",
     "output_type": "stream",
     "text": [
      "Input number of rows:  3\n",
      "nput number of columns:  4\n"
     ]
    },
    {
     "name": "stdout",
     "output_type": "stream",
     "text": [
      "[0, 0, 0, 0, 1, 2, 0, 2, 4, 0, 3, 6]\n"
     ]
    }
   ],
   "source": [
    "m_row = int(input('Input number of rows: '))\n",
    "n_col = int(input('nput number of columns: '))\n",
    "multi_list = [[0 for col in range(n_col)] for row in range(m_row)]\n",
    "\n",
    "multi_list = [row*col for col in range(n_col) for row in range(m_row) ]\n",
    "\n",
    "print(multi_list)"
   ]
  },
  {
   "cell_type": "code",
   "execution_count": 47,
   "id": "2ac6d51e-f3dd-4f77-b0a6-be670b911edf",
   "metadata": {},
   "outputs": [],
   "source": [
    "#"
   ]
  },
  {
   "cell_type": "markdown",
   "id": "6b643e54-a443-4bb8-8191-90c7626b2dba",
   "metadata": {},
   "source": [
    "# codechef"
   ]
  },
  {
   "cell_type": "code",
   "execution_count": 48,
   "id": "784d026b-4672-4ab0-b043-8723f0cde878",
   "metadata": {},
   "outputs": [],
   "source": [
    "# https://www.codechef.com/problems/HS08TEST"
   ]
  },
  {
   "cell_type": "code",
   "execution_count": 89,
   "id": "dc0e811b-a9de-4422-ae89-2128709805b8",
   "metadata": {},
   "outputs": [
    {
     "name": "stdin",
     "output_type": "stream",
     "text": [
      " 30 120\n"
     ]
    },
    {
     "name": "stdout",
     "output_type": "stream",
     "text": [
      "89.5\n"
     ]
    }
   ],
   "source": [
    "req,bal = input().split()\n",
    "\n",
    "if (int(req)%5!= 0 or float(req)+.50 > float(bal)):\n",
    "    print(bal)\n",
    "else:\n",
    "    res = float(bal)-float(req) - 0.50\n",
    "    print(round(res,2))"
   ]
  },
  {
   "cell_type": "code",
   "execution_count": null,
   "id": "67860578-4c74-411e-97aa-b8201e126cab",
   "metadata": {},
   "outputs": [],
   "source": []
  },
  {
   "cell_type": "code",
   "execution_count": null,
   "id": "b418aba4-b6aa-43a1-bdf6-eaf440389f1a",
   "metadata": {},
   "outputs": [],
   "source": []
  },
  {
   "cell_type": "code",
   "execution_count": null,
   "id": "b3b2464c-6245-4235-82ff-590709a2be60",
   "metadata": {},
   "outputs": [],
   "source": []
  }
 ],
 "metadata": {
  "kernelspec": {
   "display_name": "Python 3",
   "language": "python",
   "name": "python3"
  },
  "language_info": {
   "codemirror_mode": {
    "name": "ipython",
    "version": 3
   },
   "file_extension": ".py",
   "mimetype": "text/x-python",
   "name": "python",
   "nbconvert_exporter": "python",
   "pygments_lexer": "ipython3",
   "version": "3.8.8"
  }
 },
 "nbformat": 4,
 "nbformat_minor": 5
}
