{
 "cells": [
  {
   "cell_type": "code",
   "execution_count": 21,
   "id": "1421ef06-e4eb-44c2-b0ab-d017e43fb6b7",
   "metadata": {},
   "outputs": [],
   "source": [
    "# Data Structures in Python \n",
    "import array as arr"
   ]
  },
  {
   "cell_type": "markdown",
   "id": "bc0ef87b-15c1-485a-a654-bae66dc1a552",
   "metadata": {},
   "source": [
    "* Bluit-in Data Stuctures\n",
    "<br> List\n",
    "<br> Tuple\n",
    "<br> Dictionary \n",
    "<br> Set\n",
    "\n",
    "* user-defined Data Structures\n",
    "<br> Stack\n",
    "<br> Tree\n",
    "<br> Graph\n",
    "<br> Queue\n",
    "<br> LinkList\n",
    "<br> HashMap\n"
   ]
  },
  {
   "cell_type": "markdown",
   "id": "77547c3e-ced7-41da-9534-e2ba50606d14",
   "metadata": {},
   "source": [
    "## Bluit-in Data Stuctures"
   ]
  },
  {
   "cell_type": "markdown",
   "id": "b4d08465-fa47-448f-9a79-586d79f8d16b",
   "metadata": {},
   "source": [
    "### List"
   ]
  },
  {
   "cell_type": "code",
   "execution_count": 1,
   "id": "af943baa-4934-45cc-ad23-cccca6108048",
   "metadata": {},
   "outputs": [
    {
     "name": "stdout",
     "output_type": "stream",
     "text": [
      "[12, 'xyz', 34]\n",
      "[]\n",
      "[3]\n"
     ]
    }
   ],
   "source": [
    "#List\n",
    "a = [12,\"xyz\",34]\n",
    "print(a)\n",
    "# List append \n",
    "b = []\n",
    "print(b)\n",
    "b.append(3)\n",
    "print(b)"
   ]
  },
  {
   "cell_type": "markdown",
   "id": "0e7174e6-05d6-4286-89f6-2cbd4d2b1e1e",
   "metadata": {},
   "source": [
    "*  append()\n",
    "* extend()\n",
    "* insert()"
   ]
  },
  {
   "cell_type": "code",
   "execution_count": 12,
   "id": "5994e32b-0407-48f5-bf11-df116b32eeda",
   "metadata": {},
   "outputs": [
    {
     "name": "stdout",
     "output_type": "stream",
     "text": [
      "[1, 2, 3, 'Kishan']\n"
     ]
    }
   ],
   "source": [
    "list1 = [1,2,3,'Kishan']\n",
    "print(list1)"
   ]
  },
  {
   "cell_type": "code",
   "execution_count": 13,
   "id": "814af843-1f02-4f01-a874-26a08d935428",
   "metadata": {},
   "outputs": [
    {
     "name": "stdout",
     "output_type": "stream",
     "text": [
      "[1, 2, 3, 'Kishan', 2]\n"
     ]
    }
   ],
   "source": [
    "list1.append(2)\n",
    "print(list1)"
   ]
  },
  {
   "cell_type": "code",
   "execution_count": 14,
   "id": "b48778b1-9d52-48ac-9fbb-f0fb6a404cec",
   "metadata": {},
   "outputs": [
    {
     "name": "stdout",
     "output_type": "stream",
     "text": [
      "[1, 2, 3, 'Kishan', 2, (2, 0)]\n"
     ]
    }
   ],
   "source": [
    "# append an element to list \n",
    "list1.append((2,0))\n",
    "print(list1)"
   ]
  },
  {
   "cell_type": "code",
   "execution_count": 15,
   "id": "df9c12ca-f103-4504-86b0-b4f900149495",
   "metadata": {},
   "outputs": [
    {
     "name": "stdout",
     "output_type": "stream",
     "text": [
      "[1, 2, 3, 'Kishan', 2, (2, 0), 7, 8]\n"
     ]
    }
   ],
   "source": [
    "# extend the element to the list \n",
    "list1.extend((7,8))\n",
    "print(list1)"
   ]
  },
  {
   "cell_type": "code",
   "execution_count": 16,
   "id": "3b9d5d51-808a-4568-a774-2bef713a4d76",
   "metadata": {},
   "outputs": [
    {
     "name": "stdout",
     "output_type": "stream",
     "text": [
      "[1, 2, 3, 'example', 'Kishan', 2, (2, 0), 7, 8]\n"
     ]
    }
   ],
   "source": [
    "# insert an element to specfied position in list\n",
    "# note that this will update the position of the other element in list \n",
    "list1.insert(3, 'example')\n",
    "print(list1)"
   ]
  },
  {
   "cell_type": "markdown",
   "id": "47ded1af-1731-4e21-97c8-2e02b9c3768a",
   "metadata": {},
   "source": [
    "*  del()\n",
    "*  pop()\n",
    "*  remove()"
   ]
  },
  {
   "cell_type": "code",
   "execution_count": 18,
   "id": "a52e3ff4-afa6-4a81-9721-7671bf383db8",
   "metadata": {},
   "outputs": [
    {
     "data": {
      "text/plain": [
       "[1, 2, 3, 'example', 'Kishan', 2, (2, 0), 7, 8]"
      ]
     },
     "execution_count": 18,
     "metadata": {},
     "output_type": "execute_result"
    }
   ],
   "source": [
    "lst = list1\n",
    "lst"
   ]
  },
  {
   "cell_type": "code",
   "execution_count": 19,
   "id": "4f5631d2-7ddc-4b38-bddd-a1d5df893f7a",
   "metadata": {},
   "outputs": [
    {
     "name": "stdout",
     "output_type": "stream",
     "text": [
      "[1, 2, 3, 'Kishan', 2, (2, 0), 7, 8]\n"
     ]
    }
   ],
   "source": [
    "# delete the element in specfied position on list \n",
    "del lst[3]\n",
    "print(lst)"
   ]
  },
  {
   "cell_type": "code",
   "execution_count": 20,
   "id": "829eaf1d-a948-488e-9bcd-16e628440a62",
   "metadata": {},
   "outputs": [
    {
     "name": "stdout",
     "output_type": "stream",
     "text": [
      "2\n"
     ]
    }
   ],
   "source": [
    "# pops out the element from the specfied postion in list \n",
    "p = lst.pop(4)\n",
    "print(p)"
   ]
  },
  {
   "cell_type": "code",
   "execution_count": 21,
   "id": "87674ee3-5f0d-4ebd-8969-577f867059e8",
   "metadata": {},
   "outputs": [
    {
     "data": {
      "text/plain": [
       "[1, 2, 3, 'Kishan', (2, 0), 7, 8]"
      ]
     },
     "execution_count": 21,
     "metadata": {},
     "output_type": "execute_result"
    }
   ],
   "source": [
    "lst"
   ]
  },
  {
   "cell_type": "code",
   "execution_count": 22,
   "id": "9d7aee2c-8f60-48d7-952a-9d2cd7cc99d4",
   "metadata": {},
   "outputs": [
    {
     "data": {
      "text/plain": [
       "[1, 3, 'Kishan', (2, 0), 7, 8]"
      ]
     },
     "execution_count": 22,
     "metadata": {},
     "output_type": "execute_result"
    }
   ],
   "source": [
    "# removes the specfied element from the list \n",
    "list1.remove(2)\n",
    "list1"
   ]
  },
  {
   "cell_type": "markdown",
   "id": "367dd3ed-c869-449a-a1f3-a6c083061d8a",
   "metadata": {},
   "source": [
    "* indexing "
   ]
  },
  {
   "cell_type": "code",
   "execution_count": 27,
   "id": "878db8e9-25a5-47e4-9641-7ca4882fe37f",
   "metadata": {},
   "outputs": [
    {
     "data": {
      "text/plain": [
       "[1, 3]"
      ]
     },
     "execution_count": 27,
     "metadata": {},
     "output_type": "execute_result"
    }
   ],
   "source": [
    "# take first 2 elements \n",
    "list1[0:2]"
   ]
  },
  {
   "cell_type": "code",
   "execution_count": 28,
   "id": "ea6e1ecc-0d0f-43c9-af4b-5e6b1cbc5a5e",
   "metadata": {},
   "outputs": [
    {
     "data": {
      "text/plain": [
       "[1, 'Kishan', 7]"
      ]
     },
     "execution_count": 28,
     "metadata": {},
     "output_type": "execute_result"
    }
   ],
   "source": [
    "#take element in step size of 2 \n",
    "list1[0:6:2]"
   ]
  },
  {
   "cell_type": "code",
   "execution_count": 29,
   "id": "9f2ec5a5-44b0-4b67-a0a7-d72fc7650a1b",
   "metadata": {},
   "outputs": [
    {
     "data": {
      "text/plain": [
       "[8, 7, (2, 0), 'Kishan', 3, 1]"
      ]
     },
     "execution_count": 29,
     "metadata": {},
     "output_type": "execute_result"
    }
   ],
   "source": [
    "# this reverse the list \n",
    "list1[::-1]"
   ]
  },
  {
   "cell_type": "markdown",
   "id": "ab93fcfd-9e5c-4876-add3-fcb08d2a67c9",
   "metadata": {},
   "source": [
    "* Sorted "
   ]
  },
  {
   "cell_type": "code",
   "execution_count": 31,
   "id": "16d59a78-f5c3-41f1-bf14-df82e904f354",
   "metadata": {},
   "outputs": [
    {
     "name": "stdout",
     "output_type": "stream",
     "text": [
      "[0, 1, 2, 3, 7, 40, 555]\n"
     ]
    }
   ],
   "source": [
    "# sorting the list \n",
    "list1 = [7,2,3,40,555, 0, 1]\n",
    "print(sorted(list1))"
   ]
  },
  {
   "cell_type": "code",
   "execution_count": 32,
   "id": "e143c407-1a6c-41a2-adae-502ce9fdfa59",
   "metadata": {},
   "outputs": [
    {
     "name": "stdout",
     "output_type": "stream",
     "text": [
      "[7, 2, 3, 40, 555, 0, 1]\n",
      "[0, 1, 2, 3, 7, 40, 555]\n"
     ]
    }
   ],
   "source": [
    "# sorting the list \n",
    "print(list1)\n",
    "list1.sort()\n",
    "print(list1)"
   ]
  },
  {
   "cell_type": "code",
   "execution_count": 33,
   "id": "0ffc61c0-1381-4f23-b55e-f74439d0a99d",
   "metadata": {},
   "outputs": [
    {
     "data": {
      "text/plain": [
       "[555, 40, 7, 3, 2, 1, 0]"
      ]
     },
     "execution_count": 33,
     "metadata": {},
     "output_type": "execute_result"
    }
   ],
   "source": [
    "# reverse the sorted list \n",
    "list1.sort(reverse=True)\n",
    "list1"
   ]
  },
  {
   "cell_type": "markdown",
   "id": "e648da84-396e-4f83-9b88-4b5ec2458f16",
   "metadata": {},
   "source": [
    "* index\n",
    "* count"
   ]
  },
  {
   "cell_type": "code",
   "execution_count": 34,
   "id": "67d93e4e-6dc2-4a92-9d22-824eb746904a",
   "metadata": {},
   "outputs": [
    {
     "data": {
      "text/plain": [
       "2"
      ]
     },
     "execution_count": 34,
     "metadata": {},
     "output_type": "execute_result"
    }
   ],
   "source": [
    "# give the element from specfied index \n",
    "list1.index(7)"
   ]
  },
  {
   "cell_type": "code",
   "execution_count": 35,
   "id": "38cb350a-e791-47f0-bfcb-2fb0e61a9ef4",
   "metadata": {},
   "outputs": [
    {
     "data": {
      "text/plain": [
       "1"
      ]
     },
     "execution_count": 35,
     "metadata": {},
     "output_type": "execute_result"
    }
   ],
   "source": [
    "# find the number of time the specfied element has occured \n",
    "list1.count(7)"
   ]
  },
  {
   "cell_type": "code",
   "execution_count": 43,
   "id": "7968c070-d5bc-4ec6-9ad9-f08761f6f378",
   "metadata": {},
   "outputs": [],
   "source": [
    "#"
   ]
  },
  {
   "cell_type": "markdown",
   "id": "0bf9bce2-e593-4c50-88ff-90c0dd1ec23c",
   "metadata": {},
   "source": [
    "### Tuple"
   ]
  },
  {
   "cell_type": "code",
   "execution_count": 44,
   "id": "55426f63-d4de-436d-a298-0e07c11e4c7c",
   "metadata": {},
   "outputs": [
    {
     "name": "stdout",
     "output_type": "stream",
     "text": [
      "(3, 4, 5)\n"
     ]
    }
   ],
   "source": [
    "# tuple\n",
    "c = (3,4,5)\n",
    "print(c)"
   ]
  },
  {
   "cell_type": "code",
   "execution_count": 45,
   "id": "01e6d73f-0d6d-4a97-9363-7909ade66d1f",
   "metadata": {},
   "outputs": [
    {
     "name": "stdout",
     "output_type": "stream",
     "text": [
      "(1, 2, 3)\n"
     ]
    }
   ],
   "source": [
    "tuple1 = (1,2,3)\n",
    "print(tuple1)"
   ]
  },
  {
   "cell_type": "code",
   "execution_count": 46,
   "id": "68740a2a-d302-4a8e-9fad-e9f9ef4cdb73",
   "metadata": {},
   "outputs": [
    {
     "data": {
      "text/plain": [
       "(1, 2, 3, 4, 5, 6)"
      ]
     },
     "execution_count": 46,
     "metadata": {},
     "output_type": "execute_result"
    }
   ],
   "source": [
    "tuple1 = tuple1 + (4,5,6)\n",
    "tuple1"
   ]
  },
  {
   "cell_type": "code",
   "execution_count": 25,
   "id": "9244a1db-3aef-4fe5-920b-50ed65c13668",
   "metadata": {},
   "outputs": [],
   "source": [
    "#"
   ]
  },
  {
   "cell_type": "markdown",
   "id": "5f36176a-5f09-4397-a533-73fdf2e7cda4",
   "metadata": {},
   "source": [
    "### Dictionary"
   ]
  },
  {
   "cell_type": "code",
   "execution_count": 42,
   "id": "77473dfb-4230-43ee-8365-f3ca38513896",
   "metadata": {},
   "outputs": [
    {
     "name": "stdout",
     "output_type": "stream",
     "text": [
      "{1: 'javascript', 2: 'Java', 3: 'C++', 4: 'C'}\n"
     ]
    }
   ],
   "source": [
    "# Dictionary\n",
    "dict1 = {1:'javascript', 2:\"Java\", 3:'C++', 4:'C'}\n",
    "print(dict1)"
   ]
  },
  {
   "cell_type": "code",
   "execution_count": 47,
   "id": "43647371-4785-4562-a8b3-0167c3e7c972",
   "metadata": {},
   "outputs": [
    {
     "data": {
      "text/plain": [
       "dict_keys([1, 2, 3, 4])"
      ]
     },
     "execution_count": 47,
     "metadata": {},
     "output_type": "execute_result"
    }
   ],
   "source": [
    "# output Dictionary keys\n",
    "dict1.keys()"
   ]
  },
  {
   "cell_type": "code",
   "execution_count": 48,
   "id": "42056df7-b1a4-4901-9224-e1b2937b3eed",
   "metadata": {},
   "outputs": [
    {
     "data": {
      "text/plain": [
       "dict_values(['javascript', 'Java', 'C++', 'C'])"
      ]
     },
     "execution_count": 48,
     "metadata": {},
     "output_type": "execute_result"
    }
   ],
   "source": [
    "# output Dictionary values\n",
    "dict1.values()"
   ]
  },
  {
   "cell_type": "code",
   "execution_count": 51,
   "id": "3bba1aeb-8b0a-4843-a672-74222f1c8081",
   "metadata": {},
   "outputs": [
    {
     "data": {
      "text/plain": [
       "dict_items([(1, 'javascript'), (2, 'Java'), (3, 'C++'), (4, 'C')])"
      ]
     },
     "execution_count": 51,
     "metadata": {},
     "output_type": "execute_result"
    }
   ],
   "source": [
    "# output Dictionary items in tuples\n",
    "dict1.items()"
   ]
  },
  {
   "cell_type": "code",
   "execution_count": 50,
   "id": "ff550838-8a5c-4c29-be0a-83dd6f6f7a0c",
   "metadata": {},
   "outputs": [],
   "source": [
    "#"
   ]
  },
  {
   "cell_type": "code",
   "execution_count": 52,
   "id": "439b17e3-2a05-4b9d-b010-eaf3635b5094",
   "metadata": {},
   "outputs": [
    {
     "data": {
      "text/plain": [
       "{1: 'python', 2: 'Java', 3: 'C++', 4: 'C'}"
      ]
     },
     "execution_count": 52,
     "metadata": {},
     "output_type": "execute_result"
    }
   ],
   "source": [
    "# change Dictionary value on specified key\n",
    "dict1[1] = 'python'\n",
    "dict1"
   ]
  },
  {
   "cell_type": "code",
   "execution_count": 54,
   "id": "d09e7c9d-fc48-4478-86b7-85f410a2f098",
   "metadata": {},
   "outputs": [
    {
     "data": {
      "text/plain": [
       "{1: 'python', 2: 'Java', 3: 'C++', 4: 'C', 5: 'ruby'}"
      ]
     },
     "execution_count": 54,
     "metadata": {},
     "output_type": "execute_result"
    }
   ],
   "source": [
    "# add Dictionary value on specified key\n",
    "dict1[5] = 'ruby'\n",
    "dict1"
   ]
  },
  {
   "cell_type": "code",
   "execution_count": 55,
   "id": "c80d6de6-6cd8-4a91-9e67-1b3f55cd40d0",
   "metadata": {},
   "outputs": [
    {
     "data": {
      "text/plain": [
       "{2: 'Java', 3: 'C++', 4: 'C', 5: 'ruby'}"
      ]
     },
     "execution_count": 55,
     "metadata": {},
     "output_type": "execute_result"
    }
   ],
   "source": [
    "# delete Dictionary item on specified key\n",
    "del dict1[1]\n",
    "dict1"
   ]
  },
  {
   "cell_type": "code",
   "execution_count": 56,
   "id": "871c9527-f3b3-445d-a838-74523247e145",
   "metadata": {},
   "outputs": [
    {
     "data": {
      "text/plain": [
       "{3: 'C++', 4: 'C', 5: 'ruby'}"
      ]
     },
     "execution_count": 56,
     "metadata": {},
     "output_type": "execute_result"
    }
   ],
   "source": [
    "# pop out  Dictionary item on specified key\n",
    "dict1.pop((2))\n",
    "dict1"
   ]
  },
  {
   "cell_type": "code",
   "execution_count": 34,
   "id": "cd8a89a6-0de7-44e5-a7bb-54a91c9c3eea",
   "metadata": {},
   "outputs": [
    {
     "name": "stdout",
     "output_type": "stream",
     "text": [
      "C\n"
     ]
    },
    {
     "data": {
      "text/plain": [
       "{3: 'C++', 5: 'ruby'}"
      ]
     },
     "execution_count": 34,
     "metadata": {},
     "output_type": "execute_result"
    }
   ],
   "source": [
    "print(dict1.pop(4))\n",
    "dict1"
   ]
  },
  {
   "cell_type": "code",
   "execution_count": 35,
   "id": "6ca4f6d6-2333-4126-9054-dbb4b48719d8",
   "metadata": {},
   "outputs": [
    {
     "name": "stdout",
     "output_type": "stream",
     "text": [
      "(5, 'ruby')\n"
     ]
    },
    {
     "data": {
      "text/plain": [
       "{3: 'C++'}"
      ]
     },
     "execution_count": 35,
     "metadata": {},
     "output_type": "execute_result"
    }
   ],
   "source": [
    "# pop the last item as tuple \n",
    "print(dict1.popitem())\n",
    "dict1"
   ]
  },
  {
   "cell_type": "code",
   "execution_count": null,
   "id": "3a3d1163-bda6-4461-b180-44ef8ac2a0cc",
   "metadata": {},
   "outputs": [],
   "source": []
  },
  {
   "cell_type": "markdown",
   "id": "65fc8e05-c92e-464f-9a03-b70354f3316a",
   "metadata": {},
   "source": [
    "### set"
   ]
  },
  {
   "cell_type": "code",
   "execution_count": 36,
   "id": "8df72c11-579a-4358-887e-f854f91c1704",
   "metadata": {},
   "outputs": [
    {
     "name": "stdout",
     "output_type": "stream",
     "text": [
      "{2, 3, 4}\n"
     ]
    }
   ],
   "source": [
    "# set\n",
    "e = {2,3,4,2}\n",
    "print(e)"
   ]
  },
  {
   "cell_type": "code",
   "execution_count": 37,
   "id": "f9a2a143-4b33-427c-9f94-a4251db6bd82",
   "metadata": {},
   "outputs": [
    {
     "data": {
      "text/plain": [
       "{2, 3, 4, 5}"
      ]
     },
     "execution_count": 37,
     "metadata": {},
     "output_type": "execute_result"
    }
   ],
   "source": [
    "e.add(5)\n",
    "e"
   ]
  },
  {
   "cell_type": "markdown",
   "id": "19a64830-dfa9-454b-97f7-0928d906a668",
   "metadata": {},
   "source": [
    "* union()\n",
    "* intersection()\n",
    "* difference()\n",
    "* symertic_difference()"
   ]
  },
  {
   "cell_type": "code",
   "execution_count": 57,
   "id": "5f8739eb-d6bf-4e30-9668-25a328f7b496",
   "metadata": {},
   "outputs": [],
   "source": [
    "# set\n",
    "set1 = {1,2,3,4,5,4,4,4}\n",
    "set2 = {3,4,5,6}"
   ]
  },
  {
   "cell_type": "code",
   "execution_count": 58,
   "id": "22516c01-943e-4cc3-aac8-b132bce962b2",
   "metadata": {},
   "outputs": [
    {
     "data": {
      "text/plain": [
       "{1, 2, 3, 4, 5, 6}"
      ]
     },
     "execution_count": 58,
     "metadata": {},
     "output_type": "execute_result"
    }
   ],
   "source": [
    "# union\n",
    "set1.union(set2)"
   ]
  },
  {
   "cell_type": "code",
   "execution_count": 59,
   "id": "956f9822-044c-4f4a-9095-0444fbab538b",
   "metadata": {},
   "outputs": [
    {
     "data": {
      "text/plain": [
       "{3, 4, 5}"
      ]
     },
     "execution_count": 59,
     "metadata": {},
     "output_type": "execute_result"
    }
   ],
   "source": [
    "# intersection\n",
    "set1.intersection(set2)"
   ]
  },
  {
   "cell_type": "code",
   "execution_count": 60,
   "id": "2cb10c54-230b-4790-93fe-49a21c6d14fe",
   "metadata": {},
   "outputs": [
    {
     "data": {
      "text/plain": [
       "{1, 2}"
      ]
     },
     "execution_count": 60,
     "metadata": {},
     "output_type": "execute_result"
    }
   ],
   "source": [
    "# difference\n",
    "set1.difference(set2)"
   ]
  },
  {
   "cell_type": "code",
   "execution_count": 61,
   "id": "258a0d43-093f-4fd9-b0d7-55725c188400",
   "metadata": {},
   "outputs": [
    {
     "data": {
      "text/plain": [
       "{1, 2, 6}"
      ]
     },
     "execution_count": 61,
     "metadata": {},
     "output_type": "execute_result"
    }
   ],
   "source": [
    "# symmetric_difference\n",
    "set1.symmetric_difference(set2)"
   ]
  },
  {
   "cell_type": "code",
   "execution_count": 43,
   "id": "cbd3758d-d687-496e-99b0-ed5562433577",
   "metadata": {},
   "outputs": [],
   "source": [
    "#"
   ]
  },
  {
   "cell_type": "markdown",
   "id": "3b780010-1915-41aa-9025-89e08464f6a2",
   "metadata": {},
   "source": [
    "## User-defined Data Structures"
   ]
  },
  {
   "cell_type": "markdown",
   "id": "4aa5ad5f-afac-4300-b54f-4c927c57ed88",
   "metadata": {},
   "source": [
    "## Array"
   ]
  },
  {
   "cell_type": "code",
   "execution_count": 16,
   "id": "9caeb5c9-341d-4f01-b348-1f9ae9fac67a",
   "metadata": {},
   "outputs": [
    {
     "name": "stdout",
     "output_type": "stream",
     "text": [
      "\n",
      " 1. Print array \n",
      "2. Add elements \n",
      "3. Delete elements\n",
      "4. Exit\n"
     ]
    },
    {
     "name": "stdin",
     "output_type": "stream",
     "text": [
      "Enter your choice 4\n"
     ]
    }
   ],
   "source": [
    "a = arr.array('i',[1,2,3,4,5])\n",
    "while True:\n",
    "    print(\"\\n 1. Print array \")\n",
    "    print(\"2. Add elements \")\n",
    "    print(\"3. Delete elements\")\n",
    "    print(\"4. Exit\")\n",
    "    choice = int(input(\"Enter your choice\"))\n",
    "    if choice == 1:\n",
    "        print(\"The array elements are: \")\n",
    "        for num in a :\n",
    "            print(num)\n",
    "    elif choice == 2:\n",
    "        val  = int(input('Please enter the integer number'))\n",
    "        if isinstance(val, int):\n",
    "            a.append(val)\n",
    "    elif choice ==3:\n",
    "        value = a.pop()\n",
    "        print(\"value deleted \", value)\n",
    "    elif choice == 4:\n",
    "        break\n",
    "    else:\n",
    "        print(\"Enter valid choice\")"
   ]
  },
  {
   "cell_type": "markdown",
   "id": "097410fc-5d27-439d-95f0-fc625c686e01",
   "metadata": {},
   "source": [
    "## Stack"
   ]
  },
  {
   "cell_type": "code",
   "execution_count": 18,
   "id": "e98ce145-9467-432b-9cad-566075438625",
   "metadata": {},
   "outputs": [],
   "source": [
    "# last in first out \n",
    "# Here TOP will point to the last element added \n",
    "# push to add element \n",
    "# pop to delete element \n",
    "#"
   ]
  },
  {
   "cell_type": "code",
   "execution_count": 29,
   "id": "dc4b5b67-216b-42d7-9c11-3d14c13e8916",
   "metadata": {},
   "outputs": [
    {
     "name": "stdout",
     "output_type": "stream",
     "text": [
      "1. Push\n",
      "2. pop\n",
      "3. Quit\n",
      "4. show\n"
     ]
    },
    {
     "name": "stdin",
     "output_type": "stream",
     "text": [
      "what action to take  3\n"
     ]
    }
   ],
   "source": [
    "class Stack:\n",
    "    def __init__(self):\n",
    "        self.items = []\n",
    "    \n",
    "    def is_empty(self):\n",
    "        return self.items == []\n",
    "    \n",
    "    def push(self, data):\n",
    "        self.items.append(data)\n",
    "        \n",
    "    def pop(self):\n",
    "        return self.items.pop()\n",
    "    \n",
    "    def show(self):\n",
    "        d = self.items\n",
    "        return d\n",
    "    \n",
    "s = Stack()\n",
    "while True:\n",
    "    print(\"1. Push\")\n",
    "    print(\"2. pop\")\n",
    "    print(\"3. Quit\")\n",
    "    print(\"4. show\")\n",
    "    do = int(input(\"what action to take \"))\n",
    "    if do == 1:\n",
    "        val = input(\"Enter  the value\")\n",
    "        s.push(val)\n",
    "    elif do ==2:\n",
    "        if s.is_empty():\n",
    "            print(\"stock is empty \\n\")\n",
    "        else:\n",
    "            print (\"pop value  \", s.pop())\n",
    "    elif do ==3:\n",
    "        break\n",
    "    elif do ==4:\n",
    "        print(s.show())\n",
    "    else :\n",
    "        print(\"invalid input \")\n",
    "    "
   ]
  },
  {
   "cell_type": "code",
   "execution_count": null,
   "id": "8b6ac32e-4e2d-48a2-97ae-456de2661540",
   "metadata": {},
   "outputs": [],
   "source": []
  },
  {
   "cell_type": "markdown",
   "id": "23b784f1-515f-490f-95fe-f228ad1a192b",
   "metadata": {},
   "source": [
    "## Queues"
   ]
  },
  {
   "cell_type": "code",
   "execution_count": 32,
   "id": "76abd3c7-8469-4787-8f82-0a972d054530",
   "metadata": {},
   "outputs": [
    {
     "name": "stdout",
     "output_type": "stream",
     "text": [
      "1. Push\n",
      "2. pop\n",
      "3. Quit\n",
      "4. show\n"
     ]
    },
    {
     "name": "stdin",
     "output_type": "stream",
     "text": [
      "what action to take  1\n",
      "Enter  the value 9\n"
     ]
    },
    {
     "name": "stdout",
     "output_type": "stream",
     "text": [
      "1. Push\n",
      "2. pop\n",
      "3. Quit\n",
      "4. show\n"
     ]
    },
    {
     "name": "stdin",
     "output_type": "stream",
     "text": [
      "what action to take  1\n",
      "Enter  the value 8\n"
     ]
    },
    {
     "name": "stdout",
     "output_type": "stream",
     "text": [
      "1. Push\n",
      "2. pop\n",
      "3. Quit\n",
      "4. show\n"
     ]
    },
    {
     "name": "stdin",
     "output_type": "stream",
     "text": [
      "what action to take  1\n",
      "Enter  the value 7\n"
     ]
    },
    {
     "name": "stdout",
     "output_type": "stream",
     "text": [
      "1. Push\n",
      "2. pop\n",
      "3. Quit\n",
      "4. show\n"
     ]
    },
    {
     "name": "stdin",
     "output_type": "stream",
     "text": [
      "what action to take  4\n"
     ]
    },
    {
     "name": "stdout",
     "output_type": "stream",
     "text": [
      "['9', '8', '7']\n",
      "1. Push\n",
      "2. pop\n",
      "3. Quit\n",
      "4. show\n"
     ]
    },
    {
     "name": "stdin",
     "output_type": "stream",
     "text": [
      "what action to take  2\n"
     ]
    },
    {
     "ename": "AttributeError",
     "evalue": "'Queues' object has no attribute 'popleft'",
     "output_type": "error",
     "traceback": [
      "\u001b[0;31m---------------------------------------------------------------------------\u001b[0m",
      "\u001b[0;31mAttributeError\u001b[0m                            Traceback (most recent call last)",
      "\u001b[0;32m<ipython-input-32-bd30e4e3136d>\u001b[0m in \u001b[0;36m<module>\u001b[0;34m\u001b[0m\n\u001b[1;32m     31\u001b[0m             \u001b[0mprint\u001b[0m\u001b[0;34m(\u001b[0m\u001b[0;34m\"stock is empty \\n\"\u001b[0m\u001b[0;34m)\u001b[0m\u001b[0;34m\u001b[0m\u001b[0;34m\u001b[0m\u001b[0m\n\u001b[1;32m     32\u001b[0m         \u001b[0;32melse\u001b[0m\u001b[0;34m:\u001b[0m\u001b[0;34m\u001b[0m\u001b[0;34m\u001b[0m\u001b[0m\n\u001b[0;32m---> 33\u001b[0;31m             \u001b[0mprint\u001b[0m \u001b[0;34m(\u001b[0m\u001b[0;34m\"pop value  \"\u001b[0m\u001b[0;34m,\u001b[0m \u001b[0mQ\u001b[0m\u001b[0;34m.\u001b[0m\u001b[0mpopleft\u001b[0m\u001b[0;34m(\u001b[0m\u001b[0;34m)\u001b[0m\u001b[0;34m)\u001b[0m\u001b[0;34m\u001b[0m\u001b[0;34m\u001b[0m\u001b[0m\n\u001b[0m\u001b[1;32m     34\u001b[0m     \u001b[0;32melif\u001b[0m \u001b[0mdo\u001b[0m \u001b[0;34m==\u001b[0m\u001b[0;36m3\u001b[0m\u001b[0;34m:\u001b[0m\u001b[0;34m\u001b[0m\u001b[0;34m\u001b[0m\u001b[0m\n\u001b[1;32m     35\u001b[0m         \u001b[0;32mbreak\u001b[0m\u001b[0;34m\u001b[0m\u001b[0;34m\u001b[0m\u001b[0m\n",
      "\u001b[0;31mAttributeError\u001b[0m: 'Queues' object has no attribute 'popleft'"
     ]
    }
   ],
   "source": [
    "class Queues:\n",
    "    def __init__(self):\n",
    "        self.items = []\n",
    "    \n",
    "    def is_empty(self):\n",
    "        return self.items == []\n",
    "    \n",
    "    def push(self, data):\n",
    "        self.items.append(data)\n",
    "        \n",
    "    def pop(self):\n",
    "        return self.items.popleft()\n",
    "    \n",
    "    def show(self):\n",
    "        d = self.items\n",
    "        return d\n",
    "    \n",
    "Q = Queues()\n",
    "\n",
    "while True:\n",
    "    print(\"1. Push\")\n",
    "    print(\"2. pop\")\n",
    "    print(\"3. Quit\")\n",
    "    print(\"4. show\")\n",
    "    do = int(input(\"what action to take \"))\n",
    "    if do == 1:\n",
    "        val = input(\"Enter  the value\")\n",
    "        Q.push(val)\n",
    "    elif do ==2:\n",
    "        if Q.is_empty():\n",
    "            print(\"stock is empty \\n\")\n",
    "        else:\n",
    "            print (\"pop value  \", Q.pop())\n",
    "    elif do ==3:\n",
    "        break\n",
    "    elif do ==4:\n",
    "        print(Q.show())\n",
    "    else :\n",
    "        print(\"invalid input \")\n",
    "    "
   ]
  },
  {
   "cell_type": "code",
   "execution_count": null,
   "id": "b9526bbd-e91b-4556-b32d-9f5ef1ed1fa1",
   "metadata": {},
   "outputs": [],
   "source": []
  },
  {
   "cell_type": "code",
   "execution_count": null,
   "id": "2b167c52-40b3-42af-b0b2-682ef93de89e",
   "metadata": {},
   "outputs": [],
   "source": []
  },
  {
   "cell_type": "code",
   "execution_count": null,
   "id": "08ba3b09-8ac5-4177-910a-38c0db4bbd66",
   "metadata": {},
   "outputs": [],
   "source": []
  },
  {
   "cell_type": "code",
   "execution_count": null,
   "id": "1ff31e19-aac3-41e2-a40e-69da4db336d1",
   "metadata": {},
   "outputs": [],
   "source": [
    "# Trees"
   ]
  },
  {
   "cell_type": "code",
   "execution_count": null,
   "id": "4416b34d-28f2-4226-81dc-9e162c824b5e",
   "metadata": {},
   "outputs": [],
   "source": [
    "# Link List"
   ]
  },
  {
   "cell_type": "code",
   "execution_count": null,
   "id": "808d50fe-32b0-47b7-ae77-0b98726a40fc",
   "metadata": {},
   "outputs": [],
   "source": [
    "# Graphs"
   ]
  },
  {
   "cell_type": "code",
   "execution_count": 62,
   "id": "bf1ebf4d-a6d8-454c-8ab1-91e2614674c5",
   "metadata": {},
   "outputs": [],
   "source": [
    "# HashMaps --> Dictionary\n"
   ]
  },
  {
   "cell_type": "code",
   "execution_count": null,
   "id": "9bc36be7-cc04-4809-af26-c103ab4732ee",
   "metadata": {},
   "outputs": [],
   "source": []
  }
 ],
 "metadata": {
  "kernelspec": {
   "display_name": "Python 3",
   "language": "python",
   "name": "python3"
  },
  "language_info": {
   "codemirror_mode": {
    "name": "ipython",
    "version": 3
   },
   "file_extension": ".py",
   "mimetype": "text/x-python",
   "name": "python",
   "nbconvert_exporter": "python",
   "pygments_lexer": "ipython3",
   "version": "3.8.8"
  }
 },
 "nbformat": 4,
 "nbformat_minor": 5
}
